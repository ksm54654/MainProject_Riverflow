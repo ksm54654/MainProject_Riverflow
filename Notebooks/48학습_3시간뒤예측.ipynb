{
  "nbformat": 4,
  "nbformat_minor": 0,
  "metadata": {
    "colab": {
      "provenance": [],
      "collapsed_sections": [
        "gbU1XksfeLt0"
      ],
      "toc_visible": true
    },
    "kernelspec": {
      "name": "python3",
      "display_name": "Python 3"
    },
    "language_info": {
      "name": "python"
    }
  },
  "cells": [
    {
      "cell_type": "markdown",
      "source": [
        "# ★3시간 후 예측\n",
        "\n"
      ],
      "metadata": {
        "id": "oHUZB9rTMi9A"
      }
    },
    {
      "cell_type": "code",
      "execution_count": null,
      "metadata": {
        "id": "MpxWVABdpPX-"
      },
      "outputs": [],
      "source": [
        "import numpy as np\n",
        "import pandas as pd\n",
        "import tensorflow as tf\n",
        "from sklearn.preprocessing import MinMaxScaler\n",
        "from tensorflow.keras.models import Sequential\n",
        "from tensorflow.keras.layers import LSTM, Dense\n",
        "import matplotlib.pyplot as plt"
      ]
    },
    {
      "cell_type": "code",
      "source": [
        "from keras.models import Model\n",
        "from keras.layers import Input, LSTM, Dense, concatenate\n",
        "from sklearn.model_selection import train_test_split\n",
        "from keras.models import load_model\n",
        "from tensorflow.keras.layers import Conv1D, MaxPooling1D, Flatten\n",
        "from tensorflow.keras.layers import Concatenate"
      ],
      "metadata": {
        "id": "xTMWXLEQpTYq"
      },
      "execution_count": null,
      "outputs": []
    },
    {
      "cell_type": "markdown",
      "source": [
        "# 데이터로드"
      ],
      "metadata": {
        "id": "mxBTzf-9pUDC"
      }
    },
    {
      "cell_type": "code",
      "source": [
        "df1 = pd.read_csv('21-01-01~22-12-31강진면.csv')"
      ],
      "metadata": {
        "id": "xatSfmtf_s94"
      },
      "execution_count": null,
      "outputs": []
    },
    {
      "cell_type": "code",
      "source": [
        "df2 = pd.read_csv('21-01-01~22-12-31신덕.csv')"
      ],
      "metadata": {
        "id": "4Mfq_Ci5_tcw"
      },
      "execution_count": null,
      "outputs": []
    },
    {
      "cell_type": "code",
      "source": [
        "df3 = pd.read_csv('21-01-01~22-12-31곡성.csv')"
      ],
      "metadata": {
        "id": "IcH58U2D_uwQ"
      },
      "execution_count": null,
      "outputs": []
    },
    {
      "cell_type": "code",
      "source": [
        "w_df = pd.read_csv('가탄교수위.csv')"
      ],
      "metadata": {
        "id": "5FjbCvgR1Dod"
      },
      "execution_count": null,
      "outputs": []
    },
    {
      "cell_type": "code",
      "source": [
        "print(df1.shape)\n",
        "print(df2.shape)\n",
        "print(df3.shape)\n",
        "print(w_df.shape)"
      ],
      "metadata": {
        "colab": {
          "base_uri": "https://localhost:8080/"
        },
        "id": "h9sphgkl1QF9",
        "outputId": "def207c4-79fd-4fc2-f40b-3b78ecb46ef5"
      },
      "execution_count": null,
      "outputs": [
        {
          "output_type": "stream",
          "name": "stdout",
          "text": [
            "(17520, 10)\n",
            "(17520, 10)\n",
            "(17520, 10)\n",
            "(17523, 2)\n"
          ]
        }
      ]
    },
    {
      "cell_type": "code",
      "source": [
        "w_df = w_df.loc[49:]"
      ],
      "metadata": {
        "id": "7BSC9bPVfh66"
      },
      "execution_count": null,
      "outputs": []
    },
    {
      "cell_type": "code",
      "source": [
        "w_df = w_df[:-1]"
      ],
      "metadata": {
        "id": "eOfsZ4Wj8AFz"
      },
      "execution_count": null,
      "outputs": []
    },
    {
      "cell_type": "code",
      "source": [
        "w_df"
      ],
      "metadata": {
        "colab": {
          "base_uri": "https://localhost:8080/",
          "height": 424
        },
        "id": "e5z4AfMlkxfv",
        "outputId": "a8f76046-058c-4a3b-f644-47514ef73e6c"
      },
      "execution_count": null,
      "outputs": [
        {
          "output_type": "execute_result",
          "data": {
            "text/plain": [
              "                     일시   수위\n",
              "49     2021-01-03 02:00  0.6\n",
              "50     2021-01-03 03:00  0.6\n",
              "51     2021-01-03 04:00  0.6\n",
              "52     2021-01-03 05:00  0.6\n",
              "53     2021-01-03 06:00  0.6\n",
              "...                 ...  ...\n",
              "17517  2022-12-31 22:00  0.6\n",
              "17518  2022-12-31 23:00  0.6\n",
              "17519  2022-12-31 24:00  0.6\n",
              "17520  2023-01-01 01:00  0.6\n",
              "17521  2023-01-01 02:00  0.6\n",
              "\n",
              "[17473 rows x 2 columns]"
            ],
            "text/html": [
              "\n",
              "  <div id=\"df-6691b64c-d15d-4bf8-8672-e943e518fd15\" class=\"colab-df-container\">\n",
              "    <div>\n",
              "<style scoped>\n",
              "    .dataframe tbody tr th:only-of-type {\n",
              "        vertical-align: middle;\n",
              "    }\n",
              "\n",
              "    .dataframe tbody tr th {\n",
              "        vertical-align: top;\n",
              "    }\n",
              "\n",
              "    .dataframe thead th {\n",
              "        text-align: right;\n",
              "    }\n",
              "</style>\n",
              "<table border=\"1\" class=\"dataframe\">\n",
              "  <thead>\n",
              "    <tr style=\"text-align: right;\">\n",
              "      <th></th>\n",
              "      <th>일시</th>\n",
              "      <th>수위</th>\n",
              "    </tr>\n",
              "  </thead>\n",
              "  <tbody>\n",
              "    <tr>\n",
              "      <th>49</th>\n",
              "      <td>2021-01-03 02:00</td>\n",
              "      <td>0.6</td>\n",
              "    </tr>\n",
              "    <tr>\n",
              "      <th>50</th>\n",
              "      <td>2021-01-03 03:00</td>\n",
              "      <td>0.6</td>\n",
              "    </tr>\n",
              "    <tr>\n",
              "      <th>51</th>\n",
              "      <td>2021-01-03 04:00</td>\n",
              "      <td>0.6</td>\n",
              "    </tr>\n",
              "    <tr>\n",
              "      <th>52</th>\n",
              "      <td>2021-01-03 05:00</td>\n",
              "      <td>0.6</td>\n",
              "    </tr>\n",
              "    <tr>\n",
              "      <th>53</th>\n",
              "      <td>2021-01-03 06:00</td>\n",
              "      <td>0.6</td>\n",
              "    </tr>\n",
              "    <tr>\n",
              "      <th>...</th>\n",
              "      <td>...</td>\n",
              "      <td>...</td>\n",
              "    </tr>\n",
              "    <tr>\n",
              "      <th>17517</th>\n",
              "      <td>2022-12-31 22:00</td>\n",
              "      <td>0.6</td>\n",
              "    </tr>\n",
              "    <tr>\n",
              "      <th>17518</th>\n",
              "      <td>2022-12-31 23:00</td>\n",
              "      <td>0.6</td>\n",
              "    </tr>\n",
              "    <tr>\n",
              "      <th>17519</th>\n",
              "      <td>2022-12-31 24:00</td>\n",
              "      <td>0.6</td>\n",
              "    </tr>\n",
              "    <tr>\n",
              "      <th>17520</th>\n",
              "      <td>2023-01-01 01:00</td>\n",
              "      <td>0.6</td>\n",
              "    </tr>\n",
              "    <tr>\n",
              "      <th>17521</th>\n",
              "      <td>2023-01-01 02:00</td>\n",
              "      <td>0.6</td>\n",
              "    </tr>\n",
              "  </tbody>\n",
              "</table>\n",
              "<p>17473 rows × 2 columns</p>\n",
              "</div>\n",
              "    <div class=\"colab-df-buttons\">\n",
              "\n",
              "  <div class=\"colab-df-container\">\n",
              "    <button class=\"colab-df-convert\" onclick=\"convertToInteractive('df-6691b64c-d15d-4bf8-8672-e943e518fd15')\"\n",
              "            title=\"Convert this dataframe to an interactive table.\"\n",
              "            style=\"display:none;\">\n",
              "\n",
              "  <svg xmlns=\"http://www.w3.org/2000/svg\" height=\"24px\" viewBox=\"0 -960 960 960\">\n",
              "    <path d=\"M120-120v-720h720v720H120Zm60-500h600v-160H180v160Zm220 220h160v-160H400v160Zm0 220h160v-160H400v160ZM180-400h160v-160H180v160Zm440 0h160v-160H620v160ZM180-180h160v-160H180v160Zm440 0h160v-160H620v160Z\"/>\n",
              "  </svg>\n",
              "    </button>\n",
              "\n",
              "  <style>\n",
              "    .colab-df-container {\n",
              "      display:flex;\n",
              "      gap: 12px;\n",
              "    }\n",
              "\n",
              "    .colab-df-convert {\n",
              "      background-color: #E8F0FE;\n",
              "      border: none;\n",
              "      border-radius: 50%;\n",
              "      cursor: pointer;\n",
              "      display: none;\n",
              "      fill: #1967D2;\n",
              "      height: 32px;\n",
              "      padding: 0 0 0 0;\n",
              "      width: 32px;\n",
              "    }\n",
              "\n",
              "    .colab-df-convert:hover {\n",
              "      background-color: #E2EBFA;\n",
              "      box-shadow: 0px 1px 2px rgba(60, 64, 67, 0.3), 0px 1px 3px 1px rgba(60, 64, 67, 0.15);\n",
              "      fill: #174EA6;\n",
              "    }\n",
              "\n",
              "    .colab-df-buttons div {\n",
              "      margin-bottom: 4px;\n",
              "    }\n",
              "\n",
              "    [theme=dark] .colab-df-convert {\n",
              "      background-color: #3B4455;\n",
              "      fill: #D2E3FC;\n",
              "    }\n",
              "\n",
              "    [theme=dark] .colab-df-convert:hover {\n",
              "      background-color: #434B5C;\n",
              "      box-shadow: 0px 1px 3px 1px rgba(0, 0, 0, 0.15);\n",
              "      filter: drop-shadow(0px 1px 2px rgba(0, 0, 0, 0.3));\n",
              "      fill: #FFFFFF;\n",
              "    }\n",
              "  </style>\n",
              "\n",
              "    <script>\n",
              "      const buttonEl =\n",
              "        document.querySelector('#df-6691b64c-d15d-4bf8-8672-e943e518fd15 button.colab-df-convert');\n",
              "      buttonEl.style.display =\n",
              "        google.colab.kernel.accessAllowed ? 'block' : 'none';\n",
              "\n",
              "      async function convertToInteractive(key) {\n",
              "        const element = document.querySelector('#df-6691b64c-d15d-4bf8-8672-e943e518fd15');\n",
              "        const dataTable =\n",
              "          await google.colab.kernel.invokeFunction('convertToInteractive',\n",
              "                                                    [key], {});\n",
              "        if (!dataTable) return;\n",
              "\n",
              "        const docLinkHtml = 'Like what you see? Visit the ' +\n",
              "          '<a target=\"_blank\" href=https://colab.research.google.com/notebooks/data_table.ipynb>data table notebook</a>'\n",
              "          + ' to learn more about interactive tables.';\n",
              "        element.innerHTML = '';\n",
              "        dataTable['output_type'] = 'display_data';\n",
              "        await google.colab.output.renderOutput(dataTable, element);\n",
              "        const docLink = document.createElement('div');\n",
              "        docLink.innerHTML = docLinkHtml;\n",
              "        element.appendChild(docLink);\n",
              "      }\n",
              "    </script>\n",
              "  </div>\n",
              "\n",
              "\n",
              "<div id=\"df-5f1335bb-eeb6-4093-9bf2-e0f1e3cc0da3\">\n",
              "  <button class=\"colab-df-quickchart\" onclick=\"quickchart('df-5f1335bb-eeb6-4093-9bf2-e0f1e3cc0da3')\"\n",
              "            title=\"Suggest charts.\"\n",
              "            style=\"display:none;\">\n",
              "\n",
              "<svg xmlns=\"http://www.w3.org/2000/svg\" height=\"24px\"viewBox=\"0 0 24 24\"\n",
              "     width=\"24px\">\n",
              "    <g>\n",
              "        <path d=\"M19 3H5c-1.1 0-2 .9-2 2v14c0 1.1.9 2 2 2h14c1.1 0 2-.9 2-2V5c0-1.1-.9-2-2-2zM9 17H7v-7h2v7zm4 0h-2V7h2v10zm4 0h-2v-4h2v4z\"/>\n",
              "    </g>\n",
              "</svg>\n",
              "  </button>\n",
              "\n",
              "<style>\n",
              "  .colab-df-quickchart {\n",
              "      --bg-color: #E8F0FE;\n",
              "      --fill-color: #1967D2;\n",
              "      --hover-bg-color: #E2EBFA;\n",
              "      --hover-fill-color: #174EA6;\n",
              "      --disabled-fill-color: #AAA;\n",
              "      --disabled-bg-color: #DDD;\n",
              "  }\n",
              "\n",
              "  [theme=dark] .colab-df-quickchart {\n",
              "      --bg-color: #3B4455;\n",
              "      --fill-color: #D2E3FC;\n",
              "      --hover-bg-color: #434B5C;\n",
              "      --hover-fill-color: #FFFFFF;\n",
              "      --disabled-bg-color: #3B4455;\n",
              "      --disabled-fill-color: #666;\n",
              "  }\n",
              "\n",
              "  .colab-df-quickchart {\n",
              "    background-color: var(--bg-color);\n",
              "    border: none;\n",
              "    border-radius: 50%;\n",
              "    cursor: pointer;\n",
              "    display: none;\n",
              "    fill: var(--fill-color);\n",
              "    height: 32px;\n",
              "    padding: 0;\n",
              "    width: 32px;\n",
              "  }\n",
              "\n",
              "  .colab-df-quickchart:hover {\n",
              "    background-color: var(--hover-bg-color);\n",
              "    box-shadow: 0 1px 2px rgba(60, 64, 67, 0.3), 0 1px 3px 1px rgba(60, 64, 67, 0.15);\n",
              "    fill: var(--button-hover-fill-color);\n",
              "  }\n",
              "\n",
              "  .colab-df-quickchart-complete:disabled,\n",
              "  .colab-df-quickchart-complete:disabled:hover {\n",
              "    background-color: var(--disabled-bg-color);\n",
              "    fill: var(--disabled-fill-color);\n",
              "    box-shadow: none;\n",
              "  }\n",
              "\n",
              "  .colab-df-spinner {\n",
              "    border: 2px solid var(--fill-color);\n",
              "    border-color: transparent;\n",
              "    border-bottom-color: var(--fill-color);\n",
              "    animation:\n",
              "      spin 1s steps(1) infinite;\n",
              "  }\n",
              "\n",
              "  @keyframes spin {\n",
              "    0% {\n",
              "      border-color: transparent;\n",
              "      border-bottom-color: var(--fill-color);\n",
              "      border-left-color: var(--fill-color);\n",
              "    }\n",
              "    20% {\n",
              "      border-color: transparent;\n",
              "      border-left-color: var(--fill-color);\n",
              "      border-top-color: var(--fill-color);\n",
              "    }\n",
              "    30% {\n",
              "      border-color: transparent;\n",
              "      border-left-color: var(--fill-color);\n",
              "      border-top-color: var(--fill-color);\n",
              "      border-right-color: var(--fill-color);\n",
              "    }\n",
              "    40% {\n",
              "      border-color: transparent;\n",
              "      border-right-color: var(--fill-color);\n",
              "      border-top-color: var(--fill-color);\n",
              "    }\n",
              "    60% {\n",
              "      border-color: transparent;\n",
              "      border-right-color: var(--fill-color);\n",
              "    }\n",
              "    80% {\n",
              "      border-color: transparent;\n",
              "      border-right-color: var(--fill-color);\n",
              "      border-bottom-color: var(--fill-color);\n",
              "    }\n",
              "    90% {\n",
              "      border-color: transparent;\n",
              "      border-bottom-color: var(--fill-color);\n",
              "    }\n",
              "  }\n",
              "</style>\n",
              "\n",
              "  <script>\n",
              "    async function quickchart(key) {\n",
              "      const quickchartButtonEl =\n",
              "        document.querySelector('#' + key + ' button');\n",
              "      quickchartButtonEl.disabled = true;  // To prevent multiple clicks.\n",
              "      quickchartButtonEl.classList.add('colab-df-spinner');\n",
              "      try {\n",
              "        const charts = await google.colab.kernel.invokeFunction(\n",
              "            'suggestCharts', [key], {});\n",
              "      } catch (error) {\n",
              "        console.error('Error during call to suggestCharts:', error);\n",
              "      }\n",
              "      quickchartButtonEl.classList.remove('colab-df-spinner');\n",
              "      quickchartButtonEl.classList.add('colab-df-quickchart-complete');\n",
              "    }\n",
              "    (() => {\n",
              "      let quickchartButtonEl =\n",
              "        document.querySelector('#df-5f1335bb-eeb6-4093-9bf2-e0f1e3cc0da3 button');\n",
              "      quickchartButtonEl.style.display =\n",
              "        google.colab.kernel.accessAllowed ? 'block' : 'none';\n",
              "    })();\n",
              "  </script>\n",
              "</div>\n",
              "    </div>\n",
              "  </div>\n"
            ]
          },
          "metadata": {},
          "execution_count": 46
        }
      ]
    },
    {
      "cell_type": "markdown",
      "source": [
        "# 데이터 전처리"
      ],
      "metadata": {
        "id": "AcEvfl9c1ZPf"
      }
    },
    {
      "cell_type": "code",
      "source": [
        "features = ['기온(°C)', '풍향(deg)', '풍속(m/s)', '강수량(mm)', '습도(%)']"
      ],
      "metadata": {
        "id": "ov3i3GpE1bL0"
      },
      "execution_count": null,
      "outputs": []
    },
    {
      "cell_type": "code",
      "source": [
        "test_df1 = df1[features].values\n",
        "test_df2 = df2[features].values\n",
        "test_df3 = df3[features].values"
      ],
      "metadata": {
        "id": "fp0TXQHv1eo9"
      },
      "execution_count": null,
      "outputs": []
    },
    {
      "cell_type": "code",
      "source": [
        "test_wdf = w_df[[\"수위\"]].values"
      ],
      "metadata": {
        "id": "a-MH0pAX1jTd"
      },
      "execution_count": null,
      "outputs": []
    },
    {
      "cell_type": "code",
      "source": [
        "print(test_df1.shape)\n",
        "print(test_df2.shape)\n",
        "print(test_df3.shape)\n",
        "print(test_wdf.shape)"
      ],
      "metadata": {
        "colab": {
          "base_uri": "https://localhost:8080/"
        },
        "id": "KLwRPFW91o_s",
        "outputId": "54f1c13b-a73c-4bfd-8712-38e40c3f782f"
      },
      "execution_count": null,
      "outputs": [
        {
          "output_type": "stream",
          "name": "stdout",
          "text": [
            "(17520, 5)\n",
            "(17520, 5)\n",
            "(17520, 5)\n",
            "(17473, 1)\n"
          ]
        }
      ]
    },
    {
      "cell_type": "code",
      "source": [
        "test_df3"
      ],
      "metadata": {
        "colab": {
          "base_uri": "https://localhost:8080/"
        },
        "id": "S3R5AuCoqatn",
        "outputId": "17eb61ef-6037-4b88-e178-f98e7e825928"
      },
      "execution_count": null,
      "outputs": [
        {
          "output_type": "execute_result",
          "data": {
            "text/plain": [
              "array([[-2.900e+00,  2.320e+01,  1.900e+00,  0.000e+00,  7.300e+01],\n",
              "       [-5.000e+00,  5.700e+00,  1.400e+00,  0.000e+00,  7.500e+01],\n",
              "       [-7.100e+00,  3.377e+02,  1.000e+00,  0.000e+00,  8.400e+01],\n",
              "       ...,\n",
              "       [-2.900e+00,  3.448e+02,  1.000e+00,  0.000e+00,  8.800e+01],\n",
              "       [-3.300e+00,  2.053e+02,  1.100e+00,  0.000e+00,  9.000e+01],\n",
              "       [-4.500e+00,  0.000e+00,  1.000e-01,  0.000e+00,  9.400e+01]])"
            ]
          },
          "metadata": {},
          "execution_count": 53
        }
      ]
    },
    {
      "cell_type": "markdown",
      "source": [
        "## 정규화"
      ],
      "metadata": {
        "id": "sfH_Svwc16VF"
      }
    },
    {
      "cell_type": "code",
      "source": [
        "# 정규화\n",
        "scaler = MinMaxScaler()\n",
        "\n",
        "# 상류 하천 데이터 정규화\n",
        "test_df1_z = scaler.fit_transform(test_df1)\n",
        "test_df2_z = scaler.fit_transform(test_df2)\n",
        "test_df3_z = scaler.fit_transform(test_df3)"
      ],
      "metadata": {
        "id": "UoypLMujAeXY"
      },
      "execution_count": null,
      "outputs": []
    },
    {
      "cell_type": "code",
      "source": [
        "scaler_water = MinMaxScaler()\n",
        "test_wdf_z = scaler_water.fit_transform(test_wdf)"
      ],
      "metadata": {
        "id": "kYyyYcSao2VW"
      },
      "execution_count": null,
      "outputs": []
    },
    {
      "cell_type": "code",
      "source": [
        "test_df1_z"
      ],
      "metadata": {
        "colab": {
          "base_uri": "https://localhost:8080/"
        },
        "id": "lSQM2Z3iAiII",
        "outputId": "d4f6f4cb-62c7-4efd-e002-b795e5336a0e"
      },
      "execution_count": null,
      "outputs": [
        {
          "output_type": "execute_result",
          "data": {
            "text/plain": [
              "array([[0.26987061, 0.69288703, 0.16666667, 0.        , 0.76744186],\n",
              "       [0.23844732, 0.76596932, 0.10784314, 0.        , 0.87209302],\n",
              "       [0.24214418, 0.83542538, 0.1372549 , 0.        , 0.86046512],\n",
              "       ...,\n",
              "       [0.30314233, 0.        , 0.00980392, 0.        , 0.94186047],\n",
              "       [0.29759704, 0.        , 0.00980392, 0.        , 0.94186047],\n",
              "       [0.2754159 , 0.19414226, 0.06862745, 0.        , 0.97674419]])"
            ]
          },
          "metadata": {},
          "execution_count": 17
        }
      ]
    },
    {
      "cell_type": "code",
      "source": [
        "test_wdf_z"
      ],
      "metadata": {
        "colab": {
          "base_uri": "https://localhost:8080/"
        },
        "id": "gna4opasAi_Q",
        "outputId": "70fd5454-162d-42d2-9e7d-da892d296af9"
      },
      "execution_count": null,
      "outputs": [
        {
          "output_type": "execute_result",
          "data": {
            "text/plain": [
              "array([[0.05668016],\n",
              "       [0.05668016],\n",
              "       [0.05668016],\n",
              "       ...,\n",
              "       [0.05668016],\n",
              "       [0.05668016],\n",
              "       [0.05668016]])"
            ]
          },
          "metadata": {},
          "execution_count": 18
        }
      ]
    },
    {
      "cell_type": "code",
      "source": [
        "print(test_df1_z.shape)\n",
        "print(test_df2_z.shape)\n",
        "print(test_df3_z.shape)\n",
        "print(test_wdf_z.shape)"
      ],
      "metadata": {
        "colab": {
          "base_uri": "https://localhost:8080/"
        },
        "id": "_pN6Xn1AAlRX",
        "outputId": "564a52b7-c7ee-432d-ad04-31d557989799"
      },
      "execution_count": null,
      "outputs": [
        {
          "output_type": "stream",
          "name": "stdout",
          "text": [
            "(17520, 5)\n",
            "(17520, 5)\n",
            "(17520, 5)\n",
            "(17473, 1)\n"
          ]
        }
      ]
    },
    {
      "cell_type": "markdown",
      "source": [
        "## 차원변환"
      ],
      "metadata": {
        "id": "E68zi0TaAn0G"
      }
    },
    {
      "cell_type": "code",
      "source": [
        "test_df1_z = test_df1\n",
        "test_df2_z = test_df2\n",
        "test_df3_z = test_df3\n",
        "test_wdf_z = test_wdf"
      ],
      "metadata": {
        "id": "sAdiCBAwAO44"
      },
      "execution_count": null,
      "outputs": []
    },
    {
      "cell_type": "code",
      "source": [
        "test_wdf_z"
      ],
      "metadata": {
        "colab": {
          "base_uri": "https://localhost:8080/"
        },
        "id": "jnsebh4FqpQ3",
        "outputId": "07ffb94d-727e-4d7d-a0bb-4d9e2eb8e6ac"
      },
      "execution_count": null,
      "outputs": [
        {
          "output_type": "execute_result",
          "data": {
            "text/plain": [
              "array([[0.6],\n",
              "       [0.6],\n",
              "       [0.6],\n",
              "       ...,\n",
              "       [0.6],\n",
              "       [0.6],\n",
              "       [0.6]])"
            ]
          },
          "metadata": {},
          "execution_count": 58
        }
      ]
    },
    {
      "cell_type": "markdown",
      "source": [
        "- 강진면"
      ],
      "metadata": {
        "id": "La2DHq8OA8qC"
      }
    },
    {
      "cell_type": "code",
      "source": [
        "time_steps = 48\n",
        "\n",
        "new_data = []\n",
        "\n",
        "for i in range(len(test_df1_z) - time_steps + 1):\n",
        "    batch = test_df1_z[i:i+time_steps]\n",
        "    new_data.append(batch)\n",
        "\n",
        "test_df1_re = np.array(new_data)"
      ],
      "metadata": {
        "id": "UHk91MhopVOb"
      },
      "execution_count": null,
      "outputs": []
    },
    {
      "cell_type": "code",
      "source": [
        "test_df1_re"
      ],
      "metadata": {
        "id": "uUvT65J90fhV"
      },
      "execution_count": null,
      "outputs": []
    },
    {
      "cell_type": "code",
      "source": [
        "test_df1_re.shape"
      ],
      "metadata": {
        "colab": {
          "base_uri": "https://localhost:8080/"
        },
        "id": "n1E0v-8N0chF",
        "outputId": "4554d64f-e2b3-4fe4-87cc-09b8b664e44b"
      },
      "execution_count": null,
      "outputs": [
        {
          "output_type": "execute_result",
          "data": {
            "text/plain": [
              "(17473, 48, 5)"
            ]
          },
          "metadata": {},
          "execution_count": 60
        }
      ]
    },
    {
      "cell_type": "markdown",
      "source": [
        "- 신덕"
      ],
      "metadata": {
        "id": "St_QtDPMA_ky"
      }
    },
    {
      "cell_type": "code",
      "source": [
        "new_data = []\n",
        "\n",
        "for i in range(len(test_df2_z) - time_steps + 1):\n",
        "    batch = test_df2_z[i:i+time_steps]\n",
        "    new_data.append(batch)\n",
        "\n",
        "test_df2_re = np.array(new_data)"
      ],
      "metadata": {
        "id": "OB3f4r390enl"
      },
      "execution_count": null,
      "outputs": []
    },
    {
      "cell_type": "code",
      "source": [
        "test_df2_re.shape"
      ],
      "metadata": {
        "colab": {
          "base_uri": "https://localhost:8080/"
        },
        "id": "_mOwB4iBBJwd",
        "outputId": "3b74b8ea-63df-4f1b-ca3d-05e9dd5bcf2e"
      },
      "execution_count": null,
      "outputs": [
        {
          "output_type": "execute_result",
          "data": {
            "text/plain": [
              "(17473, 48, 5)"
            ]
          },
          "metadata": {},
          "execution_count": 62
        }
      ]
    },
    {
      "cell_type": "markdown",
      "source": [
        "- 곡성"
      ],
      "metadata": {
        "id": "4U6Bbyc_BMJl"
      }
    },
    {
      "cell_type": "code",
      "source": [
        "new_data = []\n",
        "\n",
        "for i in range(len(test_df3_z) - time_steps + 1):\n",
        "    batch = test_df3_z[i:i+time_steps]\n",
        "    new_data.append(batch)\n",
        "\n",
        "test_df3_re = np.array(new_data)"
      ],
      "metadata": {
        "id": "VAF3IUhrBNXt"
      },
      "execution_count": null,
      "outputs": []
    },
    {
      "cell_type": "code",
      "source": [
        "test_df3_re.shape"
      ],
      "metadata": {
        "colab": {
          "base_uri": "https://localhost:8080/"
        },
        "id": "-LDuukTpBR-c",
        "outputId": "61bb31ec-219a-4aac-b58e-18757c93dfa0"
      },
      "execution_count": null,
      "outputs": [
        {
          "output_type": "execute_result",
          "data": {
            "text/plain": [
              "(17473, 48, 5)"
            ]
          },
          "metadata": {},
          "execution_count": 64
        }
      ]
    },
    {
      "cell_type": "code",
      "source": [
        "print(\"NumPy array dtype:\", test_df2_re.dtype)"
      ],
      "metadata": {
        "colab": {
          "base_uri": "https://localhost:8080/"
        },
        "id": "zMqE3KV8BSTT",
        "outputId": "258eae22-3e01-4a89-e2ef-bab2369af17e"
      },
      "execution_count": null,
      "outputs": [
        {
          "output_type": "stream",
          "name": "stdout",
          "text": [
            "NumPy array dtype: float64\n"
          ]
        }
      ]
    },
    {
      "cell_type": "markdown",
      "source": [
        "- 수위"
      ],
      "metadata": {
        "id": "CljMBCb_dT9l"
      }
    },
    {
      "cell_type": "code",
      "source": [
        "test_wdf_z.shape  # 위에서 변경함"
      ],
      "metadata": {
        "colab": {
          "base_uri": "https://localhost:8080/"
        },
        "id": "fM4R_zdHfAG5",
        "outputId": "8f44b8ba-5e81-4694-c49c-55d668b98de4"
      },
      "execution_count": null,
      "outputs": [
        {
          "output_type": "execute_result",
          "data": {
            "text/plain": [
              "(17473, 1)"
            ]
          },
          "metadata": {},
          "execution_count": 66
        }
      ]
    },
    {
      "cell_type": "markdown",
      "source": [
        "# 모델"
      ],
      "metadata": {
        "id": "y1xCOnNRBejC"
      }
    },
    {
      "cell_type": "markdown",
      "source": [
        "- CNN_Lstm"
      ],
      "metadata": {
        "id": "6p5xu_6WBkdL"
      }
    },
    {
      "cell_type": "code",
      "source": [
        "num_top = 3  # 상류 하천의 수\n",
        "time_steps = 48\n",
        "# 모델의 입력 레이어 정의\n",
        "input_layers = []\n",
        "input_shape = (time_steps, 5)\n",
        "for i in range(num_top):\n",
        "    input_layer = Input(shape=input_shape, name=f'aws_{i+1}')\n",
        "    input_layers.append(input_layer)\n",
        "\n",
        "# CNN 레이어 정의\n",
        "cnn_layers = []\n",
        "for i in range(num_top):\n",
        "    cnn_layer = Conv1D(filters=64, kernel_size=3, activation='relu')(input_layers[i])\n",
        "    cnn_layer = MaxPooling1D(pool_size=2)(cnn_layer)\n",
        "    cnn_layer = Flatten()(cnn_layer)\n",
        "    cnn_layers.append(cnn_layer)\n",
        "\n",
        "concatenated_outputs = Concatenate()(cnn_layers)\n",
        "lstm_input = tf.keras.layers.Reshape((num_top, -1))(concatenated_outputs)  # LSTM에 입력하기 위해 차원 재구성\n",
        "\n",
        "\n",
        "lstm_layer = LSTM(32, activation='relu')(lstm_input)\n",
        "\n",
        "output_layer = Dense(1, activation='linear', name='water')(lstm_layer)"
      ],
      "metadata": {
        "id": "mVU2C96eBfb8"
      },
      "execution_count": null,
      "outputs": []
    },
    {
      "cell_type": "code",
      "source": [
        "# 모델 컴파일\n",
        "model = Model(inputs=input_layers, outputs=output_layer)\n",
        "model.compile(optimizer='adam', loss='mse', metrics=['mae'])\n",
        "\n",
        "model.summary()"
      ],
      "metadata": {
        "colab": {
          "base_uri": "https://localhost:8080/"
        },
        "id": "hdxFO1bkBq4T",
        "outputId": "5c76626f-7168-4faa-aac4-3a99511227ff"
      },
      "execution_count": null,
      "outputs": [
        {
          "output_type": "stream",
          "name": "stdout",
          "text": [
            "Model: \"model_1\"\n",
            "__________________________________________________________________________________________________\n",
            " Layer (type)                Output Shape                 Param #   Connected to                  \n",
            "==================================================================================================\n",
            " aws_1 (InputLayer)          [(None, 48, 5)]              0         []                            \n",
            "                                                                                                  \n",
            " aws_2 (InputLayer)          [(None, 48, 5)]              0         []                            \n",
            "                                                                                                  \n",
            " aws_3 (InputLayer)          [(None, 48, 5)]              0         []                            \n",
            "                                                                                                  \n",
            " conv1d_3 (Conv1D)           (None, 46, 64)               1024      ['aws_1[0][0]']               \n",
            "                                                                                                  \n",
            " conv1d_4 (Conv1D)           (None, 46, 64)               1024      ['aws_2[0][0]']               \n",
            "                                                                                                  \n",
            " conv1d_5 (Conv1D)           (None, 46, 64)               1024      ['aws_3[0][0]']               \n",
            "                                                                                                  \n",
            " max_pooling1d_3 (MaxPoolin  (None, 23, 64)               0         ['conv1d_3[0][0]']            \n",
            " g1D)                                                                                             \n",
            "                                                                                                  \n",
            " max_pooling1d_4 (MaxPoolin  (None, 23, 64)               0         ['conv1d_4[0][0]']            \n",
            " g1D)                                                                                             \n",
            "                                                                                                  \n",
            " max_pooling1d_5 (MaxPoolin  (None, 23, 64)               0         ['conv1d_5[0][0]']            \n",
            " g1D)                                                                                             \n",
            "                                                                                                  \n",
            " flatten_3 (Flatten)         (None, 1472)                 0         ['max_pooling1d_3[0][0]']     \n",
            "                                                                                                  \n",
            " flatten_4 (Flatten)         (None, 1472)                 0         ['max_pooling1d_4[0][0]']     \n",
            "                                                                                                  \n",
            " flatten_5 (Flatten)         (None, 1472)                 0         ['max_pooling1d_5[0][0]']     \n",
            "                                                                                                  \n",
            " concatenate_1 (Concatenate  (None, 4416)                 0         ['flatten_3[0][0]',           \n",
            " )                                                                   'flatten_4[0][0]',           \n",
            "                                                                     'flatten_5[0][0]']           \n",
            "                                                                                                  \n",
            " reshape_1 (Reshape)         (None, 3, 1472)              0         ['concatenate_1[0][0]']       \n",
            "                                                                                                  \n",
            " lstm_1 (LSTM)               (None, 32)                   192640    ['reshape_1[0][0]']           \n",
            "                                                                                                  \n",
            " water (Dense)               (None, 1)                    33        ['lstm_1[0][0]']              \n",
            "                                                                                                  \n",
            "==================================================================================================\n",
            "Total params: 195745 (764.63 KB)\n",
            "Trainable params: 195745 (764.63 KB)\n",
            "Non-trainable params: 0 (0.00 Byte)\n",
            "__________________________________________________________________________________________________\n"
          ]
        }
      ]
    },
    {
      "cell_type": "markdown",
      "source": [
        "# 학습"
      ],
      "metadata": {
        "id": "rePNfKgBBsCj"
      }
    },
    {
      "cell_type": "code",
      "source": [
        "from keras.callbacks import EarlyStopping, ModelCheckpoint\n",
        "callback = EarlyStopping( monitor='loss',\n",
        "                          patience = 50,\n",
        "                          verbose = 2,\n",
        "                          restore_best_weights = True)"
      ],
      "metadata": {
        "id": "03L_qCTmpHtS"
      },
      "execution_count": null,
      "outputs": []
    },
    {
      "cell_type": "code",
      "source": [
        "model.fit([test_df1_re, test_df2_re, test_df3_re], test_wdf_z, epochs=1000, batch_size=32, callbacks = [callback])"
      ],
      "metadata": {
        "colab": {
          "base_uri": "https://localhost:8080/"
        },
        "id": "x2k45xg8Bs2k",
        "outputId": "60f8569c-6349-4179-cb25-94e33122313c"
      },
      "execution_count": null,
      "outputs": [
        {
          "output_type": "stream",
          "name": "stdout",
          "text": [
            "Epoch 1/1000\n",
            "547/547 [==============================] - 11s 16ms/step - loss: 5.9737 - mae: 0.3519\n",
            "Epoch 2/1000\n",
            "547/547 [==============================] - 9s 16ms/step - loss: 0.0351 - mae: 0.1301\n",
            "Epoch 3/1000\n",
            "547/547 [==============================] - 8s 14ms/step - loss: 0.0317 - mae: 0.1234\n",
            "Epoch 4/1000\n",
            "547/547 [==============================] - 9s 16ms/step - loss: 0.0295 - mae: 0.1186\n",
            "Epoch 5/1000\n",
            "547/547 [==============================] - 8s 14ms/step - loss: 0.0275 - mae: 0.1148\n",
            "Epoch 6/1000\n",
            "547/547 [==============================] - 8s 15ms/step - loss: 0.0255 - mae: 0.1100\n",
            "Epoch 7/1000\n",
            "547/547 [==============================] - 9s 17ms/step - loss: 0.0250 - mae: 0.1085\n",
            "Epoch 8/1000\n",
            "547/547 [==============================] - 7s 13ms/step - loss: 0.0238 - mae: 0.1050\n",
            "Epoch 9/1000\n",
            "547/547 [==============================] - 9s 16ms/step - loss: 0.0237 - mae: 0.1048\n",
            "Epoch 10/1000\n",
            "547/547 [==============================] - 9s 16ms/step - loss: 0.0226 - mae: 0.1020\n",
            "Epoch 11/1000\n",
            "547/547 [==============================] - 8s 14ms/step - loss: 0.0223 - mae: 0.1012\n",
            "Epoch 12/1000\n",
            "547/547 [==============================] - 9s 16ms/step - loss: 0.0208 - mae: 0.0982\n",
            "Epoch 13/1000\n",
            "547/547 [==============================] - 9s 16ms/step - loss: 0.0196 - mae: 0.0962\n",
            "Epoch 14/1000\n",
            "547/547 [==============================] - 9s 16ms/step - loss: 0.0175 - mae: 0.0927\n",
            "Epoch 15/1000\n",
            "547/547 [==============================] - 9s 16ms/step - loss: 0.0152 - mae: 0.0874\n",
            "Epoch 16/1000\n",
            "547/547 [==============================] - 9s 16ms/step - loss: 0.0161 - mae: 0.0905\n",
            "Epoch 17/1000\n",
            "547/547 [==============================] - 7s 14ms/step - loss: 0.0134 - mae: 0.0827\n",
            "Epoch 18/1000\n",
            "547/547 [==============================] - 9s 16ms/step - loss: 0.0125 - mae: 0.0810\n",
            "Epoch 19/1000\n",
            "547/547 [==============================] - 9s 16ms/step - loss: 0.0131 - mae: 0.0826\n",
            "Epoch 20/1000\n",
            "547/547 [==============================] - 7s 14ms/step - loss: 0.0119 - mae: 0.0791\n",
            "Epoch 21/1000\n",
            "547/547 [==============================] - 9s 16ms/step - loss: 0.0117 - mae: 0.0783\n",
            "Epoch 22/1000\n",
            "547/547 [==============================] - 8s 15ms/step - loss: 0.0120 - mae: 0.0796\n",
            "Epoch 23/1000\n",
            "547/547 [==============================] - 8s 15ms/step - loss: 0.0123 - mae: 0.0812\n",
            "Epoch 24/1000\n",
            "547/547 [==============================] - 9s 16ms/step - loss: 0.0106 - mae: 0.0748\n",
            "Epoch 25/1000\n",
            "547/547 [==============================] - 7s 14ms/step - loss: 0.0107 - mae: 0.0756\n",
            "Epoch 26/1000\n",
            "547/547 [==============================] - 9s 16ms/step - loss: 0.0104 - mae: 0.0741\n",
            "Epoch 27/1000\n",
            "547/547 [==============================] - 9s 16ms/step - loss: 0.0104 - mae: 0.0748\n",
            "Epoch 28/1000\n",
            "547/547 [==============================] - 7s 14ms/step - loss: 0.0103 - mae: 0.0738\n",
            "Epoch 29/1000\n",
            "547/547 [==============================] - 9s 16ms/step - loss: 0.0102 - mae: 0.0738\n",
            "Epoch 30/1000\n",
            "547/547 [==============================] - 9s 16ms/step - loss: 0.0101 - mae: 0.0733\n",
            "Epoch 31/1000\n",
            "547/547 [==============================] - 8s 14ms/step - loss: 0.0094 - mae: 0.0708\n",
            "Epoch 32/1000\n",
            "547/547 [==============================] - 9s 16ms/step - loss: 0.0097 - mae: 0.0725\n",
            "Epoch 33/1000\n",
            "547/547 [==============================] - 8s 15ms/step - loss: 0.0098 - mae: 0.0719\n",
            "Epoch 34/1000\n",
            "547/547 [==============================] - 8s 14ms/step - loss: 0.0094 - mae: 0.0714\n",
            "Epoch 35/1000\n",
            "547/547 [==============================] - 9s 16ms/step - loss: 0.0093 - mae: 0.0710\n",
            "Epoch 36/1000\n",
            "547/547 [==============================] - 8s 14ms/step - loss: 0.0235 - mae: 0.0888\n",
            "Epoch 37/1000\n",
            "547/547 [==============================] - 8s 15ms/step - loss: 0.0140 - mae: 0.0808\n",
            "Epoch 38/1000\n",
            "547/547 [==============================] - 9s 16ms/step - loss: 0.0127 - mae: 0.0774\n",
            "Epoch 39/1000\n",
            "547/547 [==============================] - 8s 14ms/step - loss: 0.0119 - mae: 0.0760\n",
            "Epoch 40/1000\n",
            "547/547 [==============================] - 9s 16ms/step - loss: 0.0116 - mae: 0.0758\n",
            "Epoch 41/1000\n",
            "547/547 [==============================] - 9s 16ms/step - loss: 0.0112 - mae: 0.0746\n",
            "Epoch 42/1000\n",
            "547/547 [==============================] - 7s 14ms/step - loss: 0.0109 - mae: 0.0739\n",
            "Epoch 43/1000\n",
            "547/547 [==============================] - 9s 16ms/step - loss: 0.0114 - mae: 0.0751\n",
            "Epoch 44/1000\n",
            "547/547 [==============================] - 9s 16ms/step - loss: 0.0111 - mae: 0.0745\n",
            "Epoch 45/1000\n",
            "547/547 [==============================] - 7s 14ms/step - loss: 0.0104 - mae: 0.0725\n",
            "Epoch 46/1000\n",
            "547/547 [==============================] - 9s 16ms/step - loss: 0.0104 - mae: 0.0723\n",
            "Epoch 47/1000\n",
            "547/547 [==============================] - 8s 15ms/step - loss: 0.0106 - mae: 0.0729\n",
            "Epoch 48/1000\n",
            "547/547 [==============================] - 8s 15ms/step - loss: 0.0101 - mae: 0.0712\n",
            "Epoch 49/1000\n",
            "547/547 [==============================] - 9s 16ms/step - loss: 0.0114 - mae: 0.0747\n",
            "Epoch 50/1000\n",
            "547/547 [==============================] - 8s 14ms/step - loss: 0.0104 - mae: 0.0720\n",
            "Epoch 51/1000\n",
            "547/547 [==============================] - 9s 16ms/step - loss: 0.0105 - mae: 0.0723\n",
            "Epoch 52/1000\n",
            "547/547 [==============================] - 9s 16ms/step - loss: 0.0099 - mae: 0.0710\n",
            "Epoch 53/1000\n",
            "547/547 [==============================] - 7s 14ms/step - loss: 0.0102 - mae: 0.0716\n",
            "Epoch 54/1000\n",
            "547/547 [==============================] - 9s 16ms/step - loss: 0.0100 - mae: 0.0706\n",
            "Epoch 55/1000\n",
            "547/547 [==============================] - 9s 16ms/step - loss: 0.0096 - mae: 0.0696\n",
            "Epoch 56/1000\n",
            "547/547 [==============================] - 8s 14ms/step - loss: 0.0116 - mae: 0.0740\n",
            "Epoch 57/1000\n",
            "547/547 [==============================] - 9s 16ms/step - loss: 0.0108 - mae: 0.0737\n",
            "Epoch 58/1000\n",
            "547/547 [==============================] - 9s 16ms/step - loss: 0.0097 - mae: 0.0699\n",
            "Epoch 59/1000\n",
            "547/547 [==============================] - 8s 14ms/step - loss: 0.0101 - mae: 0.0718\n",
            "Epoch 60/1000\n",
            "547/547 [==============================] - 9s 16ms/step - loss: 0.0103 - mae: 0.0704\n",
            "Epoch 61/1000\n",
            "547/547 [==============================] - 8s 15ms/step - loss: 0.0125 - mae: 0.0790\n",
            "Epoch 62/1000\n",
            "547/547 [==============================] - 8s 15ms/step - loss: 0.0105 - mae: 0.0725\n",
            "Epoch 63/1000\n",
            "547/547 [==============================] - 8s 15ms/step - loss: 0.0099 - mae: 0.0705\n",
            "Epoch 64/1000\n",
            "547/547 [==============================] - 7s 14ms/step - loss: 0.0098 - mae: 0.0703\n",
            "Epoch 65/1000\n",
            "547/547 [==============================] - 9s 16ms/step - loss: 0.0093 - mae: 0.0687\n",
            "Epoch 66/1000\n",
            "547/547 [==============================] - 9s 16ms/step - loss: 0.0093 - mae: 0.0688\n",
            "Epoch 67/1000\n",
            "547/547 [==============================] - 8s 14ms/step - loss: 0.0092 - mae: 0.0687\n",
            "Epoch 68/1000\n",
            "547/547 [==============================] - 9s 16ms/step - loss: 0.0092 - mae: 0.0684\n",
            "Epoch 69/1000\n",
            "547/547 [==============================] - 9s 16ms/step - loss: 0.0090 - mae: 0.0682\n",
            "Epoch 70/1000\n",
            "547/547 [==============================] - 7s 14ms/step - loss: 0.0086 - mae: 0.0666\n",
            "Epoch 71/1000\n",
            "547/547 [==============================] - 9s 16ms/step - loss: 0.0087 - mae: 0.0666\n",
            "Epoch 72/1000\n",
            "547/547 [==============================] - 8s 14ms/step - loss: 0.0091 - mae: 0.0681\n",
            "Epoch 73/1000\n",
            "547/547 [==============================] - 8s 15ms/step - loss: 0.0086 - mae: 0.0665\n",
            "Epoch 74/1000\n",
            "547/547 [==============================] - 9s 16ms/step - loss: 0.0084 - mae: 0.0658\n",
            "Epoch 75/1000\n",
            "547/547 [==============================] - 7s 13ms/step - loss: 0.0085 - mae: 0.0658\n",
            "Epoch 76/1000\n",
            "547/547 [==============================] - 9s 16ms/step - loss: 0.0083 - mae: 0.0655\n",
            "Epoch 77/1000\n",
            "547/547 [==============================] - 9s 16ms/step - loss: 0.0086 - mae: 0.0667\n",
            "Epoch 78/1000\n",
            "547/547 [==============================] - 7s 14ms/step - loss: 0.0092 - mae: 0.0684\n",
            "Epoch 79/1000\n",
            "547/547 [==============================] - 9s 16ms/step - loss: 0.0083 - mae: 0.0655\n",
            "Epoch 80/1000\n",
            "547/547 [==============================] - 9s 16ms/step - loss: 0.0085 - mae: 0.0660\n",
            "Epoch 81/1000\n",
            "547/547 [==============================] - 7s 14ms/step - loss: 0.0083 - mae: 0.0651\n",
            "Epoch 82/1000\n",
            "547/547 [==============================] - 8s 15ms/step - loss: 0.0080 - mae: 0.0643\n",
            "Epoch 83/1000\n",
            "547/547 [==============================] - 8s 14ms/step - loss: 0.0080 - mae: 0.0644\n",
            "Epoch 84/1000\n",
            "547/547 [==============================] - 8s 15ms/step - loss: 0.0081 - mae: 0.0643\n",
            "Epoch 85/1000\n",
            "547/547 [==============================] - 9s 16ms/step - loss: 0.0081 - mae: 0.0643\n",
            "Epoch 86/1000\n",
            "547/547 [==============================] - 7s 14ms/step - loss: 0.0078 - mae: 0.0634\n",
            "Epoch 87/1000\n",
            "547/547 [==============================] - 9s 16ms/step - loss: 0.0079 - mae: 0.0634\n",
            "Epoch 88/1000\n",
            "547/547 [==============================] - 8s 16ms/step - loss: 0.0079 - mae: 0.0635\n",
            "Epoch 89/1000\n",
            "547/547 [==============================] - 7s 14ms/step - loss: 0.0075 - mae: 0.0625\n",
            "Epoch 90/1000\n",
            "547/547 [==============================] - 9s 16ms/step - loss: 0.0076 - mae: 0.0624\n",
            "Epoch 91/1000\n",
            "547/547 [==============================] - 9s 16ms/step - loss: 0.0084 - mae: 0.0648\n",
            "Epoch 92/1000\n",
            "547/547 [==============================] - 7s 14ms/step - loss: 0.0077 - mae: 0.0627\n",
            "Epoch 93/1000\n",
            "547/547 [==============================] - 9s 16ms/step - loss: 0.0077 - mae: 0.0629\n",
            "Epoch 94/1000\n",
            "547/547 [==============================] - 8s 15ms/step - loss: 0.0077 - mae: 0.0628\n",
            "Epoch 95/1000\n",
            "547/547 [==============================] - 8s 14ms/step - loss: 0.0073 - mae: 0.0616\n",
            "Epoch 96/1000\n",
            "547/547 [==============================] - 9s 16ms/step - loss: 0.0075 - mae: 0.0620\n",
            "Epoch 97/1000\n",
            "547/547 [==============================] - 7s 14ms/step - loss: 0.0072 - mae: 0.0612\n",
            "Epoch 98/1000\n",
            "547/547 [==============================] - 9s 16ms/step - loss: 0.0073 - mae: 0.0617\n",
            "Epoch 99/1000\n",
            "547/547 [==============================] - 9s 16ms/step - loss: 0.0075 - mae: 0.0621\n",
            "Epoch 100/1000\n",
            "547/547 [==============================] - 7s 14ms/step - loss: 0.0072 - mae: 0.0615\n",
            "Epoch 101/1000\n",
            "547/547 [==============================] - 9s 16ms/step - loss: 0.0075 - mae: 0.0622\n",
            "Epoch 102/1000\n",
            "547/547 [==============================] - 9s 16ms/step - loss: 0.0072 - mae: 0.0611\n",
            "Epoch 103/1000\n",
            "547/547 [==============================] - 7s 14ms/step - loss: 0.0073 - mae: 0.0613\n",
            "Epoch 104/1000\n",
            "547/547 [==============================] - 9s 16ms/step - loss: 0.0074 - mae: 0.0618\n",
            "Epoch 105/1000\n",
            "547/547 [==============================] - 8s 15ms/step - loss: 0.0070 - mae: 0.0603\n",
            "Epoch 106/1000\n",
            "547/547 [==============================] - 8s 15ms/step - loss: 0.0073 - mae: 0.0616\n",
            "Epoch 107/1000\n",
            "547/547 [==============================] - 9s 16ms/step - loss: 0.0073 - mae: 0.0612\n",
            "Epoch 108/1000\n",
            "547/547 [==============================] - 8s 14ms/step - loss: 0.0073 - mae: 0.0614\n",
            "Epoch 109/1000\n",
            "547/547 [==============================] - 9s 16ms/step - loss: 0.0073 - mae: 0.0615\n",
            "Epoch 110/1000\n",
            "547/547 [==============================] - 9s 16ms/step - loss: 0.0069 - mae: 0.0602\n",
            "Epoch 111/1000\n",
            "547/547 [==============================] - 8s 14ms/step - loss: 0.0069 - mae: 0.0602\n",
            "Epoch 112/1000\n",
            "547/547 [==============================] - 9s 16ms/step - loss: 0.0070 - mae: 0.0604\n",
            "Epoch 113/1000\n",
            "547/547 [==============================] - 9s 16ms/step - loss: 0.0068 - mae: 0.0597\n",
            "Epoch 114/1000\n",
            "547/547 [==============================] - 8s 14ms/step - loss: 0.0069 - mae: 0.0599\n",
            "Epoch 115/1000\n",
            "547/547 [==============================] - 9s 16ms/step - loss: 0.0072 - mae: 0.0611\n",
            "Epoch 116/1000\n",
            "547/547 [==============================] - 9s 16ms/step - loss: 0.0068 - mae: 0.0599\n",
            "Epoch 117/1000\n",
            "547/547 [==============================] - 8s 14ms/step - loss: 0.0067 - mae: 0.0590\n",
            "Epoch 118/1000\n",
            "547/547 [==============================] - 9s 16ms/step - loss: 0.0111 - mae: 0.0662\n",
            "Epoch 119/1000\n",
            "547/547 [==============================] - 8s 14ms/step - loss: 0.0079 - mae: 0.0642\n",
            "Epoch 120/1000\n",
            "547/547 [==============================] - 8s 15ms/step - loss: 0.0072 - mae: 0.0611\n",
            "Epoch 121/1000\n",
            "547/547 [==============================] - 9s 16ms/step - loss: 0.0068 - mae: 0.0601\n",
            "Epoch 122/1000\n",
            "547/547 [==============================] - 7s 14ms/step - loss: 0.0068 - mae: 0.0600\n",
            "Epoch 123/1000\n",
            "547/547 [==============================] - 9s 16ms/step - loss: 0.0066 - mae: 0.0592\n",
            "Epoch 124/1000\n",
            "547/547 [==============================] - 9s 16ms/step - loss: 0.0072 - mae: 0.0613\n",
            "Epoch 125/1000\n",
            "547/547 [==============================] - 7s 14ms/step - loss: 0.0098 - mae: 0.0661\n",
            "Epoch 126/1000\n",
            "547/547 [==============================] - 9s 16ms/step - loss: 0.0071 - mae: 0.0610\n",
            "Epoch 127/1000\n",
            "547/547 [==============================] - 9s 16ms/step - loss: 0.0067 - mae: 0.0598\n",
            "Epoch 128/1000\n",
            "547/547 [==============================] - 8s 14ms/step - loss: 0.0065 - mae: 0.0588\n",
            "Epoch 129/1000\n",
            "547/547 [==============================] - 9s 16ms/step - loss: 0.0068 - mae: 0.0599\n",
            "Epoch 130/1000\n",
            "547/547 [==============================] - 8s 15ms/step - loss: 0.0066 - mae: 0.0586\n",
            "Epoch 131/1000\n",
            "547/547 [==============================] - 8s 14ms/step - loss: 0.0067 - mae: 0.0593\n",
            "Epoch 132/1000\n",
            "547/547 [==============================] - 9s 16ms/step - loss: 0.0067 - mae: 0.0595\n",
            "Epoch 133/1000\n",
            "547/547 [==============================] - 8s 14ms/step - loss: 0.0066 - mae: 0.0591\n",
            "Epoch 134/1000\n",
            "547/547 [==============================] - 9s 16ms/step - loss: 0.0063 - mae: 0.0579\n",
            "Epoch 135/1000\n",
            "547/547 [==============================] - 9s 16ms/step - loss: 0.0064 - mae: 0.0578\n",
            "Epoch 136/1000\n",
            "547/547 [==============================] - 8s 14ms/step - loss: 0.0065 - mae: 0.0589\n",
            "Epoch 137/1000\n",
            "547/547 [==============================] - 9s 16ms/step - loss: 0.0065 - mae: 0.0586\n",
            "Epoch 138/1000\n",
            "547/547 [==============================] - 9s 16ms/step - loss: 0.0063 - mae: 0.0573\n",
            "Epoch 139/1000\n",
            "547/547 [==============================] - 8s 14ms/step - loss: 0.0066 - mae: 0.0591\n",
            "Epoch 140/1000\n",
            "547/547 [==============================] - 9s 16ms/step - loss: 0.0064 - mae: 0.0582\n",
            "Epoch 141/1000\n",
            "547/547 [==============================] - 9s 16ms/step - loss: 0.0067 - mae: 0.0598\n",
            "Epoch 142/1000\n",
            "547/547 [==============================] - 7s 14ms/step - loss: 0.0063 - mae: 0.0576\n",
            "Epoch 143/1000\n",
            "547/547 [==============================] - 9s 16ms/step - loss: 0.0063 - mae: 0.0575\n",
            "Epoch 144/1000\n",
            "547/547 [==============================] - 8s 15ms/step - loss: 0.0063 - mae: 0.0580\n",
            "Epoch 145/1000\n",
            "547/547 [==============================] - 8s 14ms/step - loss: 0.0062 - mae: 0.0571\n",
            "Epoch 146/1000\n",
            "547/547 [==============================] - 9s 16ms/step - loss: 0.0064 - mae: 0.0582\n",
            "Epoch 147/1000\n",
            "547/547 [==============================] - 8s 14ms/step - loss: 0.0063 - mae: 0.0581\n",
            "Epoch 148/1000\n",
            "547/547 [==============================] - 8s 15ms/step - loss: 0.0062 - mae: 0.0571\n",
            "Epoch 149/1000\n",
            "547/547 [==============================] - 9s 16ms/step - loss: 0.0063 - mae: 0.0575\n",
            "Epoch 150/1000\n",
            "547/547 [==============================] - 8s 14ms/step - loss: 0.0061 - mae: 0.0572\n",
            "Epoch 151/1000\n",
            "547/547 [==============================] - 9s 16ms/step - loss: 0.0060 - mae: 0.0566\n",
            "Epoch 152/1000\n",
            "547/547 [==============================] - 9s 16ms/step - loss: 0.0064 - mae: 0.0580\n",
            "Epoch 153/1000\n",
            "547/547 [==============================] - 8s 14ms/step - loss: 0.0060 - mae: 0.0567\n",
            "Epoch 154/1000\n",
            "547/547 [==============================] - 9s 16ms/step - loss: 0.0061 - mae: 0.0573\n",
            "Epoch 155/1000\n",
            "547/547 [==============================] - 9s 16ms/step - loss: 0.0063 - mae: 0.0579\n",
            "Epoch 156/1000\n",
            "547/547 [==============================] - 8s 14ms/step - loss: 0.0061 - mae: 0.0570\n",
            "Epoch 157/1000\n",
            "547/547 [==============================] - 9s 16ms/step - loss: 0.0063 - mae: 0.0578\n",
            "Epoch 158/1000\n",
            "547/547 [==============================] - 8s 15ms/step - loss: 0.0061 - mae: 0.0569\n",
            "Epoch 159/1000\n",
            "547/547 [==============================] - 8s 15ms/step - loss: 0.0061 - mae: 0.0573\n",
            "Epoch 160/1000\n",
            "547/547 [==============================] - 9s 16ms/step - loss: 0.0060 - mae: 0.0562\n",
            "Epoch 161/1000\n",
            "547/547 [==============================] - 8s 15ms/step - loss: 0.0059 - mae: 0.0562\n",
            "Epoch 162/1000\n",
            "547/547 [==============================] - 8s 15ms/step - loss: 0.0062 - mae: 0.0575\n",
            "Epoch 163/1000\n",
            "547/547 [==============================] - 9s 16ms/step - loss: 0.0060 - mae: 0.0562\n",
            "Epoch 164/1000\n",
            "547/547 [==============================] - 8s 14ms/step - loss: 0.0062 - mae: 0.0577\n",
            "Epoch 165/1000\n",
            "547/547 [==============================] - 9s 16ms/step - loss: 0.0060 - mae: 0.0568\n",
            "Epoch 166/1000\n",
            "547/547 [==============================] - 9s 16ms/step - loss: 0.0061 - mae: 0.0566\n",
            "Epoch 167/1000\n",
            "547/547 [==============================] - 8s 14ms/step - loss: 0.0060 - mae: 0.0567\n",
            "Epoch 168/1000\n",
            "547/547 [==============================] - 9s 16ms/step - loss: 0.0063 - mae: 0.0576\n",
            "Epoch 169/1000\n",
            "547/547 [==============================] - 9s 16ms/step - loss: 0.0062 - mae: 0.0573\n",
            "Epoch 170/1000\n",
            "547/547 [==============================] - 8s 14ms/step - loss: 0.0060 - mae: 0.0564\n",
            "Epoch 171/1000\n",
            "547/547 [==============================] - 9s 16ms/step - loss: 0.0062 - mae: 0.0576\n",
            "Epoch 172/1000\n",
            "547/547 [==============================] - 8s 15ms/step - loss: 0.0060 - mae: 0.0570\n",
            "Epoch 173/1000\n",
            "547/547 [==============================] - 8s 14ms/step - loss: 0.0061 - mae: 0.0571\n",
            "Epoch 174/1000\n",
            "547/547 [==============================] - 9s 16ms/step - loss: 0.0060 - mae: 0.0567\n",
            "Epoch 175/1000\n",
            "547/547 [==============================] - 8s 14ms/step - loss: 0.0065 - mae: 0.0585\n",
            "Epoch 176/1000\n",
            "547/547 [==============================] - 8s 15ms/step - loss: 0.0062 - mae: 0.0576\n",
            "Epoch 177/1000\n",
            "547/547 [==============================] - 9s 16ms/step - loss: 0.0060 - mae: 0.0569\n",
            "Epoch 178/1000\n",
            "547/547 [==============================] - 8s 14ms/step - loss: 0.0061 - mae: 0.0567\n",
            "Epoch 179/1000\n",
            "547/547 [==============================] - 9s 16ms/step - loss: 0.0060 - mae: 0.0565\n",
            "Epoch 180/1000\n",
            "547/547 [==============================] - 9s 16ms/step - loss: 0.0060 - mae: 0.0568\n",
            "Epoch 181/1000\n",
            "547/547 [==============================] - 8s 14ms/step - loss: 0.0057 - mae: 0.0559\n",
            "Epoch 182/1000\n",
            "547/547 [==============================] - 9s 16ms/step - loss: 0.0059 - mae: 0.0564\n",
            "Epoch 183/1000\n",
            "547/547 [==============================] - 9s 16ms/step - loss: 0.0061 - mae: 0.0569\n",
            "Epoch 184/1000\n",
            "547/547 [==============================] - 8s 14ms/step - loss: 0.0067 - mae: 0.0591\n",
            "Epoch 185/1000\n",
            "547/547 [==============================] - 9s 16ms/step - loss: 0.0059 - mae: 0.0560\n",
            "Epoch 186/1000\n",
            "547/547 [==============================] - 8s 15ms/step - loss: 0.0060 - mae: 0.0565\n",
            "Epoch 187/1000\n",
            "547/547 [==============================] - 8s 14ms/step - loss: 0.0061 - mae: 0.0574\n",
            "Epoch 188/1000\n",
            "547/547 [==============================] - 9s 16ms/step - loss: 0.0058 - mae: 0.0554\n",
            "Epoch 189/1000\n",
            "547/547 [==============================] - 8s 14ms/step - loss: 0.0058 - mae: 0.0557\n",
            "Epoch 190/1000\n",
            "547/547 [==============================] - 9s 16ms/step - loss: 0.0058 - mae: 0.0559\n",
            "Epoch 191/1000\n",
            "547/547 [==============================] - 9s 16ms/step - loss: 0.0057 - mae: 0.0556\n",
            "Epoch 192/1000\n",
            "547/547 [==============================] - 8s 14ms/step - loss: 0.0059 - mae: 0.0563\n",
            "Epoch 193/1000\n",
            "547/547 [==============================] - 9s 16ms/step - loss: 0.0058 - mae: 0.0560\n",
            "Epoch 194/1000\n",
            "547/547 [==============================] - 9s 16ms/step - loss: 0.0059 - mae: 0.0559\n",
            "Epoch 195/1000\n",
            "547/547 [==============================] - 8s 14ms/step - loss: 0.0059 - mae: 0.0561\n",
            "Epoch 196/1000\n",
            "547/547 [==============================] - 9s 16ms/step - loss: 0.0060 - mae: 0.0566\n",
            "Epoch 197/1000\n",
            "547/547 [==============================] - 9s 16ms/step - loss: 0.0060 - mae: 0.0567\n",
            "Epoch 198/1000\n",
            "547/547 [==============================] - 8s 14ms/step - loss: 0.0060 - mae: 0.0567\n",
            "Epoch 199/1000\n",
            "547/547 [==============================] - 9s 16ms/step - loss: 0.0058 - mae: 0.0558\n",
            "Epoch 200/1000\n",
            "547/547 [==============================] - 8s 15ms/step - loss: 0.0059 - mae: 0.0561\n",
            "Epoch 201/1000\n",
            "547/547 [==============================] - 8s 15ms/step - loss: 0.0059 - mae: 0.0563\n",
            "Epoch 202/1000\n",
            "547/547 [==============================] - 9s 16ms/step - loss: 0.0057 - mae: 0.0553\n",
            "Epoch 203/1000\n",
            "547/547 [==============================] - 8s 14ms/step - loss: 0.0060 - mae: 0.0565\n",
            "Epoch 204/1000\n",
            "547/547 [==============================] - 9s 16ms/step - loss: 0.0060 - mae: 0.0562\n",
            "Epoch 205/1000\n",
            "547/547 [==============================] - 9s 16ms/step - loss: 0.0057 - mae: 0.0554\n",
            "Epoch 206/1000\n",
            "547/547 [==============================] - 8s 14ms/step - loss: 0.0059 - mae: 0.0560\n",
            "Epoch 207/1000\n",
            "547/547 [==============================] - 9s 16ms/step - loss: 0.0057 - mae: 0.0552\n",
            "Epoch 208/1000\n",
            "547/547 [==============================] - 9s 16ms/step - loss: 0.0058 - mae: 0.0561\n",
            "Epoch 209/1000\n",
            "547/547 [==============================] - 8s 14ms/step - loss: 0.0060 - mae: 0.0562\n",
            "Epoch 210/1000\n",
            "547/547 [==============================] - 9s 16ms/step - loss: 0.0058 - mae: 0.0558\n",
            "Epoch 211/1000\n",
            "547/547 [==============================] - 9s 16ms/step - loss: 0.0059 - mae: 0.0562\n",
            "Epoch 212/1000\n",
            "547/547 [==============================] - 8s 14ms/step - loss: 0.0058 - mae: 0.0557\n",
            "Epoch 213/1000\n",
            "547/547 [==============================] - 9s 16ms/step - loss: 0.0067 - mae: 0.0588\n",
            "Epoch 214/1000\n",
            "547/547 [==============================] - 9s 16ms/step - loss: 0.0058 - mae: 0.0559\n",
            "Epoch 215/1000\n",
            "547/547 [==============================] - 8s 14ms/step - loss: 0.0057 - mae: 0.0555\n",
            "Epoch 216/1000\n",
            "547/547 [==============================] - 9s 16ms/step - loss: 0.0059 - mae: 0.0562\n",
            "Epoch 217/1000\n",
            "547/547 [==============================] - 8s 15ms/step - loss: 0.0057 - mae: 0.0554\n",
            "Epoch 218/1000\n",
            "547/547 [==============================] - 8s 15ms/step - loss: 0.0058 - mae: 0.0562\n",
            "Epoch 219/1000\n",
            "547/547 [==============================] - 9s 16ms/step - loss: 0.0056 - mae: 0.0550\n",
            "Epoch 220/1000\n",
            "547/547 [==============================] - 8s 15ms/step - loss: 0.0059 - mae: 0.0565\n",
            "Epoch 221/1000\n",
            "547/547 [==============================] - 9s 16ms/step - loss: 0.0057 - mae: 0.0557\n",
            "Epoch 222/1000\n",
            "547/547 [==============================] - 9s 16ms/step - loss: 0.0056 - mae: 0.0552\n",
            "Epoch 223/1000\n",
            "547/547 [==============================] - 8s 14ms/step - loss: 0.0059 - mae: 0.0564\n",
            "Epoch 224/1000\n",
            "547/547 [==============================] - 9s 16ms/step - loss: 0.0057 - mae: 0.0555\n",
            "Epoch 225/1000\n",
            "547/547 [==============================] - 9s 16ms/step - loss: 0.0057 - mae: 0.0556\n",
            "Epoch 226/1000\n",
            "547/547 [==============================] - 8s 14ms/step - loss: 0.0057 - mae: 0.0551\n",
            "Epoch 227/1000\n",
            "547/547 [==============================] - 9s 16ms/step - loss: 0.0063 - mae: 0.0574\n",
            "Epoch 228/1000\n",
            "547/547 [==============================] - 9s 16ms/step - loss: 0.0056 - mae: 0.0551\n",
            "Epoch 229/1000\n",
            "547/547 [==============================] - 8s 14ms/step - loss: 0.0057 - mae: 0.0554\n",
            "Epoch 230/1000\n",
            "547/547 [==============================] - 9s 16ms/step - loss: 0.0059 - mae: 0.0561\n",
            "Epoch 231/1000\n",
            "547/547 [==============================] - 9s 16ms/step - loss: 0.0056 - mae: 0.0550\n",
            "Epoch 232/1000\n",
            "547/547 [==============================] - 8s 14ms/step - loss: 0.0059 - mae: 0.0561\n",
            "Epoch 233/1000\n",
            "547/547 [==============================] - 9s 16ms/step - loss: 0.0057 - mae: 0.0555\n",
            "Epoch 234/1000\n",
            "547/547 [==============================] - 8s 15ms/step - loss: 0.0057 - mae: 0.0555\n",
            "Epoch 235/1000\n",
            "547/547 [==============================] - 8s 15ms/step - loss: 0.0057 - mae: 0.0550\n",
            "Epoch 236/1000\n",
            "547/547 [==============================] - 9s 16ms/step - loss: 0.0056 - mae: 0.0550\n",
            "Epoch 237/1000\n",
            "547/547 [==============================] - 8s 14ms/step - loss: 0.0056 - mae: 0.0551\n",
            "Epoch 238/1000\n",
            "547/547 [==============================] - 9s 16ms/step - loss: 0.0058 - mae: 0.0562\n",
            "Epoch 239/1000\n",
            "547/547 [==============================] - 9s 16ms/step - loss: 0.0057 - mae: 0.0558\n",
            "Epoch 240/1000\n",
            "547/547 [==============================] - 8s 14ms/step - loss: 0.0058 - mae: 0.0555\n",
            "Epoch 241/1000\n",
            "547/547 [==============================] - 9s 16ms/step - loss: 0.0055 - mae: 0.0545\n",
            "Epoch 242/1000\n",
            "547/547 [==============================] - 9s 16ms/step - loss: 0.0055 - mae: 0.0541\n",
            "Epoch 243/1000\n",
            "547/547 [==============================] - 8s 14ms/step - loss: 0.0058 - mae: 0.0560\n",
            "Epoch 244/1000\n",
            "547/547 [==============================] - 9s 16ms/step - loss: 0.0057 - mae: 0.0555\n",
            "Epoch 245/1000\n",
            "547/547 [==============================] - 9s 16ms/step - loss: 0.0057 - mae: 0.0554\n",
            "Epoch 246/1000\n",
            "547/547 [==============================] - 8s 14ms/step - loss: 0.0056 - mae: 0.0552\n",
            "Epoch 247/1000\n",
            "547/547 [==============================] - 9s 16ms/step - loss: 0.0057 - mae: 0.0551\n",
            "Epoch 248/1000\n",
            "547/547 [==============================] - 9s 16ms/step - loss: 0.0059 - mae: 0.0563\n",
            "Epoch 249/1000\n",
            "547/547 [==============================] - 8s 15ms/step - loss: 0.0058 - mae: 0.0558\n",
            "Epoch 250/1000\n",
            "547/547 [==============================] - 9s 16ms/step - loss: 0.0059 - mae: 0.0560\n",
            "Epoch 251/1000\n",
            "547/547 [==============================] - 8s 15ms/step - loss: 0.0055 - mae: 0.0546\n",
            "Epoch 252/1000\n",
            "547/547 [==============================] - 8s 15ms/step - loss: 0.0054 - mae: 0.0536\n",
            "Epoch 253/1000\n",
            "547/547 [==============================] - 9s 16ms/step - loss: 0.0058 - mae: 0.0557\n",
            "Epoch 254/1000\n",
            "547/547 [==============================] - 8s 14ms/step - loss: 0.0056 - mae: 0.0548\n",
            "Epoch 255/1000\n",
            "547/547 [==============================] - 9s 16ms/step - loss: 0.0057 - mae: 0.0555\n",
            "Epoch 256/1000\n",
            "547/547 [==============================] - 9s 16ms/step - loss: 0.0057 - mae: 0.0554\n",
            "Epoch 257/1000\n",
            "547/547 [==============================] - 8s 14ms/step - loss: 0.0055 - mae: 0.0544\n",
            "Epoch 258/1000\n",
            "547/547 [==============================] - 9s 16ms/step - loss: 0.0055 - mae: 0.0545\n",
            "Epoch 259/1000\n",
            "547/547 [==============================] - 9s 16ms/step - loss: 0.0056 - mae: 0.0548\n",
            "Epoch 260/1000\n",
            "547/547 [==============================] - 8s 14ms/step - loss: 0.0056 - mae: 0.0552\n",
            "Epoch 261/1000\n",
            "547/547 [==============================] - 9s 16ms/step - loss: 0.0075 - mae: 0.0619\n",
            "Epoch 262/1000\n",
            "547/547 [==============================] - 9s 16ms/step - loss: 0.0059 - mae: 0.0563\n",
            "Epoch 263/1000\n",
            "547/547 [==============================] - 8s 14ms/step - loss: 0.0055 - mae: 0.0544\n",
            "Epoch 264/1000\n",
            "547/547 [==============================] - 9s 16ms/step - loss: 0.0056 - mae: 0.0547\n",
            "Epoch 265/1000\n",
            "547/547 [==============================] - 8s 15ms/step - loss: 0.0058 - mae: 0.0559\n",
            "Epoch 266/1000\n",
            "547/547 [==============================] - 8s 15ms/step - loss: 0.0055 - mae: 0.0546\n",
            "Epoch 267/1000\n",
            "547/547 [==============================] - 9s 16ms/step - loss: 0.0056 - mae: 0.0551\n",
            "Epoch 268/1000\n",
            "547/547 [==============================] - 8s 14ms/step - loss: 0.0055 - mae: 0.0547\n",
            "Epoch 269/1000\n",
            "547/547 [==============================] - 9s 16ms/step - loss: 0.0060 - mae: 0.0565\n",
            "Epoch 270/1000\n",
            "547/547 [==============================] - 9s 16ms/step - loss: 0.0057 - mae: 0.0552\n",
            "Epoch 271/1000\n",
            "547/547 [==============================] - 8s 14ms/step - loss: 0.0055 - mae: 0.0545\n",
            "Epoch 272/1000\n",
            "547/547 [==============================] - 9s 16ms/step - loss: 0.0054 - mae: 0.0545\n",
            "Epoch 273/1000\n",
            "547/547 [==============================] - 9s 16ms/step - loss: 0.0057 - mae: 0.0555\n",
            "Epoch 274/1000\n",
            "547/547 [==============================] - 8s 14ms/step - loss: 0.0058 - mae: 0.0558\n",
            "Epoch 275/1000\n",
            "547/547 [==============================] - 9s 16ms/step - loss: 0.0055 - mae: 0.0544\n",
            "Epoch 276/1000\n",
            "547/547 [==============================] - 9s 16ms/step - loss: 0.0056 - mae: 0.0551\n",
            "Epoch 277/1000\n",
            "547/547 [==============================] - 8s 14ms/step - loss: 0.0059 - mae: 0.0562\n",
            "Epoch 278/1000\n",
            "547/547 [==============================] - 9s 16ms/step - loss: 0.0056 - mae: 0.0546\n",
            "Epoch 279/1000\n",
            "547/547 [==============================] - 9s 16ms/step - loss: 0.0054 - mae: 0.0541\n",
            "Epoch 280/1000\n",
            "547/547 [==============================] - 8s 14ms/step - loss: 0.0055 - mae: 0.0546\n",
            "Epoch 281/1000\n",
            "547/547 [==============================] - 9s 16ms/step - loss: 0.0055 - mae: 0.0549\n",
            "Epoch 282/1000\n",
            "547/547 [==============================] - 9s 16ms/step - loss: 0.0053 - mae: 0.0538\n",
            "Epoch 283/1000\n",
            "547/547 [==============================] - 8s 14ms/step - loss: 0.0057 - mae: 0.0555\n",
            "Epoch 284/1000\n",
            "547/547 [==============================] - 9s 16ms/step - loss: 0.0056 - mae: 0.0549\n",
            "Epoch 285/1000\n",
            "547/547 [==============================] - 9s 16ms/step - loss: 0.0055 - mae: 0.0543\n",
            "Epoch 286/1000\n",
            "547/547 [==============================] - 8s 14ms/step - loss: 0.0055 - mae: 0.0541\n",
            "Epoch 287/1000\n",
            "547/547 [==============================] - 9s 16ms/step - loss: 0.0054 - mae: 0.0537\n",
            "Epoch 288/1000\n",
            "547/547 [==============================] - 8s 15ms/step - loss: 0.0057 - mae: 0.0554\n",
            "Epoch 289/1000\n",
            "547/547 [==============================] - 8s 15ms/step - loss: 0.0057 - mae: 0.0550\n",
            "Epoch 290/1000\n",
            "547/547 [==============================] - 9s 16ms/step - loss: 0.0057 - mae: 0.0552\n",
            "Epoch 291/1000\n",
            "547/547 [==============================] - 8s 15ms/step - loss: 0.0054 - mae: 0.0541\n",
            "Epoch 292/1000\n",
            "547/547 [==============================] - 9s 16ms/step - loss: 0.0056 - mae: 0.0549\n",
            "Epoch 293/1000\n",
            "547/547 [==============================] - 9s 16ms/step - loss: 0.0056 - mae: 0.0549\n",
            "Epoch 294/1000\n",
            "547/547 [==============================] - 8s 15ms/step - loss: 0.0056 - mae: 0.0551\n",
            "Epoch 295/1000\n",
            "547/547 [==============================] - 9s 16ms/step - loss: 0.0053 - mae: 0.0535\n",
            "Epoch 296/1000\n",
            "547/547 [==============================] - 9s 16ms/step - loss: 0.0057 - mae: 0.0554\n",
            "Epoch 297/1000\n",
            "547/547 [==============================] - 8s 14ms/step - loss: 0.0055 - mae: 0.0541\n",
            "Epoch 298/1000\n",
            "547/547 [==============================] - 9s 16ms/step - loss: 0.0054 - mae: 0.0541\n",
            "Epoch 299/1000\n",
            "547/547 [==============================] - 9s 17ms/step - loss: 0.0057 - mae: 0.0550\n",
            "Epoch 300/1000\n",
            "547/547 [==============================] - 8s 14ms/step - loss: 0.0055 - mae: 0.0543\n",
            "Epoch 301/1000\n",
            "547/547 [==============================] - 9s 16ms/step - loss: 0.0054 - mae: 0.0541\n",
            "Epoch 302/1000\n",
            "547/547 [==============================] - 9s 16ms/step - loss: 0.0055 - mae: 0.0546\n",
            "Epoch 303/1000\n",
            "547/547 [==============================] - 8s 14ms/step - loss: 0.0054 - mae: 0.0541\n",
            "Epoch 304/1000\n",
            "547/547 [==============================] - 9s 16ms/step - loss: 0.0056 - mae: 0.0547\n",
            "Epoch 305/1000\n",
            "547/547 [==============================] - 9s 16ms/step - loss: 0.0054 - mae: 0.0539\n",
            "Epoch 306/1000\n",
            "547/547 [==============================] - 8s 14ms/step - loss: 0.0055 - mae: 0.0542\n",
            "Epoch 307/1000\n",
            "547/547 [==============================] - 9s 16ms/step - loss: 0.0053 - mae: 0.0537\n",
            "Epoch 308/1000\n",
            "547/547 [==============================] - 9s 16ms/step - loss: 0.0058 - mae: 0.0560\n",
            "Epoch 309/1000\n",
            "547/547 [==============================] - 8s 14ms/step - loss: 0.0055 - mae: 0.0541\n",
            "Epoch 310/1000\n",
            "547/547 [==============================] - 9s 16ms/step - loss: 0.0053 - mae: 0.0535\n",
            "Epoch 311/1000\n",
            "547/547 [==============================] - 8s 15ms/step - loss: 0.0054 - mae: 0.0540\n",
            "Epoch 312/1000\n",
            "547/547 [==============================] - 8s 15ms/step - loss: 0.0054 - mae: 0.0543\n",
            "Epoch 313/1000\n",
            "547/547 [==============================] - 9s 16ms/step - loss: 0.0054 - mae: 0.0537\n",
            "Epoch 314/1000\n",
            "547/547 [==============================] - 8s 15ms/step - loss: 0.0055 - mae: 0.0546\n",
            "Epoch 315/1000\n",
            "547/547 [==============================] - 8s 15ms/step - loss: 0.0054 - mae: 0.0540\n",
            "Epoch 316/1000\n",
            "547/547 [==============================] - 9s 16ms/step - loss: 0.0054 - mae: 0.0539\n",
            "Epoch 317/1000\n",
            "547/547 [==============================] - 8s 15ms/step - loss: 0.0054 - mae: 0.0537\n",
            "Epoch 318/1000\n",
            "547/547 [==============================] - 9s 16ms/step - loss: 0.0054 - mae: 0.0537\n",
            "Epoch 319/1000\n",
            "547/547 [==============================] - 9s 16ms/step - loss: 0.0053 - mae: 0.0538\n",
            "Epoch 320/1000\n",
            "547/547 [==============================] - 8s 14ms/step - loss: 0.0055 - mae: 0.0544\n",
            "Epoch 321/1000\n",
            "547/547 [==============================] - 9s 16ms/step - loss: 0.0054 - mae: 0.0539\n",
            "Epoch 322/1000\n",
            "547/547 [==============================] - 9s 16ms/step - loss: 0.0054 - mae: 0.0544\n",
            "Epoch 323/1000\n",
            "547/547 [==============================] - 8s 14ms/step - loss: 0.0054 - mae: 0.0543\n",
            "Epoch 324/1000\n",
            "547/547 [==============================] - 9s 16ms/step - loss: 0.0055 - mae: 0.0546\n",
            "Epoch 325/1000\n",
            "547/547 [==============================] - 9s 16ms/step - loss: 0.0058 - mae: 0.0556\n",
            "Epoch 326/1000\n",
            "547/547 [==============================] - 8s 14ms/step - loss: 0.0053 - mae: 0.0535\n",
            "Epoch 327/1000\n",
            "547/547 [==============================] - 9s 17ms/step - loss: 0.0056 - mae: 0.0547\n",
            "Epoch 328/1000\n",
            "547/547 [==============================] - 9s 17ms/step - loss: 0.0056 - mae: 0.0548\n",
            "Epoch 329/1000\n",
            "547/547 [==============================] - 8s 14ms/step - loss: 0.0055 - mae: 0.0544\n",
            "Epoch 330/1000\n",
            "547/547 [==============================] - 9s 16ms/step - loss: 0.0056 - mae: 0.0551\n",
            "Epoch 331/1000\n",
            "547/547 [==============================] - 9s 16ms/step - loss: 0.0057 - mae: 0.0550\n",
            "Epoch 332/1000\n",
            "547/547 [==============================] - 8s 14ms/step - loss: 0.0054 - mae: 0.0539\n",
            "Epoch 333/1000\n",
            "547/547 [==============================] - 9s 16ms/step - loss: 0.0056 - mae: 0.0548\n",
            "Epoch 334/1000\n",
            "547/547 [==============================] - 9s 16ms/step - loss: 0.0053 - mae: 0.0534\n",
            "Epoch 335/1000\n",
            "547/547 [==============================] - 8s 15ms/step - loss: 0.0059 - mae: 0.0561\n",
            "Epoch 336/1000\n",
            "547/547 [==============================] - 9s 17ms/step - loss: 0.0054 - mae: 0.0539\n",
            "Epoch 337/1000\n",
            "547/547 [==============================] - 8s 15ms/step - loss: 0.0053 - mae: 0.0538\n",
            "Epoch 338/1000\n",
            "547/547 [==============================] - 8s 15ms/step - loss: 0.0055 - mae: 0.0544\n",
            "Epoch 339/1000\n",
            "547/547 [==============================] - 9s 16ms/step - loss: 0.0054 - mae: 0.0541\n",
            "Epoch 340/1000\n",
            "547/547 [==============================] - 8s 15ms/step - loss: 0.0053 - mae: 0.0538\n",
            "Epoch 341/1000\n",
            "547/547 [==============================] - 9s 16ms/step - loss: 0.0053 - mae: 0.0537\n",
            "Epoch 342/1000\n",
            "547/547 [==============================] - 9s 16ms/step - loss: 0.0057 - mae: 0.0556\n",
            "Epoch 343/1000\n",
            "547/547 [==============================] - 8s 15ms/step - loss: 0.0053 - mae: 0.0536\n",
            "Epoch 344/1000\n",
            "547/547 [==============================] - 9s 16ms/step - loss: 0.0053 - mae: 0.0532\n",
            "Epoch 345/1000\n",
            "547/547 [==============================] - 9s 16ms/step - loss: 0.0052 - mae: 0.0532\n",
            "Epoch 346/1000\n",
            "547/547 [==============================] - 8s 14ms/step - loss: 0.0054 - mae: 0.0541\n",
            "Epoch 347/1000\n",
            "547/547 [==============================] - 9s 16ms/step - loss: 0.0053 - mae: 0.0538\n",
            "Epoch 348/1000\n",
            "547/547 [==============================] - 9s 17ms/step - loss: 0.0054 - mae: 0.0540\n",
            "Epoch 349/1000\n",
            "547/547 [==============================] - 8s 14ms/step - loss: 0.0055 - mae: 0.0544\n",
            "Epoch 350/1000\n",
            "547/547 [==============================] - 9s 16ms/step - loss: 0.0053 - mae: 0.0540\n",
            "Epoch 351/1000\n",
            "547/547 [==============================] - 9s 16ms/step - loss: 0.0060 - mae: 0.0561\n",
            "Epoch 352/1000\n",
            "547/547 [==============================] - 8s 14ms/step - loss: 0.0052 - mae: 0.0529\n",
            "Epoch 353/1000\n",
            "547/547 [==============================] - 9s 16ms/step - loss: 0.0053 - mae: 0.0539\n",
            "Epoch 354/1000\n",
            "547/547 [==============================] - 9s 16ms/step - loss: 0.0055 - mae: 0.0545\n",
            "Epoch 355/1000\n",
            "547/547 [==============================] - 8s 14ms/step - loss: 0.0052 - mae: 0.0532\n",
            "Epoch 356/1000\n",
            "547/547 [==============================] - 9s 16ms/step - loss: 0.0054 - mae: 0.0539\n",
            "Epoch 357/1000\n",
            "547/547 [==============================] - 9s 16ms/step - loss: 0.0052 - mae: 0.0534\n",
            "Epoch 358/1000\n",
            "547/547 [==============================] - 8s 14ms/step - loss: 0.0056 - mae: 0.0547\n",
            "Epoch 359/1000\n",
            "547/547 [==============================] - 9s 16ms/step - loss: 0.0055 - mae: 0.0544\n",
            "Epoch 360/1000\n",
            "547/547 [==============================] - 9s 16ms/step - loss: 0.0057 - mae: 0.0555\n",
            "Epoch 361/1000\n",
            "547/547 [==============================] - 8s 15ms/step - loss: 0.0052 - mae: 0.0533\n",
            "Epoch 362/1000\n",
            "547/547 [==============================] - 9s 17ms/step - loss: 0.0054 - mae: 0.0540\n",
            "Epoch 363/1000\n",
            "547/547 [==============================] - 8s 15ms/step - loss: 0.0052 - mae: 0.0532\n",
            "Epoch 364/1000\n",
            "547/547 [==============================] - 8s 15ms/step - loss: 0.0054 - mae: 0.0541\n",
            "Epoch 365/1000\n",
            "547/547 [==============================] - 9s 16ms/step - loss: 0.0053 - mae: 0.0536\n",
            "Epoch 366/1000\n",
            "547/547 [==============================] - 8s 14ms/step - loss: 0.0053 - mae: 0.0539\n",
            "Epoch 367/1000\n",
            "547/547 [==============================] - 9s 16ms/step - loss: 0.0053 - mae: 0.0537\n",
            "Epoch 368/1000\n",
            "547/547 [==============================] - 9s 16ms/step - loss: 0.0060 - mae: 0.0565\n",
            "Epoch 369/1000\n",
            "547/547 [==============================] - 8s 14ms/step - loss: 0.0054 - mae: 0.0539\n",
            "Epoch 370/1000\n",
            "547/547 [==============================] - 9s 17ms/step - loss: 0.0051 - mae: 0.0530\n",
            "Epoch 371/1000\n",
            "547/547 [==============================] - 9s 17ms/step - loss: 0.0055 - mae: 0.0542\n",
            "Epoch 372/1000\n",
            "547/547 [==============================] - 8s 15ms/step - loss: 0.0054 - mae: 0.0539\n",
            "Epoch 373/1000\n",
            "547/547 [==============================] - 9s 17ms/step - loss: 0.0051 - mae: 0.0528\n",
            "Epoch 374/1000\n",
            "547/547 [==============================] - 9s 17ms/step - loss: 0.0053 - mae: 0.0534\n",
            "Epoch 375/1000\n",
            "547/547 [==============================] - 8s 15ms/step - loss: 0.0054 - mae: 0.0537\n",
            "Epoch 376/1000\n",
            "547/547 [==============================] - 9s 17ms/step - loss: 0.0053 - mae: 0.0533\n",
            "Epoch 377/1000\n",
            "547/547 [==============================] - 9s 17ms/step - loss: 0.0052 - mae: 0.0534\n",
            "Epoch 378/1000\n",
            "547/547 [==============================] - 8s 15ms/step - loss: 0.0055 - mae: 0.0549\n",
            "Epoch 379/1000\n",
            "547/547 [==============================] - 9s 17ms/step - loss: 0.0051 - mae: 0.0527\n",
            "Epoch 380/1000\n",
            "547/547 [==============================] - 9s 17ms/step - loss: 0.0057 - mae: 0.0554\n",
            "Epoch 381/1000\n",
            "547/547 [==============================] - 8s 15ms/step - loss: 0.0054 - mae: 0.0539\n",
            "Epoch 382/1000\n",
            "547/547 [==============================] - 9s 17ms/step - loss: 0.0054 - mae: 0.0540\n",
            "Epoch 383/1000\n",
            "547/547 [==============================] - 9s 17ms/step - loss: 0.0054 - mae: 0.0540\n",
            "Epoch 384/1000\n",
            "547/547 [==============================] - 8s 14ms/step - loss: 0.0054 - mae: 0.0539\n",
            "Epoch 385/1000\n",
            "547/547 [==============================] - 9s 17ms/step - loss: 0.0054 - mae: 0.0537\n",
            "Epoch 386/1000\n",
            "547/547 [==============================] - 9s 17ms/step - loss: 0.0052 - mae: 0.0533\n",
            "Epoch 387/1000\n",
            "547/547 [==============================] - 8s 15ms/step - loss: 0.0055 - mae: 0.0548\n",
            "Epoch 388/1000\n",
            "547/547 [==============================] - 9s 17ms/step - loss: 0.0055 - mae: 0.0546\n",
            "Epoch 389/1000\n",
            "547/547 [==============================] - 9s 17ms/step - loss: 0.0051 - mae: 0.0531\n",
            "Epoch 390/1000\n",
            "547/547 [==============================] - 8s 15ms/step - loss: 0.0051 - mae: 0.0532\n",
            "Epoch 391/1000\n",
            "547/547 [==============================] - 9s 17ms/step - loss: 0.0054 - mae: 0.0542\n",
            "Epoch 392/1000\n",
            "547/547 [==============================] - 9s 17ms/step - loss: 0.0051 - mae: 0.0526\n",
            "Epoch 393/1000\n",
            "547/547 [==============================] - 8s 14ms/step - loss: 0.0053 - mae: 0.0536\n",
            "Epoch 394/1000\n",
            "547/547 [==============================] - 9s 17ms/step - loss: 0.0053 - mae: 0.0538\n",
            "Epoch 395/1000\n",
            "547/547 [==============================] - 9s 17ms/step - loss: 0.0052 - mae: 0.0534\n",
            "Epoch 396/1000\n",
            "547/547 [==============================] - 8s 15ms/step - loss: 0.0055 - mae: 0.0545\n",
            "Epoch 397/1000\n",
            "547/547 [==============================] - 9s 17ms/step - loss: 0.0054 - mae: 0.0540\n",
            "Epoch 398/1000\n",
            "547/547 [==============================] - 9s 17ms/step - loss: 0.0054 - mae: 0.0541\n",
            "Epoch 399/1000\n",
            "547/547 [==============================] - 8s 15ms/step - loss: 0.0053 - mae: 0.0536\n",
            "Epoch 400/1000\n",
            "547/547 [==============================] - 9s 17ms/step - loss: 0.0052 - mae: 0.0537\n",
            "Epoch 401/1000\n",
            "547/547 [==============================] - 9s 17ms/step - loss: 0.0054 - mae: 0.0539\n",
            "Epoch 402/1000\n",
            "547/547 [==============================] - 8s 15ms/step - loss: 0.0054 - mae: 0.0537\n",
            "Epoch 403/1000\n",
            "547/547 [==============================] - 9s 17ms/step - loss: 0.0055 - mae: 0.0546\n",
            "Epoch 404/1000\n",
            "547/547 [==============================] - 9s 17ms/step - loss: 0.0052 - mae: 0.0528\n",
            "Epoch 405/1000\n",
            "547/547 [==============================] - 8s 14ms/step - loss: 0.0052 - mae: 0.0533\n",
            "Epoch 406/1000\n",
            "547/547 [==============================] - 9s 17ms/step - loss: 0.0052 - mae: 0.0534\n",
            "Epoch 407/1000\n",
            "547/547 [==============================] - 9s 17ms/step - loss: 0.0053 - mae: 0.0535\n",
            "Epoch 408/1000\n",
            "547/547 [==============================] - 8s 14ms/step - loss: 0.0052 - mae: 0.0529\n",
            "Epoch 409/1000\n",
            "547/547 [==============================] - 9s 17ms/step - loss: 0.0053 - mae: 0.0534\n",
            "Epoch 410/1000\n",
            "547/547 [==============================] - 9s 17ms/step - loss: 0.0054 - mae: 0.0539\n",
            "Epoch 411/1000\n",
            "547/547 [==============================] - 8s 15ms/step - loss: 0.0054 - mae: 0.0538\n",
            "Epoch 412/1000\n",
            "547/547 [==============================] - 9s 17ms/step - loss: 0.0052 - mae: 0.0532\n",
            "Epoch 413/1000\n",
            "547/547 [==============================] - 9s 17ms/step - loss: 0.0056 - mae: 0.0547\n",
            "Epoch 414/1000\n",
            "547/547 [==============================] - 8s 15ms/step - loss: 0.0052 - mae: 0.0532\n",
            "Epoch 415/1000\n",
            "547/547 [==============================] - 9s 17ms/step - loss: 0.0060 - mae: 0.0563\n",
            "Epoch 416/1000\n",
            "547/547 [==============================] - 9s 17ms/step - loss: 0.0052 - mae: 0.0530\n",
            "Epoch 417/1000\n",
            "547/547 [==============================] - 8s 15ms/step - loss: 0.0051 - mae: 0.0529\n",
            "Epoch 418/1000\n",
            "547/547 [==============================] - 9s 17ms/step - loss: 0.0055 - mae: 0.0542\n",
            "Epoch 419/1000\n",
            "547/547 [==============================] - 9s 17ms/step - loss: 0.0053 - mae: 0.0534\n",
            "Epoch 420/1000\n",
            "547/547 [==============================] - 8s 15ms/step - loss: 0.0051 - mae: 0.0526\n",
            "Epoch 421/1000\n",
            "547/547 [==============================] - 9s 17ms/step - loss: 0.0053 - mae: 0.0534\n",
            "Epoch 422/1000\n",
            "547/547 [==============================] - 9s 16ms/step - loss: 0.0053 - mae: 0.0535\n",
            "Epoch 423/1000\n",
            "547/547 [==============================] - 8s 15ms/step - loss: 0.0055 - mae: 0.0540\n",
            "Epoch 424/1000\n",
            "547/547 [==============================] - 9s 17ms/step - loss: 0.0053 - mae: 0.0533\n",
            "Epoch 425/1000\n",
            "547/547 [==============================] - 9s 16ms/step - loss: 0.0051 - mae: 0.0526\n",
            "Epoch 426/1000\n",
            "547/547 [==============================] - 9s 16ms/step - loss: 0.0051 - mae: 0.0530\n",
            "Epoch 427/1000\n",
            "547/547 [==============================] - 9s 17ms/step - loss: 0.0052 - mae: 0.0531\n",
            "Epoch 428/1000\n",
            "547/547 [==============================] - 9s 16ms/step - loss: 0.0051 - mae: 0.0528\n",
            "Epoch 429/1000\n",
            "547/547 [==============================] - 9s 16ms/step - loss: 0.0051 - mae: 0.0527\n",
            "Epoch 430/1000\n",
            "547/547 [==============================] - 9s 17ms/step - loss: 0.0051 - mae: 0.0528\n",
            "Epoch 431/1000\n",
            "547/547 [==============================] - 9s 16ms/step - loss: 0.0053 - mae: 0.0535\n",
            "Epoch 432/1000\n",
            "547/547 [==============================] - 9s 16ms/step - loss: 0.0055 - mae: 0.0544\n",
            "Epoch 433/1000\n",
            "547/547 [==============================] - 9s 17ms/step - loss: 0.0052 - mae: 0.0530\n",
            "Epoch 434/1000\n",
            "547/547 [==============================] - 9s 16ms/step - loss: 0.0055 - mae: 0.0545\n",
            "Epoch 435/1000\n",
            "547/547 [==============================] - 9s 16ms/step - loss: 0.0052 - mae: 0.0532\n",
            "Epoch 436/1000\n",
            "547/547 [==============================] - 9s 17ms/step - loss: 0.0051 - mae: 0.0525\n",
            "Epoch 437/1000\n",
            "547/547 [==============================] - 9s 16ms/step - loss: 0.0055 - mae: 0.0545\n",
            "Epoch 438/1000\n",
            "547/547 [==============================] - 9s 16ms/step - loss: 0.0052 - mae: 0.0528\n",
            "Epoch 439/1000\n",
            "547/547 [==============================] - 9s 17ms/step - loss: 0.0054 - mae: 0.0538\n",
            "Epoch 440/1000\n",
            "547/547 [==============================] - 9s 16ms/step - loss: 0.0051 - mae: 0.0528\n",
            "Epoch 441/1000\n",
            "547/547 [==============================] - 9s 16ms/step - loss: 0.0052 - mae: 0.0531\n",
            "Epoch 442/1000\n",
            "547/547 [==============================] - 9s 17ms/step - loss: 0.0051 - mae: 0.0527\n",
            "Epoch 443/1000\n",
            "547/547 [==============================] - 9s 16ms/step - loss: 0.0054 - mae: 0.0542\n",
            "Epoch 444/1000\n",
            "547/547 [==============================] - 9s 16ms/step - loss: 0.0050 - mae: 0.0522\n",
            "Epoch 445/1000\n",
            "547/547 [==============================] - 9s 17ms/step - loss: 0.0051 - mae: 0.0527\n",
            "Epoch 446/1000\n",
            "547/547 [==============================] - 9s 16ms/step - loss: 0.0052 - mae: 0.0526\n",
            "Epoch 447/1000\n",
            "547/547 [==============================] - 8s 15ms/step - loss: 0.0050 - mae: 0.0525\n",
            "Epoch 448/1000\n",
            "547/547 [==============================] - 9s 17ms/step - loss: 0.0054 - mae: 0.0541\n",
            "Epoch 449/1000\n",
            "547/547 [==============================] - 9s 16ms/step - loss: 0.0051 - mae: 0.0527\n",
            "Epoch 450/1000\n",
            "547/547 [==============================] - 8s 15ms/step - loss: 0.0052 - mae: 0.0531\n",
            "Epoch 451/1000\n",
            "547/547 [==============================] - 9s 17ms/step - loss: 0.0053 - mae: 0.0534\n",
            "Epoch 452/1000\n",
            "547/547 [==============================] - 9s 16ms/step - loss: 0.0054 - mae: 0.0537\n",
            "Epoch 453/1000\n",
            "547/547 [==============================] - 8s 15ms/step - loss: 0.0050 - mae: 0.0523\n",
            "Epoch 454/1000\n",
            "547/547 [==============================] - 9s 17ms/step - loss: 0.0051 - mae: 0.0526\n",
            "Epoch 455/1000\n",
            "547/547 [==============================] - 9s 16ms/step - loss: 0.0053 - mae: 0.0536\n",
            "Epoch 456/1000\n",
            "547/547 [==============================] - 8s 15ms/step - loss: 0.0050 - mae: 0.0522\n",
            "Epoch 457/1000\n",
            "547/547 [==============================] - 9s 17ms/step - loss: 0.0051 - mae: 0.0528\n",
            "Epoch 458/1000\n",
            "547/547 [==============================] - 9s 16ms/step - loss: 0.0053 - mae: 0.0538\n",
            "Epoch 459/1000\n",
            "547/547 [==============================] - 8s 15ms/step - loss: 0.0050 - mae: 0.0524\n",
            "Epoch 460/1000\n",
            "547/547 [==============================] - 9s 17ms/step - loss: 0.0051 - mae: 0.0529\n",
            "Epoch 461/1000\n",
            "547/547 [==============================] - 9s 16ms/step - loss: 0.0058 - mae: 0.0558\n",
            "Epoch 462/1000\n",
            "547/547 [==============================] - 9s 16ms/step - loss: 0.0052 - mae: 0.0530\n",
            "Epoch 463/1000\n",
            "547/547 [==============================] - 9s 17ms/step - loss: 0.0053 - mae: 0.0535\n",
            "Epoch 464/1000\n",
            "547/547 [==============================] - 9s 16ms/step - loss: 0.0051 - mae: 0.0527\n",
            "Epoch 465/1000\n",
            "547/547 [==============================] - 9s 16ms/step - loss: 0.0052 - mae: 0.0531\n",
            "Epoch 466/1000\n",
            "547/547 [==============================] - 9s 17ms/step - loss: 0.0051 - mae: 0.0529\n",
            "Epoch 467/1000\n",
            "547/547 [==============================] - 9s 16ms/step - loss: 0.0053 - mae: 0.0535\n",
            "Epoch 468/1000\n",
            "547/547 [==============================] - 9s 16ms/step - loss: 0.0051 - mae: 0.0523\n",
            "Epoch 469/1000\n",
            "547/547 [==============================] - 9s 17ms/step - loss: 0.0051 - mae: 0.0527\n",
            "Epoch 470/1000\n",
            "547/547 [==============================] - 9s 16ms/step - loss: 0.0051 - mae: 0.0523\n",
            "Epoch 471/1000\n",
            "547/547 [==============================] - 9s 16ms/step - loss: 0.0051 - mae: 0.0527\n",
            "Epoch 472/1000\n",
            "547/547 [==============================] - 9s 17ms/step - loss: 0.0050 - mae: 0.0520\n",
            "Epoch 473/1000\n",
            "547/547 [==============================] - 8s 15ms/step - loss: 0.0051 - mae: 0.0530\n",
            "Epoch 474/1000\n",
            "547/547 [==============================] - 9s 16ms/step - loss: 0.0052 - mae: 0.0529\n",
            "Epoch 475/1000\n",
            "547/547 [==============================] - 9s 17ms/step - loss: 0.0052 - mae: 0.0530\n",
            "Epoch 476/1000\n",
            "547/547 [==============================] - 8s 15ms/step - loss: 0.0053 - mae: 0.0533\n",
            "Epoch 477/1000\n",
            "547/547 [==============================] - 9s 16ms/step - loss: 0.0051 - mae: 0.0531\n",
            "Epoch 478/1000\n",
            "547/547 [==============================] - 9s 17ms/step - loss: 0.0055 - mae: 0.0542\n",
            "Epoch 479/1000\n",
            "547/547 [==============================] - 9s 16ms/step - loss: 0.0051 - mae: 0.0526\n",
            "Epoch 480/1000\n",
            "547/547 [==============================] - 9s 16ms/step - loss: 0.0053 - mae: 0.0537\n",
            "Epoch 481/1000\n",
            "547/547 [==============================] - 9s 17ms/step - loss: 0.0052 - mae: 0.0526\n",
            "Epoch 482/1000\n",
            "547/547 [==============================] - 8s 15ms/step - loss: 0.0050 - mae: 0.0524\n",
            "Epoch 483/1000\n",
            "547/547 [==============================] - 9s 17ms/step - loss: 0.0052 - mae: 0.0532\n",
            "Epoch 484/1000\n",
            "547/547 [==============================] - 9s 17ms/step - loss: 0.0053 - mae: 0.0538\n",
            "Epoch 485/1000\n",
            "547/547 [==============================] - 8s 15ms/step - loss: 0.0051 - mae: 0.0531\n",
            "Epoch 486/1000\n",
            "547/547 [==============================] - 9s 17ms/step - loss: 0.0050 - mae: 0.0526\n",
            "Epoch 487/1000\n",
            "547/547 [==============================] - 9s 17ms/step - loss: 0.0052 - mae: 0.0531\n",
            "Epoch 488/1000\n",
            "547/547 [==============================] - 8s 15ms/step - loss: 0.0050 - mae: 0.0525\n",
            "Epoch 489/1000\n",
            "547/547 [==============================] - 9s 17ms/step - loss: 0.0052 - mae: 0.0531\n",
            "Epoch 490/1000\n",
            "547/547 [==============================] - 9s 17ms/step - loss: 0.0051 - mae: 0.0528\n",
            "Epoch 491/1000\n",
            "547/547 [==============================] - 8s 15ms/step - loss: 0.0053 - mae: 0.0539\n",
            "Epoch 492/1000\n",
            "547/547 [==============================] - 9s 17ms/step - loss: 0.0051 - mae: 0.0526\n",
            "Epoch 493/1000\n",
            "547/547 [==============================] - 9s 17ms/step - loss: 0.0056 - mae: 0.0543\n",
            "Epoch 494/1000\n",
            "547/547 [==============================] - 8s 15ms/step - loss: 0.0051 - mae: 0.0527\n",
            "Epoch 495/1000\n",
            "547/547 [==============================] - 9s 17ms/step - loss: 0.0053 - mae: 0.0533\n",
            "Epoch 496/1000\n",
            "547/547 [==============================] - 9s 17ms/step - loss: 0.0051 - mae: 0.0531\n",
            "Epoch 497/1000\n",
            "547/547 [==============================] - 8s 15ms/step - loss: 0.0050 - mae: 0.0525\n",
            "Epoch 498/1000\n",
            "547/547 [==============================] - 9s 17ms/step - loss: 0.0051 - mae: 0.0527\n",
            "Epoch 499/1000\n",
            "547/547 [==============================] - 9s 17ms/step - loss: 0.0051 - mae: 0.0526\n",
            "Epoch 500/1000\n",
            "547/547 [==============================] - 8s 15ms/step - loss: 0.0051 - mae: 0.0528\n",
            "Epoch 501/1000\n",
            "547/547 [==============================] - 9s 17ms/step - loss: 0.0052 - mae: 0.0533\n",
            "Epoch 502/1000\n",
            "547/547 [==============================] - 9s 17ms/step - loss: 0.0050 - mae: 0.0524\n",
            "Epoch 503/1000\n",
            "547/547 [==============================] - 8s 15ms/step - loss: 0.0050 - mae: 0.0520\n",
            "Epoch 504/1000\n",
            "547/547 [==============================] - 9s 17ms/step - loss: 0.0051 - mae: 0.0528\n",
            "Epoch 505/1000\n",
            "547/547 [==============================] - 9s 17ms/step - loss: 0.0051 - mae: 0.0529\n",
            "Epoch 506/1000\n",
            "547/547 [==============================] - 8s 15ms/step - loss: 0.0053 - mae: 0.0539\n",
            "Epoch 507/1000\n",
            "547/547 [==============================] - 9s 17ms/step - loss: 0.0051 - mae: 0.0528\n",
            "Epoch 508/1000\n",
            "547/547 [==============================] - 9s 17ms/step - loss: 0.0051 - mae: 0.0526\n",
            "Epoch 509/1000\n",
            "547/547 [==============================] - 8s 15ms/step - loss: 0.0052 - mae: 0.0535\n",
            "Epoch 510/1000\n",
            "547/547 [==============================] - 9s 17ms/step - loss: 0.0052 - mae: 0.0531\n",
            "Epoch 511/1000\n",
            "547/547 [==============================] - 9s 17ms/step - loss: 0.0051 - mae: 0.0529\n",
            "Epoch 512/1000\n",
            "547/547 [==============================] - 8s 15ms/step - loss: 0.0051 - mae: 0.0530\n",
            "Epoch 513/1000\n",
            "547/547 [==============================] - 9s 17ms/step - loss: 0.0051 - mae: 0.0529\n",
            "Epoch 514/1000\n",
            "547/547 [==============================] - 9s 17ms/step - loss: 0.0051 - mae: 0.0526\n",
            "Epoch 515/1000\n",
            "547/547 [==============================] - 8s 15ms/step - loss: 0.0051 - mae: 0.0530\n",
            "Epoch 516/1000\n",
            "547/547 [==============================] - 9s 17ms/step - loss: 0.0053 - mae: 0.0532\n",
            "Epoch 517/1000\n",
            "547/547 [==============================] - 9s 17ms/step - loss: 0.0049 - mae: 0.0518\n",
            "Epoch 518/1000\n",
            "547/547 [==============================] - 8s 15ms/step - loss: 0.0052 - mae: 0.0534\n",
            "Epoch 519/1000\n",
            "547/547 [==============================] - 10s 17ms/step - loss: 0.0052 - mae: 0.0534\n",
            "Epoch 520/1000\n",
            "547/547 [==============================] - 9s 17ms/step - loss: 0.0051 - mae: 0.0529\n",
            "Epoch 521/1000\n",
            "547/547 [==============================] - 8s 15ms/step - loss: 0.0051 - mae: 0.0531\n",
            "Epoch 522/1000\n",
            "547/547 [==============================] - 9s 17ms/step - loss: 0.0050 - mae: 0.0526\n",
            "Epoch 523/1000\n",
            "547/547 [==============================] - 9s 17ms/step - loss: 0.0052 - mae: 0.0533\n",
            "Epoch 524/1000\n",
            "547/547 [==============================] - 8s 15ms/step - loss: 0.0051 - mae: 0.0532\n",
            "Epoch 525/1000\n",
            "547/547 [==============================] - 9s 17ms/step - loss: 0.0052 - mae: 0.0531\n",
            "Epoch 526/1000\n",
            "547/547 [==============================] - 9s 17ms/step - loss: 0.0049 - mae: 0.0517\n",
            "Epoch 527/1000\n",
            "547/547 [==============================] - 8s 15ms/step - loss: 0.0053 - mae: 0.0535\n",
            "Epoch 528/1000\n",
            "547/547 [==============================] - 9s 17ms/step - loss: 0.0051 - mae: 0.0526\n",
            "Epoch 529/1000\n",
            "547/547 [==============================] - 9s 17ms/step - loss: 0.0051 - mae: 0.0525\n",
            "Epoch 530/1000\n",
            "547/547 [==============================] - 8s 15ms/step - loss: 0.0049 - mae: 0.0519\n",
            "Epoch 531/1000\n",
            "547/547 [==============================] - 9s 17ms/step - loss: 0.0051 - mae: 0.0527\n",
            "Epoch 532/1000\n",
            "547/547 [==============================] - 9s 17ms/step - loss: 0.0053 - mae: 0.0535\n",
            "Epoch 533/1000\n",
            "547/547 [==============================] - 8s 15ms/step - loss: 0.0052 - mae: 0.0537\n",
            "Epoch 534/1000\n",
            "547/547 [==============================] - 9s 17ms/step - loss: 0.0051 - mae: 0.0525\n",
            "Epoch 535/1000\n",
            "547/547 [==============================] - 9s 17ms/step - loss: 0.0050 - mae: 0.0524\n",
            "Epoch 536/1000\n",
            "547/547 [==============================] - 8s 15ms/step - loss: 0.0050 - mae: 0.0527\n",
            "Epoch 537/1000\n",
            "547/547 [==============================] - 9s 17ms/step - loss: 0.0056 - mae: 0.0543\n",
            "Epoch 538/1000\n",
            "547/547 [==============================] - 9s 17ms/step - loss: 0.0048 - mae: 0.0515\n",
            "Epoch 539/1000\n",
            "547/547 [==============================] - 8s 15ms/step - loss: 0.0050 - mae: 0.0521\n",
            "Epoch 540/1000\n",
            "547/547 [==============================] - 9s 17ms/step - loss: 0.0054 - mae: 0.0546\n",
            "Epoch 541/1000\n",
            "547/547 [==============================] - 9s 17ms/step - loss: 0.0052 - mae: 0.0531\n",
            "Epoch 542/1000\n",
            "547/547 [==============================] - 8s 15ms/step - loss: 0.0050 - mae: 0.0524\n",
            "Epoch 543/1000\n",
            "547/547 [==============================] - 9s 17ms/step - loss: 0.0050 - mae: 0.0522\n",
            "Epoch 544/1000\n",
            "547/547 [==============================] - 9s 17ms/step - loss: 0.0057 - mae: 0.0548\n",
            "Epoch 545/1000\n",
            "547/547 [==============================] - 8s 15ms/step - loss: 0.0052 - mae: 0.0534\n",
            "Epoch 546/1000\n",
            "547/547 [==============================] - 9s 17ms/step - loss: 0.0049 - mae: 0.0520\n",
            "Epoch 547/1000\n",
            "547/547 [==============================] - 9s 17ms/step - loss: 0.0051 - mae: 0.0526\n",
            "Epoch 548/1000\n",
            "547/547 [==============================] - 8s 15ms/step - loss: 0.0050 - mae: 0.0525\n",
            "Epoch 549/1000\n",
            "547/547 [==============================] - 9s 17ms/step - loss: 0.0049 - mae: 0.0519\n",
            "Epoch 550/1000\n",
            "547/547 [==============================] - 9s 17ms/step - loss: 0.0049 - mae: 0.0520\n",
            "Epoch 551/1000\n",
            "547/547 [==============================] - 8s 15ms/step - loss: 0.0053 - mae: 0.0535\n",
            "Epoch 552/1000\n",
            "547/547 [==============================] - 9s 17ms/step - loss: 0.0051 - mae: 0.0529\n",
            "Epoch 553/1000\n",
            "547/547 [==============================] - 9s 17ms/step - loss: 0.0052 - mae: 0.0529\n",
            "Epoch 554/1000\n",
            "547/547 [==============================] - 8s 15ms/step - loss: 0.0050 - mae: 0.0522\n",
            "Epoch 555/1000\n",
            "547/547 [==============================] - 9s 17ms/step - loss: 0.0052 - mae: 0.0530\n",
            "Epoch 556/1000\n",
            "547/547 [==============================] - 9s 17ms/step - loss: 0.0052 - mae: 0.0533\n",
            "Epoch 557/1000\n",
            "547/547 [==============================] - 8s 15ms/step - loss: 0.0050 - mae: 0.0525\n",
            "Epoch 558/1000\n",
            "547/547 [==============================] - 9s 17ms/step - loss: 0.0052 - mae: 0.0532\n",
            "Epoch 559/1000\n",
            "547/547 [==============================] - 9s 17ms/step - loss: 0.0051 - mae: 0.0527\n",
            "Epoch 560/1000\n",
            "547/547 [==============================] - 8s 15ms/step - loss: 0.0051 - mae: 0.0526\n",
            "Epoch 561/1000\n",
            "547/547 [==============================] - 9s 17ms/step - loss: 0.0051 - mae: 0.0529\n",
            "Epoch 562/1000\n",
            "547/547 [==============================] - 9s 17ms/step - loss: 0.0051 - mae: 0.0524\n",
            "Epoch 563/1000\n",
            "547/547 [==============================] - 8s 15ms/step - loss: 0.0050 - mae: 0.0525\n",
            "Epoch 564/1000\n",
            "547/547 [==============================] - 9s 17ms/step - loss: 0.0050 - mae: 0.0520\n",
            "Epoch 565/1000\n",
            "547/547 [==============================] - 9s 17ms/step - loss: 0.0050 - mae: 0.0522\n",
            "Epoch 566/1000\n",
            "547/547 [==============================] - 8s 15ms/step - loss: 0.0049 - mae: 0.0519\n",
            "Epoch 567/1000\n",
            "547/547 [==============================] - 9s 17ms/step - loss: 0.0053 - mae: 0.0536\n",
            "Epoch 568/1000\n",
            "547/547 [==============================] - 9s 17ms/step - loss: 0.0051 - mae: 0.0529\n",
            "Epoch 569/1000\n",
            "547/547 [==============================] - 8s 15ms/step - loss: 0.0050 - mae: 0.0524\n",
            "Epoch 570/1000\n",
            "547/547 [==============================] - 9s 17ms/step - loss: 0.0051 - mae: 0.0526\n",
            "Epoch 571/1000\n",
            "547/547 [==============================] - 9s 17ms/step - loss: 0.0050 - mae: 0.0525\n",
            "Epoch 572/1000\n",
            "547/547 [==============================] - 8s 15ms/step - loss: 0.0050 - mae: 0.0525\n",
            "Epoch 573/1000\n",
            "547/547 [==============================] - 9s 17ms/step - loss: 0.0052 - mae: 0.0536\n",
            "Epoch 574/1000\n",
            "547/547 [==============================] - 9s 17ms/step - loss: 0.0052 - mae: 0.0529\n",
            "Epoch 575/1000\n",
            "547/547 [==============================] - 9s 16ms/step - loss: 0.0049 - mae: 0.0518\n",
            "Epoch 576/1000\n",
            "547/547 [==============================] - 9s 16ms/step - loss: 0.0050 - mae: 0.0528\n",
            "Epoch 577/1000\n",
            "547/547 [==============================] - 9s 17ms/step - loss: 0.0049 - mae: 0.0517\n",
            "Epoch 578/1000\n",
            "547/547 [==============================] - 9s 16ms/step - loss: 0.0050 - mae: 0.0524\n",
            "Epoch 579/1000\n",
            "547/547 [==============================] - 9s 16ms/step - loss: 0.0050 - mae: 0.0526\n",
            "Epoch 580/1000\n",
            "547/547 [==============================] - 9s 17ms/step - loss: 0.0050 - mae: 0.0524\n",
            "Epoch 581/1000\n",
            "547/547 [==============================] - 9s 16ms/step - loss: 0.0051 - mae: 0.0523\n",
            "Epoch 582/1000\n",
            "547/547 [==============================] - 9s 16ms/step - loss: 0.0049 - mae: 0.0519\n",
            "Epoch 583/1000\n",
            "547/547 [==============================] - 9s 17ms/step - loss: 0.0050 - mae: 0.0523\n",
            "Epoch 584/1000\n",
            "547/547 [==============================] - 9s 16ms/step - loss: 0.0051 - mae: 0.0528\n",
            "Epoch 585/1000\n",
            "547/547 [==============================] - 9s 16ms/step - loss: 0.0050 - mae: 0.0521\n",
            "Epoch 586/1000\n",
            "547/547 [==============================] - 9s 17ms/step - loss: 0.0052 - mae: 0.0532\n",
            "Epoch 587/1000\n",
            "547/547 [==============================] - 9s 16ms/step - loss: 0.0049 - mae: 0.0518\n",
            "Epoch 588/1000\n",
            "545/547 [============================>.] - ETA: 0s - loss: 0.0051 - mae: 0.0525Restoring model weights from the end of the best epoch: 538.\n",
            "547/547 [==============================] - 9s 16ms/step - loss: 0.0051 - mae: 0.0525\n",
            "Epoch 588: early stopping\n"
          ]
        },
        {
          "output_type": "execute_result",
          "data": {
            "text/plain": [
              "<keras.src.callbacks.History at 0x7c0e38d76e60>"
            ]
          },
          "metadata": {},
          "execution_count": 73
        }
      ]
    },
    {
      "cell_type": "markdown",
      "source": [
        "# 결과"
      ],
      "metadata": {
        "id": "Y678Tw7cEbgH"
      }
    },
    {
      "cell_type": "code",
      "source": [
        "predictions = model.predict([test_df1_re, test_df2_re, test_df3_re])"
      ],
      "metadata": {
        "colab": {
          "base_uri": "https://localhost:8080/"
        },
        "id": "dlTBTWjbEXB3",
        "outputId": "1c371f7e-8b68-45f5-8d67-38b9623fba13"
      },
      "execution_count": null,
      "outputs": [
        {
          "output_type": "stream",
          "name": "stdout",
          "text": [
            "547/547 [==============================] - 4s 7ms/step\n"
          ]
        }
      ]
    },
    {
      "cell_type": "code",
      "source": [
        "predictions_scale = scaler_water.inverse_transform(predictions)"
      ],
      "metadata": {
        "id": "-Az40GT3EbKO"
      },
      "execution_count": null,
      "outputs": []
    },
    {
      "cell_type": "code",
      "source": [
        "predictions_scale.shape"
      ],
      "metadata": {
        "colab": {
          "base_uri": "https://localhost:8080/"
        },
        "id": "3zTvu1PoEeWC",
        "outputId": "18e6c803-d84e-4328-e221-63cc207a08a1"
      },
      "execution_count": null,
      "outputs": [
        {
          "output_type": "execute_result",
          "data": {
            "text/plain": [
              "(17473, 1)"
            ]
          },
          "metadata": {},
          "execution_count": 32
        }
      ]
    },
    {
      "cell_type": "code",
      "source": [
        "predictions_scale"
      ],
      "metadata": {
        "colab": {
          "base_uri": "https://localhost:8080/"
        },
        "id": "wnOKJrUOO4aE",
        "outputId": "757c612f-e6d8-45fc-a615-3e1cea2334cc"
      },
      "execution_count": null,
      "outputs": [
        {
          "output_type": "execute_result",
          "data": {
            "text/plain": [
              "array([[0.6999405],\n",
              "       [0.6999405],\n",
              "       [0.6999405],\n",
              "       ...,\n",
              "       [0.6999405],\n",
              "       [0.6999405],\n",
              "       [0.6999405]], dtype=float32)"
            ]
          },
          "metadata": {},
          "execution_count": 35
        }
      ]
    },
    {
      "cell_type": "code",
      "source": [
        "import matplotlib.pyplot as plt\n",
        "\n",
        "plt.figure(figsize=(10, 6))\n",
        "\n",
        "plt.plot(predictions_scale, label='Predicted', color = 'b', alpha=0.7)\n",
        "plt.plot(test_wdf, label='Actual', color = 'y', alpha=0.7)\n",
        "\n",
        "plt.xlabel('Time Step')\n",
        "plt.ylabel('Water Level')\n",
        "plt.title('Predicted vs Actual')\n",
        "plt.legend()\n",
        "plt.show()"
      ],
      "metadata": {
        "colab": {
          "base_uri": "https://localhost:8080/",
          "height": 564
        },
        "id": "YFN02LEuEiR6",
        "outputId": "98ebda04-0959-4bd6-d916-e493d790c574"
      },
      "execution_count": null,
      "outputs": [
        {
          "output_type": "display_data",
          "data": {
            "text/plain": [
              "<Figure size 1000x600 with 1 Axes>"
            ],
            "image/png": "[encoded data removed]"
          },
          "metadata": {}
        }
      ]
    },
    {
      "cell_type": "code",
      "source": [
        "predictions_scale[:10]"
      ],
      "metadata": {
        "colab": {
          "base_uri": "https://localhost:8080/"
        },
        "id": "lIODPBfuEq5p",
        "outputId": "91c93cd0-1ea4-41ea-c0ae-21d0fc1376e4"
      },
      "execution_count": null,
      "outputs": [
        {
          "output_type": "execute_result",
          "data": {
            "text/plain": [
              "array([[0.59753716],\n",
              "       [0.59753716],\n",
              "       [0.59753716],\n",
              "       [0.59753716],\n",
              "       [0.59753716],\n",
              "       [0.59753716],\n",
              "       [0.59753716],\n",
              "       [0.59753716],\n",
              "       [0.59753716],\n",
              "       [0.59753716]], dtype=float32)"
            ]
          },
          "metadata": {},
          "execution_count": 78
        }
      ]
    },
    {
      "cell_type": "markdown",
      "source": [
        "- 모델저장"
      ],
      "metadata": {
        "id": "FvibEbcjg8Uv"
      }
    },
    {
      "cell_type": "code",
      "source": [
        "model.save(\"model_48_cnn.h5\")"
      ],
      "metadata": {
        "id": "zz4CeUi_FxDT",
        "colab": {
          "base_uri": "https://localhost:8080/"
        },
        "outputId": "827ee63f-b9dc-43b8-88ea-f3c9bfa906fa"
      },
      "execution_count": null,
      "outputs": [
        {
          "output_type": "stream",
          "name": "stderr",
          "text": [
            "/usr/local/lib/python3.10/dist-packages/keras/src/engine/training.py:3000: UserWarning: You are saving your model as an HDF5 file via `model.save()`. This file format is considered legacy. We recommend using instead the native Keras format, e.g. `model.save('my_model.keras')`.\n",
            "  saving_api.save_model(\n"
          ]
        }
      ]
    },
    {
      "cell_type": "code",
      "source": [
        "from pickle import dump\n",
        "\n",
        "dump(scaler, open('./48_cnn_scaler.pkl', 'wb'))"
      ],
      "metadata": {
        "id": "m2OHznfygpU4"
      },
      "execution_count": null,
      "outputs": []
    },
    {
      "cell_type": "code",
      "source": [
        "dump(scaler_water, open('./48_cnn_water_scaler.pkl', 'wb'))"
      ],
      "metadata": {
        "id": "md64lEyku08O"
      },
      "execution_count": null,
      "outputs": []
    },
    {
      "cell_type": "markdown",
      "source": [
        "# 모델 테스트"
      ],
      "metadata": {
        "id": "Sh8-DwdlE40k"
      }
    },
    {
      "cell_type": "code",
      "source": [
        "t1 = pd.read_csv('11111.csv')"
      ],
      "metadata": {
        "id": "sYnvgASqEr7E"
      },
      "execution_count": null,
      "outputs": []
    },
    {
      "cell_type": "code",
      "source": [
        "t2 = pd.read_csv('22222.csv')"
      ],
      "metadata": {
        "id": "JdZcSrltKm6y"
      },
      "execution_count": null,
      "outputs": []
    },
    {
      "cell_type": "code",
      "source": [
        "t3 = pd.read_csv('33333.csv')"
      ],
      "metadata": {
        "id": "0RHLGW-ZKqLD"
      },
      "execution_count": null,
      "outputs": []
    },
    {
      "cell_type": "code",
      "source": [
        "tw = pd.read_csv('test수위48.csv')"
      ],
      "metadata": {
        "id": "YTId3S6tNd4p"
      },
      "execution_count": null,
      "outputs": []
    },
    {
      "cell_type": "code",
      "source": [
        "test_w = tw[[\"수위\"]].values"
      ],
      "metadata": {
        "id": "52CN6ba0y3IB"
      },
      "execution_count": null,
      "outputs": []
    },
    {
      "cell_type": "code",
      "source": [
        "from keras.models import load_model\n",
        "\n",
        "model_filename = 'model_48_cnn.h5'\n",
        "\n",
        "loaded_model = load_model(model_filename)"
      ],
      "metadata": {
        "id": "LxrWXh9ML7tR"
      },
      "execution_count": null,
      "outputs": []
    },
    {
      "cell_type": "code",
      "source": [
        "from pickle import load\n",
        "\n",
        "load_minmax_scaler = load(open('48_cnn_scaler.pkl', 'rb'))"
      ],
      "metadata": {
        "id": "P3Cq2MVyzOIb"
      },
      "execution_count": null,
      "outputs": []
    },
    {
      "cell_type": "code",
      "source": [
        "load_minmax_scaler_water = load(open('48_cnn_water_scaler.pkl', 'rb'))"
      ],
      "metadata": {
        "id": "1wdw3h3OG2w6"
      },
      "execution_count": null,
      "outputs": []
    },
    {
      "cell_type": "markdown",
      "source": [
        "## 데이터 전처리"
      ],
      "metadata": {
        "id": "uTsrJIjrMJWc"
      }
    },
    {
      "cell_type": "code",
      "source": [
        "features = ['기온(°C)', '풍향(deg)', '풍속(m/s)', '강수량(mm)', '습도(%)']"
      ],
      "metadata": {
        "id": "A3Jd8OeHMM-0"
      },
      "execution_count": null,
      "outputs": []
    },
    {
      "cell_type": "code",
      "source": [
        "test_t1 = t1[features].values\n",
        "test_t2 = t2[features].values\n",
        "test_t3 = t3[features].values"
      ],
      "metadata": {
        "id": "q3Adq-LDMQbR"
      },
      "execution_count": null,
      "outputs": []
    },
    {
      "cell_type": "markdown",
      "source": [
        "### 정규화"
      ],
      "metadata": {
        "id": "Xl8krTSZMLl9"
      }
    },
    {
      "cell_type": "code",
      "source": [
        "# 상류 하천 데이터 정규화\n",
        "test_df1_z = load_minmax_scaler.fit_transform(test_t1)\n",
        "test_df2_z = load_minmax_scaler.fit_transform(test_t2)\n",
        "test_df3_z = load_minmax_scaler.fit_transform(test_t3)"
      ],
      "metadata": {
        "id": "AsEc0U0xMPvM"
      },
      "execution_count": null,
      "outputs": []
    },
    {
      "cell_type": "code",
      "source": [
        "time_steps = 48\n",
        "\n",
        "new_data = []\n",
        "\n",
        "for i in range(len(test_df1_z) - time_steps + 1):\n",
        "    batch = test_df1_z[i:i+time_steps]\n",
        "    new_data.append(batch)\n",
        "\n",
        "test_df1_re = np.array(new_data)"
      ],
      "metadata": {
        "id": "y-4JO5gmMm65"
      },
      "execution_count": null,
      "outputs": []
    },
    {
      "cell_type": "code",
      "source": [
        "test_df1_re.shape"
      ],
      "metadata": {
        "colab": {
          "base_uri": "https://localhost:8080/"
        },
        "id": "N-sBT4OPMqFR",
        "outputId": "7813049d-ad86-4373-f64c-ebcb1a37cbb4"
      },
      "execution_count": null,
      "outputs": [
        {
          "output_type": "execute_result",
          "data": {
            "text/plain": [
              "(25, 48, 5)"
            ]
          },
          "metadata": {},
          "execution_count": 52
        }
      ]
    },
    {
      "cell_type": "code",
      "source": [
        "new_data = []\n",
        "\n",
        "for i in range(len(test_df2_z) - time_steps + 1):\n",
        "    batch = test_df2_z[i:i+time_steps]\n",
        "    new_data.append(batch)\n",
        "\n",
        "test_df2_re = np.array(new_data)"
      ],
      "metadata": {
        "id": "CIxyECrfOBeo"
      },
      "execution_count": null,
      "outputs": []
    },
    {
      "cell_type": "code",
      "source": [
        "new_data = []\n",
        "\n",
        "for i in range(len(test_df3_z) - time_steps + 1):\n",
        "    batch = test_df3_z[i:i+time_steps]\n",
        "    new_data.append(batch)\n",
        "\n",
        "test_df3_re = np.array(new_data)"
      ],
      "metadata": {
        "id": "9LZHQi5gODIw"
      },
      "execution_count": null,
      "outputs": []
    },
    {
      "cell_type": "markdown",
      "source": [
        "### 결과"
      ],
      "metadata": {
        "id": "uBZc5w9YP7K3"
      }
    },
    {
      "cell_type": "code",
      "source": [
        "predictions = loaded_model.predict([test_df1_re, test_df2_re, test_df3_re])"
      ],
      "metadata": {
        "colab": {
          "base_uri": "https://localhost:8080/"
        },
        "id": "jsdhkizJLxEI",
        "outputId": "1db16a84-ce98-4544-d2f0-61426974855b"
      },
      "execution_count": null,
      "outputs": [
        {
          "output_type": "stream",
          "name": "stdout",
          "text": [
            "1/1 [==============================] - 0s 282ms/step\n"
          ]
        }
      ]
    },
    {
      "cell_type": "code",
      "source": [
        "predictions"
      ],
      "metadata": {
        "id": "6MxpQRCKPHTw"
      },
      "execution_count": null,
      "outputs": []
    },
    {
      "cell_type": "code",
      "source": [
        "predictions_scaler = load_minmax_scaler_water.inverse_transform(predictions)"
      ],
      "metadata": {
        "id": "qDuXOUGCPTMB"
      },
      "execution_count": null,
      "outputs": []
    },
    {
      "cell_type": "code",
      "source": [
        "predictions_scaler"
      ],
      "metadata": {
        "colab": {
          "base_uri": "https://localhost:8080/"
        },
        "id": "6qfF770gPWlx",
        "outputId": "a081b2d6-9d92-4c96-93ee-a27a163d02b9"
      },
      "execution_count": null,
      "outputs": [
        {
          "output_type": "execute_result",
          "data": {
            "text/plain": [
              "array([[0.66359544],\n",
              "       [0.6500345 ],\n",
              "       [0.6744711 ],\n",
              "       [0.6569511 ],\n",
              "       [0.66976875],\n",
              "       [0.65160793],\n",
              "       [0.62916976],\n",
              "       [0.6427949 ],\n",
              "       [0.63147783],\n",
              "       [0.6253056 ],\n",
              "       [0.63690966],\n",
              "       [0.61404973],\n",
              "       [0.66987765],\n",
              "       [0.64345396],\n",
              "       [0.67464685],\n",
              "       [0.64775395],\n",
              "       [0.67617434],\n",
              "       [0.6634609 ],\n",
              "       [0.6790228 ],\n",
              "       [0.6462176 ],\n",
              "       [0.631968  ],\n",
              "       [0.5978927 ],\n",
              "       [0.6272656 ],\n",
              "       [0.6266331 ],\n",
              "       [0.6181421 ]], dtype=float32)"
            ]
          },
          "metadata": {},
          "execution_count": 60
        }
      ]
    },
    {
      "cell_type": "code",
      "source": [
        "predictions_scaler.shape"
      ],
      "metadata": {
        "colab": {
          "base_uri": "https://localhost:8080/"
        },
        "id": "KLELP3lUQAyQ",
        "outputId": "65e72c18-3772-44a2-a580-1b9590f7d60c"
      },
      "execution_count": null,
      "outputs": [
        {
          "output_type": "execute_result",
          "data": {
            "text/plain": [
              "(25, 1)"
            ]
          },
          "metadata": {},
          "execution_count": 61
        }
      ]
    },
    {
      "cell_type": "code",
      "source": [
        "test_w"
      ],
      "metadata": {
        "colab": {
          "base_uri": "https://localhost:8080/"
        },
        "id": "Qpx2XHIS9NTM",
        "outputId": "efc9a040-a512-491a-ad79-f150144df347"
      },
      "execution_count": null,
      "outputs": [
        {
          "output_type": "execute_result",
          "data": {
            "text/plain": [
              "array([[0.66],\n",
              "       [0.66],\n",
              "       [0.66],\n",
              "       [0.66],\n",
              "       [0.66],\n",
              "       [0.66],\n",
              "       [0.66],\n",
              "       [0.66],\n",
              "       [0.66],\n",
              "       [0.66],\n",
              "       [0.66],\n",
              "       [0.66],\n",
              "       [0.66],\n",
              "       [0.66],\n",
              "       [0.66],\n",
              "       [0.65],\n",
              "       [0.65],\n",
              "       [0.65],\n",
              "       [0.65],\n",
              "       [0.65],\n",
              "       [0.65],\n",
              "       [0.65],\n",
              "       [0.65],\n",
              "       [0.65],\n",
              "       [0.65]])"
            ]
          },
          "metadata": {},
          "execution_count": 62
        }
      ]
    },
    {
      "cell_type": "code",
      "source": [
        "import matplotlib.pyplot as plt\n",
        "\n",
        "plt.figure(figsize=(10, 6))\n",
        "\n",
        "plt.plot(predictions_scaler, label='Predicted', color = 'b', alpha=0.7)\n",
        "plt.plot(test_w, label='Actual', color = 'y', alpha=0.7)\n",
        "\n",
        "plt.xlabel('Time Step')\n",
        "plt.ylabel('Water Level')\n",
        "plt.title('Predicted vs Actual')\n",
        "plt.legend()\n",
        "plt.show()"
      ],
      "metadata": {
        "id": "iydMlLF_zn5i",
        "colab": {
          "base_uri": "https://localhost:8080/",
          "height": 564
        },
        "outputId": "eba8ca50-bca6-4ff5-85c6-e07860a90d22"
      },
      "execution_count": null,
      "outputs": [
        {
          "output_type": "display_data",
          "data": {
            "text/plain": [
              "<Figure size 1000x600 with 1 Axes>"
            ],
            "image/png": "[encoded data removed]"
          },
          "metadata": {}
        }
      ]
    },
    {
      "cell_type": "code",
      "source": [
        "# RMSE\n",
        "rmse = np.sqrt(((predictions_scaler - test_w) ** 2).mean())\n",
        "\n",
        "# MAE\n",
        "mae = np.abs(predictions_scaler - test_w).mean()\n",
        "\n",
        "print(\"RMSE:\", rmse)\n",
        "print(\"MAE:\", mae)"
      ],
      "metadata": {
        "colab": {
          "base_uri": "https://localhost:8080/"
        },
        "id": "8Dn6P7KMHNJf",
        "outputId": "90162d6a-53b5-403d-fdb3-9731fc5d3eeb"
      },
      "execution_count": null,
      "outputs": [
        {
          "output_type": "stream",
          "name": "stdout",
          "text": [
            "RMSE: 0.023526219931157697\n",
            "MAE: 0.01973558998107911\n"
          ]
        }
      ]
    },
    {
      "cell_type": "markdown",
      "source": [
        "## 3시간 테스트\n",
        "-> 27개의데이터"
      ],
      "metadata": {
        "id": "HCR-ENjsQeuP"
      }
    },
    {
      "cell_type": "code",
      "source": [
        "t1 = pd.read_csv('test48-1.csv')"
      ],
      "metadata": {
        "id": "5M_sOJCgQBb2"
      },
      "execution_count": null,
      "outputs": []
    },
    {
      "cell_type": "code",
      "source": [
        "t2 = pd.read_csv('test48-2.csv')"
      ],
      "metadata": {
        "id": "ohOeHbEqQqT3"
      },
      "execution_count": null,
      "outputs": []
    },
    {
      "cell_type": "code",
      "source": [
        "t3 = pd.read_csv('test48-3.csv')"
      ],
      "metadata": {
        "id": "2yVhUfDNQrl3"
      },
      "execution_count": null,
      "outputs": []
    },
    {
      "cell_type": "code",
      "source": [
        "features = ['기온(°C)', '풍향(deg)', '풍속(m/s)', '강수량(mm)', '습도(%)']"
      ],
      "metadata": {
        "id": "66LXCY_zQysf"
      },
      "execution_count": null,
      "outputs": []
    },
    {
      "cell_type": "code",
      "source": [
        "t2"
      ],
      "metadata": {
        "colab": {
          "base_uri": "https://localhost:8080/",
          "height": 615
        },
        "id": "FVZ6nRHoRga3",
        "outputId": "8465f6f0-358b-4c57-b984-20638d2085e4"
      },
      "execution_count": null,
      "outputs": [
        {
          "output_type": "execute_result",
          "data": {
            "text/plain": [
              "     지점 지점명                일시  기온(°C)  풍향(deg)  풍속(m/s)  강수량(mm)  현지기압(hPa)  \\\n",
              "0   764  신덕  2023-08-15 00:00    23.9      0.0      0.4      0.0      981.5   \n",
              "1   764  신덕  2023-08-15 01:00    23.9      0.0      0.0      0.0      981.4   \n",
              "2   764  신덕  2023-08-15 02:00    23.3      0.0      0.1      0.0      981.1   \n",
              "3   764  신덕  2023-08-15 03:00    23.4      0.0      0.0      0.0      980.9   \n",
              "4   764  신덕  2023-08-15 04:00    23.4      0.0      0.2      0.0      980.7   \n",
              "..  ...  ..               ...     ...      ...      ...      ...        ...   \n",
              "69  764  신덕  2023-08-17 21:00    24.5    347.9      0.6      0.0      981.3   \n",
              "70  764  신덕  2023-08-17 22:00    24.2     78.4      1.4      0.5      982.1   \n",
              "71  764  신덕  2023-08-17 23:00    23.4    139.3      0.6      0.5      982.2   \n",
              "72  764  신덕  2023-08-18 00:00    23.0    155.7      0.9      0.0      982.5   \n",
              "73  764  신덕  2023-08-18 01:00    22.6    142.4      0.7      0.0      982.0   \n",
              "\n",
              "    해면기압(hPa)  습도(%)  \n",
              "0      1005.2     98  \n",
              "1      1005.1     98  \n",
              "2      1004.9     99  \n",
              "3      1004.7     99  \n",
              "4      1004.5     99  \n",
              "..        ...    ...  \n",
              "69     1005.2     96  \n",
              "70     1005.8     93  \n",
              "71     1006.0     98  \n",
              "72     1006.4     98  \n",
              "73     1005.9     99  \n",
              "\n",
              "[74 rows x 10 columns]"
            ],
            "text/html": [
              "\n",
              "  <div id=\"df-f7e70dae-2762-4962-9d8d-e360fdd729b7\" class=\"colab-df-container\">\n",
              "    <div>\n",
              "<style scoped>\n",
              "    .dataframe tbody tr th:only-of-type {\n",
              "        vertical-align: middle;\n",
              "    }\n",
              "\n",
              "    .dataframe tbody tr th {\n",
              "        vertical-align: top;\n",
              "    }\n",
              "\n",
              "    .dataframe thead th {\n",
              "        text-align: right;\n",
              "    }\n",
              "</style>\n",
              "<table border=\"1\" class=\"dataframe\">\n",
              "  <thead>\n",
              "    <tr style=\"text-align: right;\">\n",
              "      <th></th>\n",
              "      <th>지점</th>\n",
              "      <th>지점명</th>\n",
              "      <th>일시</th>\n",
              "      <th>기온(°C)</th>\n",
              "      <th>풍향(deg)</th>\n",
              "      <th>풍속(m/s)</th>\n",
              "      <th>강수량(mm)</th>\n",
              "      <th>현지기압(hPa)</th>\n",
              "      <th>해면기압(hPa)</th>\n",
              "      <th>습도(%)</th>\n",
              "    </tr>\n",
              "  </thead>\n",
              "  <tbody>\n",
              "    <tr>\n",
              "      <th>0</th>\n",
              "      <td>764</td>\n",
              "      <td>신덕</td>\n",
              "      <td>2023-08-15 00:00</td>\n",
              "      <td>23.9</td>\n",
              "      <td>0.0</td>\n",
              "      <td>0.4</td>\n",
              "      <td>0.0</td>\n",
              "      <td>981.5</td>\n",
              "      <td>1005.2</td>\n",
              "      <td>98</td>\n",
              "    </tr>\n",
              "    <tr>\n",
              "      <th>1</th>\n",
              "      <td>764</td>\n",
              "      <td>신덕</td>\n",
              "      <td>2023-08-15 01:00</td>\n",
              "      <td>23.9</td>\n",
              "      <td>0.0</td>\n",
              "      <td>0.0</td>\n",
              "      <td>0.0</td>\n",
              "      <td>981.4</td>\n",
              "      <td>1005.1</td>\n",
              "      <td>98</td>\n",
              "    </tr>\n",
              "    <tr>\n",
              "      <th>2</th>\n",
              "      <td>764</td>\n",
              "      <td>신덕</td>\n",
              "      <td>2023-08-15 02:00</td>\n",
              "      <td>23.3</td>\n",
              "      <td>0.0</td>\n",
              "      <td>0.1</td>\n",
              "      <td>0.0</td>\n",
              "      <td>981.1</td>\n",
              "      <td>1004.9</td>\n",
              "      <td>99</td>\n",
              "    </tr>\n",
              "    <tr>\n",
              "      <th>3</th>\n",
              "      <td>764</td>\n",
              "      <td>신덕</td>\n",
              "      <td>2023-08-15 03:00</td>\n",
              "      <td>23.4</td>\n",
              "      <td>0.0</td>\n",
              "      <td>0.0</td>\n",
              "      <td>0.0</td>\n",
              "      <td>980.9</td>\n",
              "      <td>1004.7</td>\n",
              "      <td>99</td>\n",
              "    </tr>\n",
              "    <tr>\n",
              "      <th>4</th>\n",
              "      <td>764</td>\n",
              "      <td>신덕</td>\n",
              "      <td>2023-08-15 04:00</td>\n",
              "      <td>23.4</td>\n",
              "      <td>0.0</td>\n",
              "      <td>0.2</td>\n",
              "      <td>0.0</td>\n",
              "      <td>980.7</td>\n",
              "      <td>1004.5</td>\n",
              "      <td>99</td>\n",
              "    </tr>\n",
              "    <tr>\n",
              "      <th>...</th>\n",
              "      <td>...</td>\n",
              "      <td>...</td>\n",
              "      <td>...</td>\n",
              "      <td>...</td>\n",
              "      <td>...</td>\n",
              "      <td>...</td>\n",
              "      <td>...</td>\n",
              "      <td>...</td>\n",
              "      <td>...</td>\n",
              "      <td>...</td>\n",
              "    </tr>\n",
              "    <tr>\n",
              "      <th>69</th>\n",
              "      <td>764</td>\n",
              "      <td>신덕</td>\n",
              "      <td>2023-08-17 21:00</td>\n",
              "      <td>24.5</td>\n",
              "      <td>347.9</td>\n",
              "      <td>0.6</td>\n",
              "      <td>0.0</td>\n",
              "      <td>981.3</td>\n",
              "      <td>1005.2</td>\n",
              "      <td>96</td>\n",
              "    </tr>\n",
              "    <tr>\n",
              "      <th>70</th>\n",
              "      <td>764</td>\n",
              "      <td>신덕</td>\n",
              "      <td>2023-08-17 22:00</td>\n",
              "      <td>24.2</td>\n",
              "      <td>78.4</td>\n",
              "      <td>1.4</td>\n",
              "      <td>0.5</td>\n",
              "      <td>982.1</td>\n",
              "      <td>1005.8</td>\n",
              "      <td>93</td>\n",
              "    </tr>\n",
              "    <tr>\n",
              "      <th>71</th>\n",
              "      <td>764</td>\n",
              "      <td>신덕</td>\n",
              "      <td>2023-08-17 23:00</td>\n",
              "      <td>23.4</td>\n",
              "      <td>139.3</td>\n",
              "      <td>0.6</td>\n",
              "      <td>0.5</td>\n",
              "      <td>982.2</td>\n",
              "      <td>1006.0</td>\n",
              "      <td>98</td>\n",
              "    </tr>\n",
              "    <tr>\n",
              "      <th>72</th>\n",
              "      <td>764</td>\n",
              "      <td>신덕</td>\n",
              "      <td>2023-08-18 00:00</td>\n",
              "      <td>23.0</td>\n",
              "      <td>155.7</td>\n",
              "      <td>0.9</td>\n",
              "      <td>0.0</td>\n",
              "      <td>982.5</td>\n",
              "      <td>1006.4</td>\n",
              "      <td>98</td>\n",
              "    </tr>\n",
              "    <tr>\n",
              "      <th>73</th>\n",
              "      <td>764</td>\n",
              "      <td>신덕</td>\n",
              "      <td>2023-08-18 01:00</td>\n",
              "      <td>22.6</td>\n",
              "      <td>142.4</td>\n",
              "      <td>0.7</td>\n",
              "      <td>0.0</td>\n",
              "      <td>982.0</td>\n",
              "      <td>1005.9</td>\n",
              "      <td>99</td>\n",
              "    </tr>\n",
              "  </tbody>\n",
              "</table>\n",
              "<p>74 rows × 10 columns</p>\n",
              "</div>\n",
              "    <div class=\"colab-df-buttons\">\n",
              "\n",
              "  <div class=\"colab-df-container\">\n",
              "    <button class=\"colab-df-convert\" onclick=\"convertToInteractive('df-f7e70dae-2762-4962-9d8d-e360fdd729b7')\"\n",
              "            title=\"Convert this dataframe to an interactive table.\"\n",
              "            style=\"display:none;\">\n",
              "\n",
              "  <svg xmlns=\"http://www.w3.org/2000/svg\" height=\"24px\" viewBox=\"0 -960 960 960\">\n",
              "    <path d=\"M120-120v-720h720v720H120Zm60-500h600v-160H180v160Zm220 220h160v-160H400v160Zm0 220h160v-160H400v160ZM180-400h160v-160H180v160Zm440 0h160v-160H620v160ZM180-180h160v-160H180v160Zm440 0h160v-160H620v160Z\"/>\n",
              "  </svg>\n",
              "    </button>\n",
              "\n",
              "  <style>\n",
              "    .colab-df-container {\n",
              "      display:flex;\n",
              "      gap: 12px;\n",
              "    }\n",
              "\n",
              "    .colab-df-convert {\n",
              "      background-color: #E8F0FE;\n",
              "      border: none;\n",
              "      border-radius: 50%;\n",
              "      cursor: pointer;\n",
              "      display: none;\n",
              "      fill: #1967D2;\n",
              "      height: 32px;\n",
              "      padding: 0 0 0 0;\n",
              "      width: 32px;\n",
              "    }\n",
              "\n",
              "    .colab-df-convert:hover {\n",
              "      background-color: #E2EBFA;\n",
              "      box-shadow: 0px 1px 2px rgba(60, 64, 67, 0.3), 0px 1px 3px 1px rgba(60, 64, 67, 0.15);\n",
              "      fill: #174EA6;\n",
              "    }\n",
              "\n",
              "    .colab-df-buttons div {\n",
              "      margin-bottom: 4px;\n",
              "    }\n",
              "\n",
              "    [theme=dark] .colab-df-convert {\n",
              "      background-color: #3B4455;\n",
              "      fill: #D2E3FC;\n",
              "    }\n",
              "\n",
              "    [theme=dark] .colab-df-convert:hover {\n",
              "      background-color: #434B5C;\n",
              "      box-shadow: 0px 1px 3px 1px rgba(0, 0, 0, 0.15);\n",
              "      filter: drop-shadow(0px 1px 2px rgba(0, 0, 0, 0.3));\n",
              "      fill: #FFFFFF;\n",
              "    }\n",
              "  </style>\n",
              "\n",
              "    <script>\n",
              "      const buttonEl =\n",
              "        document.querySelector('#df-f7e70dae-2762-4962-9d8d-e360fdd729b7 button.colab-df-convert');\n",
              "      buttonEl.style.display =\n",
              "        google.colab.kernel.accessAllowed ? 'block' : 'none';\n",
              "\n",
              "      async function convertToInteractive(key) {\n",
              "        const element = document.querySelector('#df-f7e70dae-2762-4962-9d8d-e360fdd729b7');\n",
              "        const dataTable =\n",
              "          await google.colab.kernel.invokeFunction('convertToInteractive',\n",
              "                                                    [key], {});\n",
              "        if (!dataTable) return;\n",
              "\n",
              "        const docLinkHtml = 'Like what you see? Visit the ' +\n",
              "          '<a target=\"_blank\" href=https://colab.research.google.com/notebooks/data_table.ipynb>data table notebook</a>'\n",
              "          + ' to learn more about interactive tables.';\n",
              "        element.innerHTML = '';\n",
              "        dataTable['output_type'] = 'display_data';\n",
              "        await google.colab.output.renderOutput(dataTable, element);\n",
              "        const docLink = document.createElement('div');\n",
              "        docLink.innerHTML = docLinkHtml;\n",
              "        element.appendChild(docLink);\n",
              "      }\n",
              "    </script>\n",
              "  </div>\n",
              "\n",
              "\n",
              "<div id=\"df-f2f5b4e8-4c08-40fa-ab5e-b731f5560a15\">\n",
              "  <button class=\"colab-df-quickchart\" onclick=\"quickchart('df-f2f5b4e8-4c08-40fa-ab5e-b731f5560a15')\"\n",
              "            title=\"Suggest charts.\"\n",
              "            style=\"display:none;\">\n",
              "\n",
              "<svg xmlns=\"http://www.w3.org/2000/svg\" height=\"24px\"viewBox=\"0 0 24 24\"\n",
              "     width=\"24px\">\n",
              "    <g>\n",
              "        <path d=\"M19 3H5c-1.1 0-2 .9-2 2v14c0 1.1.9 2 2 2h14c1.1 0 2-.9 2-2V5c0-1.1-.9-2-2-2zM9 17H7v-7h2v7zm4 0h-2V7h2v10zm4 0h-2v-4h2v4z\"/>\n",
              "    </g>\n",
              "</svg>\n",
              "  </button>\n",
              "\n",
              "<style>\n",
              "  .colab-df-quickchart {\n",
              "      --bg-color: #E8F0FE;\n",
              "      --fill-color: #1967D2;\n",
              "      --hover-bg-color: #E2EBFA;\n",
              "      --hover-fill-color: #174EA6;\n",
              "      --disabled-fill-color: #AAA;\n",
              "      --disabled-bg-color: #DDD;\n",
              "  }\n",
              "\n",
              "  [theme=dark] .colab-df-quickchart {\n",
              "      --bg-color: #3B4455;\n",
              "      --fill-color: #D2E3FC;\n",
              "      --hover-bg-color: #434B5C;\n",
              "      --hover-fill-color: #FFFFFF;\n",
              "      --disabled-bg-color: #3B4455;\n",
              "      --disabled-fill-color: #666;\n",
              "  }\n",
              "\n",
              "  .colab-df-quickchart {\n",
              "    background-color: var(--bg-color);\n",
              "    border: none;\n",
              "    border-radius: 50%;\n",
              "    cursor: pointer;\n",
              "    display: none;\n",
              "    fill: var(--fill-color);\n",
              "    height: 32px;\n",
              "    padding: 0;\n",
              "    width: 32px;\n",
              "  }\n",
              "\n",
              "  .colab-df-quickchart:hover {\n",
              "    background-color: var(--hover-bg-color);\n",
              "    box-shadow: 0 1px 2px rgba(60, 64, 67, 0.3), 0 1px 3px 1px rgba(60, 64, 67, 0.15);\n",
              "    fill: var(--button-hover-fill-color);\n",
              "  }\n",
              "\n",
              "  .colab-df-quickchart-complete:disabled,\n",
              "  .colab-df-quickchart-complete:disabled:hover {\n",
              "    background-color: var(--disabled-bg-color);\n",
              "    fill: var(--disabled-fill-color);\n",
              "    box-shadow: none;\n",
              "  }\n",
              "\n",
              "  .colab-df-spinner {\n",
              "    border: 2px solid var(--fill-color);\n",
              "    border-color: transparent;\n",
              "    border-bottom-color: var(--fill-color);\n",
              "    animation:\n",
              "      spin 1s steps(1) infinite;\n",
              "  }\n",
              "\n",
              "  @keyframes spin {\n",
              "    0% {\n",
              "      border-color: transparent;\n",
              "      border-bottom-color: var(--fill-color);\n",
              "      border-left-color: var(--fill-color);\n",
              "    }\n",
              "    20% {\n",
              "      border-color: transparent;\n",
              "      border-left-color: var(--fill-color);\n",
              "      border-top-color: var(--fill-color);\n",
              "    }\n",
              "    30% {\n",
              "      border-color: transparent;\n",
              "      border-left-color: var(--fill-color);\n",
              "      border-top-color: var(--fill-color);\n",
              "      border-right-color: var(--fill-color);\n",
              "    }\n",
              "    40% {\n",
              "      border-color: transparent;\n",
              "      border-right-color: var(--fill-color);\n",
              "      border-top-color: var(--fill-color);\n",
              "    }\n",
              "    60% {\n",
              "      border-color: transparent;\n",
              "      border-right-color: var(--fill-color);\n",
              "    }\n",
              "    80% {\n",
              "      border-color: transparent;\n",
              "      border-right-color: var(--fill-color);\n",
              "      border-bottom-color: var(--fill-color);\n",
              "    }\n",
              "    90% {\n",
              "      border-color: transparent;\n",
              "      border-bottom-color: var(--fill-color);\n",
              "    }\n",
              "  }\n",
              "</style>\n",
              "\n",
              "  <script>\n",
              "    async function quickchart(key) {\n",
              "      const quickchartButtonEl =\n",
              "        document.querySelector('#' + key + ' button');\n",
              "      quickchartButtonEl.disabled = true;  // To prevent multiple clicks.\n",
              "      quickchartButtonEl.classList.add('colab-df-spinner');\n",
              "      try {\n",
              "        const charts = await google.colab.kernel.invokeFunction(\n",
              "            'suggestCharts', [key], {});\n",
              "      } catch (error) {\n",
              "        console.error('Error during call to suggestCharts:', error);\n",
              "      }\n",
              "      quickchartButtonEl.classList.remove('colab-df-spinner');\n",
              "      quickchartButtonEl.classList.add('colab-df-quickchart-complete');\n",
              "    }\n",
              "    (() => {\n",
              "      let quickchartButtonEl =\n",
              "        document.querySelector('#df-f2f5b4e8-4c08-40fa-ab5e-b731f5560a15 button');\n",
              "      quickchartButtonEl.style.display =\n",
              "        google.colab.kernel.accessAllowed ? 'block' : 'none';\n",
              "    })();\n",
              "  </script>\n",
              "</div>\n",
              "    </div>\n",
              "  </div>\n"
            ]
          },
          "metadata": {},
          "execution_count": 28
        }
      ]
    },
    {
      "cell_type": "code",
      "source": [
        "test_t1 = t1[features].values\n",
        "test_t2 = t2[features].values\n",
        "test_t3 = t3[features].values"
      ],
      "metadata": {
        "id": "sAO7unFIQvFv"
      },
      "execution_count": null,
      "outputs": []
    },
    {
      "cell_type": "code",
      "source": [
        "# 정규화\n",
        "scaler = MinMaxScaler()\n",
        "\n",
        "# 상류 하천 데이터 정규화\n",
        "test_df1_z = scaler.fit_transform(test_t1)\n",
        "test_df2_z = scaler.fit_transform(test_t2)\n",
        "test_df3_z = scaler.fit_transform(test_t3)"
      ],
      "metadata": {
        "id": "eShjBF_xQ1sH"
      },
      "execution_count": null,
      "outputs": []
    },
    {
      "cell_type": "code",
      "source": [
        "time_steps = 48\n",
        "\n",
        "new_data = []\n",
        "\n",
        "for i in range(len(test_df1_z) - time_steps + 1):\n",
        "    batch = test_df1_z[i:i+time_steps]\n",
        "    new_data.append(batch)\n",
        "\n",
        "test_df1_re = np.array(new_data)"
      ],
      "metadata": {
        "id": "Onug275VQ5JH"
      },
      "execution_count": null,
      "outputs": []
    },
    {
      "cell_type": "code",
      "source": [
        "new_data = []\n",
        "\n",
        "for i in range(len(test_df2_z) - time_steps + 1):\n",
        "    batch = test_df2_z[i:i+time_steps]\n",
        "    new_data.append(batch)\n",
        "\n",
        "test_df2_re = np.array(new_data)"
      ],
      "metadata": {
        "id": "SBJsBQVhQ7mh"
      },
      "execution_count": null,
      "outputs": []
    },
    {
      "cell_type": "code",
      "source": [
        "new_data = []\n",
        "\n",
        "for i in range(len(test_df3_z) - time_steps + 1):\n",
        "    batch = test_df3_z[i:i+time_steps]\n",
        "    new_data.append(batch)\n",
        "\n",
        "test_df3_re = np.array(new_data)"
      ],
      "metadata": {
        "id": "l6ODVNDRQ94f"
      },
      "execution_count": null,
      "outputs": []
    },
    {
      "cell_type": "code",
      "source": [
        "test_df3_re.shape"
      ],
      "metadata": {
        "colab": {
          "base_uri": "https://localhost:8080/"
        },
        "id": "nZsBXKPpRDqH",
        "outputId": "17a8ff4e-8d4c-49b5-ee66-15b7e61289f5"
      },
      "execution_count": null,
      "outputs": [
        {
          "output_type": "execute_result",
          "data": {
            "text/plain": [
              "(27, 48, 5)"
            ]
          },
          "metadata": {},
          "execution_count": 20
        }
      ]
    },
    {
      "cell_type": "code",
      "source": [
        "test_df3_re"
      ],
      "metadata": {
        "id": "4rFX7Qjm9vZL"
      },
      "execution_count": null,
      "outputs": []
    },
    {
      "cell_type": "code",
      "source": [
        "predictions_t3 = loaded_model.predict([test_df1_re, test_df2_re, test_df3_re])"
      ],
      "metadata": {
        "colab": {
          "base_uri": "https://localhost:8080/",
          "height": 358
        },
        "id": "XHURGCH8RBV3",
        "outputId": "c090065b-5c27-44cf-f8f6-6a6181754bd9"
      },
      "execution_count": null,
      "outputs": [
        {
          "output_type": "error",
          "ename": "ValueError",
          "evalue": "ignored",
          "traceback": [
            "\u001b[0;31m---------------------------------------------------------------------------\u001b[0m",
            "\u001b[0;31mValueError\u001b[0m                                Traceback (most recent call last)",
            "\u001b[0;32m<ipython-input-29-eada66fad4be>\u001b[0m in \u001b[0;36m<cell line: 1>\u001b[0;34m()\u001b[0m\n\u001b[0;32m----> 1\u001b[0;31m \u001b[0mpredictions_t3\u001b[0m \u001b[0;34m=\u001b[0m \u001b[0mloaded_model\u001b[0m\u001b[0;34m.\u001b[0m\u001b[0mpredict\u001b[0m\u001b[0;34m(\u001b[0m\u001b[0;34m[\u001b[0m\u001b[0mtest_df1_re\u001b[0m\u001b[0;34m,\u001b[0m \u001b[0mtest_df2_re\u001b[0m\u001b[0;34m,\u001b[0m \u001b[0mtest_df3_re\u001b[0m\u001b[0;34m]\u001b[0m\u001b[0;34m)\u001b[0m\u001b[0;34m\u001b[0m\u001b[0;34m\u001b[0m\u001b[0m\n\u001b[0m",
            "\u001b[0;32m/usr/local/lib/python3.10/dist-packages/keras/src/utils/traceback_utils.py\u001b[0m in \u001b[0;36merror_handler\u001b[0;34m(*args, **kwargs)\u001b[0m\n\u001b[1;32m     68\u001b[0m             \u001b[0;31m# To get the full stack trace, call:\u001b[0m\u001b[0;34m\u001b[0m\u001b[0;34m\u001b[0m\u001b[0m\n\u001b[1;32m     69\u001b[0m             \u001b[0;31m# `tf.debugging.disable_traceback_filtering()`\u001b[0m\u001b[0;34m\u001b[0m\u001b[0;34m\u001b[0m\u001b[0m\n\u001b[0;32m---> 70\u001b[0;31m             \u001b[0;32mraise\u001b[0m \u001b[0me\u001b[0m\u001b[0;34m.\u001b[0m\u001b[0mwith_traceback\u001b[0m\u001b[0;34m(\u001b[0m\u001b[0mfiltered_tb\u001b[0m\u001b[0;34m)\u001b[0m \u001b[0;32mfrom\u001b[0m \u001b[0;32mNone\u001b[0m\u001b[0;34m\u001b[0m\u001b[0;34m\u001b[0m\u001b[0m\n\u001b[0m\u001b[1;32m     71\u001b[0m         \u001b[0;32mfinally\u001b[0m\u001b[0;34m:\u001b[0m\u001b[0;34m\u001b[0m\u001b[0;34m\u001b[0m\u001b[0m\n\u001b[1;32m     72\u001b[0m             \u001b[0;32mdel\u001b[0m \u001b[0mfiltered_tb\u001b[0m\u001b[0;34m\u001b[0m\u001b[0;34m\u001b[0m\u001b[0m\n",
            "\u001b[0;32m/usr/local/lib/python3.10/dist-packages/keras/src/engine/data_adapter.py\u001b[0m in \u001b[0;36m_check_data_cardinality\u001b[0;34m(data)\u001b[0m\n\u001b[1;32m   1948\u001b[0m             )\n\u001b[1;32m   1949\u001b[0m         \u001b[0mmsg\u001b[0m \u001b[0;34m+=\u001b[0m \u001b[0;34m\"Make sure all arrays contain the same number of samples.\"\u001b[0m\u001b[0;34m\u001b[0m\u001b[0;34m\u001b[0m\u001b[0m\n\u001b[0;32m-> 1950\u001b[0;31m         \u001b[0;32mraise\u001b[0m \u001b[0mValueError\u001b[0m\u001b[0;34m(\u001b[0m\u001b[0mmsg\u001b[0m\u001b[0;34m)\u001b[0m\u001b[0;34m\u001b[0m\u001b[0;34m\u001b[0m\u001b[0m\n\u001b[0m\u001b[1;32m   1951\u001b[0m \u001b[0;34m\u001b[0m\u001b[0m\n\u001b[1;32m   1952\u001b[0m \u001b[0;34m\u001b[0m\u001b[0m\n",
            "\u001b[0;31mValueError\u001b[0m: Data cardinality is ambiguous:\n  x sizes: 25, 27, 27\nMake sure all arrays contain the same number of samples."
          ]
        }
      ]
    },
    {
      "cell_type": "code",
      "source": [
        "predictions_scaler_3 = load_minmax_scaler.inverse_transform(predictions_t3)"
      ],
      "metadata": {
        "id": "l2PDXtl6RLjH"
      },
      "execution_count": null,
      "outputs": []
    },
    {
      "cell_type": "code",
      "source": [
        "predictions_scaler_3"
      ],
      "metadata": {
        "colab": {
          "base_uri": "https://localhost:8080/"
        },
        "id": "YcXEl3CORRan",
        "outputId": "6a0a881d-7353-4202-ff05-67de9363e07b"
      },
      "execution_count": null,
      "outputs": [
        {
          "output_type": "execute_result",
          "data": {
            "text/plain": [
              "array([[0.5297551],\n",
              "       [0.6250757],\n",
              "       [0.6465651]], dtype=float32)"
            ]
          },
          "metadata": {},
          "execution_count": 144
        }
      ]
    },
    {
      "cell_type": "code",
      "source": [
        "tw1 = pd.read_csv('test수위48-1.csv')"
      ],
      "metadata": {
        "id": "9r7wSxEH07up"
      },
      "execution_count": null,
      "outputs": []
    },
    {
      "cell_type": "code",
      "source": [
        "test_w = tw1[[\"수위\"]].values"
      ],
      "metadata": {
        "id": "Kp79H_aF1CEZ"
      },
      "execution_count": null,
      "outputs": []
    },
    {
      "cell_type": "code",
      "source": [
        "test_w"
      ],
      "metadata": {
        "colab": {
          "base_uri": "https://localhost:8080/"
        },
        "id": "LQ03wNsB_Mb6",
        "outputId": "67c990d0-d8cd-4534-aa25-fc8d866f705a"
      },
      "execution_count": null,
      "outputs": [
        {
          "output_type": "execute_result",
          "data": {
            "text/plain": [
              "array([[0.66],\n",
              "       [0.66],\n",
              "       [0.66]])"
            ]
          },
          "metadata": {},
          "execution_count": 146
        }
      ]
    },
    {
      "cell_type": "code",
      "source": [
        "# RMSE\n",
        "rmse = np.sqrt(((predictions_scaler_3 - test_w) ** 2).mean())\n",
        "\n",
        "# MAE\n",
        "mae = np.abs(predictions_scaler_3 - test_w).mean()\n",
        "\n",
        "print(\"RMSE:\", rmse)\n",
        "print(\"MAE:\", mae)"
      ],
      "metadata": {
        "colab": {
          "base_uri": "https://localhost:8080/"
        },
        "id": "hlo9qgvKzwZj",
        "outputId": "45bbd7e8-d3bd-4a09-fb4c-4386627a00af"
      },
      "execution_count": null,
      "outputs": [
        {
          "output_type": "stream",
          "name": "stdout",
          "text": [
            "RMSE: 0.07823880941723418\n",
            "MAE: 0.05953470230102542\n"
          ]
        }
      ]
    },
    {
      "cell_type": "code",
      "source": [
        "import matplotlib.pyplot as plt\n",
        "\n",
        "plt.figure(figsize=(10, 6))\n",
        "\n",
        "plt.plot(predictions_scaler_3, label='Predicted', color = 'b', alpha=0.7)\n",
        "plt.plot(test_w, label='Actual', color = 'y', alpha=0.7)\n",
        "\n",
        "plt.xlabel('Time Step')\n",
        "plt.ylabel('Water Level')\n",
        "plt.title('Predicted vs Actual')\n",
        "plt.legend()\n",
        "plt.show()"
      ],
      "metadata": {
        "id": "AWp2XPmj1FdQ"
      },
      "execution_count": null,
      "outputs": []
    },
    {
      "cell_type": "code",
      "source": [
        "predictions_scaler_3"
      ],
      "metadata": {
        "colab": {
          "base_uri": "https://localhost:8080/"
        },
        "id": "PUDNXgFmMxYp",
        "outputId": "7703bd54-c1ca-49af-aa55-9ce4fec3eb62"
      },
      "execution_count": null,
      "outputs": [
        {
          "output_type": "execute_result",
          "data": {
            "text/plain": [
              "array([[0.5297551],\n",
              "       [0.6250757],\n",
              "       [0.646565 ]])"
            ]
          },
          "metadata": {},
          "execution_count": 15
        }
      ]
    },
    {
      "cell_type": "code",
      "source": [
        "# 데이터 포인트 레이블\n",
        "data_labels = ['02:00', '03:00', '04:00']\n",
        "\n",
        "# 그래프 데이터\n",
        "x = np.arange(len(data_labels))\n",
        "width = 0.35\n",
        "\n",
        "# 예측값과 실제값 막대 그래프 생성\n",
        "fig, ax = plt.subplots()\n",
        "rects1 = ax.bar(x - width/2, predictions_scaler_3.flatten(), width, label='Predictions')\n",
        "rects2 = ax.bar(x + width/2, test_w.flatten(), width, label='Actual')\n",
        "\n",
        "# 레이블과 범례 설정\n",
        "ax.set_xlabel('Time')\n",
        "ax.set_ylabel('Water')\n",
        "ax.set_title('Predicted vs Actual')\n",
        "ax.set_xticks(x)\n",
        "ax.set_xticklabels(data_labels)\n",
        "ax.legend()\n",
        "\n",
        "ax.legend(loc='lower right')\n",
        "\n",
        "# 막대 위에 값 표시\n",
        "def autolabel(rects):\n",
        "    for rect in rects:\n",
        "        height = rect.get_height()\n",
        "        ax.annotate(f'{height:.2f}', xy=(rect.get_x() + rect.get_width() / 2, height), xytext=(0, 3),\n",
        "                    textcoords=\"offset points\", ha='center', va='bottom')\n",
        "\n",
        "autolabel(rects1)\n",
        "autolabel(rects2)\n",
        "\n",
        "plt.tight_layout()\n",
        "plt.show()"
      ],
      "metadata": {
        "colab": {
          "base_uri": "https://localhost:8080/",
          "height": 487
        },
        "id": "YEuP4ezyOQS5",
        "outputId": "54713495-a01e-4d8a-8c51-cad0a06c0eef"
      },
      "execution_count": null,
      "outputs": [
        {
          "output_type": "display_data",
          "data": {
            "text/plain": [
              "<Figure size 640x480 with 1 Axes>"
            ],
            "image/png": "[encoded data removed]"
          },
          "metadata": {}
        }
      ]
    },
    {
      "cell_type": "markdown",
      "source": [
        "#### 72 테스트(48과는 무관)"
      ],
      "metadata": {
        "id": "gbU1XksfeLt0"
      }
    },
    {
      "cell_type": "code",
      "source": [
        "TEST = pd.read_csv('test72-1.csv')"
      ],
      "metadata": {
        "id": "22XkrGw6O6cX"
      },
      "execution_count": null,
      "outputs": []
    },
    {
      "cell_type": "code",
      "source": [
        "# 결측치를 위 아래 값의 평균값으로\n",
        "def fill_with_mean(df, row, column):\n",
        "    # if pd.notna(row[column]):\n",
        "    #     return row[column]\n",
        "\n",
        "    prev_row = df.iloc[row-1]\n",
        "    next_row = df.iloc[row+1]\n",
        "\n",
        "    prev_value = prev_row[column] if pd.notna(prev_row[column]) else 0\n",
        "    next_value = next_row[column] if pd.notna(next_row[column]) else 0\n",
        "\n",
        "    return (prev_value + next_value) / 2"
      ],
      "metadata": {
        "id": "xGzRsaZmHfa7"
      },
      "execution_count": null,
      "outputs": []
    },
    {
      "cell_type": "code",
      "source": [
        "row = 7\n",
        "df = TEST\n",
        "TEST.loc[row, '기온(°C)'] = fill_with_mean(df,row,'기온(°C)')\n",
        "TEST.loc[row, '풍향(deg)'] = fill_with_mean(df,row,'풍향(deg)')\n",
        "TEST.loc[row, '풍속(m/s)'] = fill_with_mean(df,row,'풍속(m/s)')\n",
        "TEST.loc[row, '현지기압(hPa)'] = fill_with_mean(df,row,'현지기압(hPa)')\n",
        "TEST.loc[row, '해면기압(hPa)'] = fill_with_mean(df,row,'해면기압(hPa)')\n",
        "TEST.loc[row, '습도(%)'] = fill_with_mean(df,row,'습도(%)')"
      ],
      "metadata": {
        "id": "f815k7GSHZir"
      },
      "execution_count": null,
      "outputs": []
    },
    {
      "cell_type": "code",
      "source": [
        "TEST[:10]"
      ],
      "metadata": {
        "colab": {
          "base_uri": "https://localhost:8080/",
          "height": 363
        },
        "id": "4sz7WPfNHRFz",
        "outputId": "509a9bd6-0d1f-443d-e923-b8dbe9c6dc95"
      },
      "execution_count": null,
      "outputs": [
        {
          "output_type": "execute_result",
          "data": {
            "text/plain": [
              "    지점  지점명                일시  기온(°C)  풍향(deg)  풍속(m/s)  강수량(mm)  현지기압(hPa)  \\\n",
              "0  762  강진면  2023-08-15 00:00   23.60    279.6      0.8        0      986.3   \n",
              "1  762  강진면  2023-08-15 01:00   23.40      0.0      0.0        0      986.3   \n",
              "2  762  강진면  2023-08-15 02:00   23.70    303.1      1.0        0      986.0   \n",
              "3  762  강진면  2023-08-15 03:00   23.40     53.0      1.5        0      985.7   \n",
              "4  762  강진면  2023-08-15 04:00   23.50      0.0      0.1        0      985.6   \n",
              "5  762  강진면  2023-08-15 05:00   23.60      0.0      0.0        0      985.6   \n",
              "6  762  강진면  2023-08-15 06:00   23.30     70.3      1.0        0      986.1   \n",
              "7  762  강진면  2023-08-15 07:00   25.85    138.8      1.4        0      986.1   \n",
              "8  762  강진면  2023-08-15 10:00   28.40    207.3      1.8        0      986.1   \n",
              "9  762  강진면  2023-08-15 11:00   30.20    248.6      2.1        0      985.3   \n",
              "\n",
              "   해면기압(hPa)  습도(%)  \n",
              "0    1004.90   99.0  \n",
              "1    1004.90  100.0  \n",
              "2    1004.60   99.0  \n",
              "3    1004.30  100.0  \n",
              "4    1004.20  100.0  \n",
              "5    1004.20  100.0  \n",
              "6    1004.70  100.0  \n",
              "7    1004.55   90.0  \n",
              "8    1004.40   80.0  \n",
              "9    1003.60   72.0  "
            ],
            "text/html": [
              "\n",
              "  <div id=\"df-b0402f83-9695-4455-8017-2a72f8c8db5e\" class=\"colab-df-container\">\n",
              "    <div>\n",
              "<style scoped>\n",
              "    .dataframe tbody tr th:only-of-type {\n",
              "        vertical-align: middle;\n",
              "    }\n",
              "\n",
              "    .dataframe tbody tr th {\n",
              "        vertical-align: top;\n",
              "    }\n",
              "\n",
              "    .dataframe thead th {\n",
              "        text-align: right;\n",
              "    }\n",
              "</style>\n",
              "<table border=\"1\" class=\"dataframe\">\n",
              "  <thead>\n",
              "    <tr style=\"text-align: right;\">\n",
              "      <th></th>\n",
              "      <th>지점</th>\n",
              "      <th>지점명</th>\n",
              "      <th>일시</th>\n",
              "      <th>기온(°C)</th>\n",
              "      <th>풍향(deg)</th>\n",
              "      <th>풍속(m/s)</th>\n",
              "      <th>강수량(mm)</th>\n",
              "      <th>현지기압(hPa)</th>\n",
              "      <th>해면기압(hPa)</th>\n",
              "      <th>습도(%)</th>\n",
              "    </tr>\n",
              "  </thead>\n",
              "  <tbody>\n",
              "    <tr>\n",
              "      <th>0</th>\n",
              "      <td>762</td>\n",
              "      <td>강진면</td>\n",
              "      <td>2023-08-15 00:00</td>\n",
              "      <td>23.60</td>\n",
              "      <td>279.6</td>\n",
              "      <td>0.8</td>\n",
              "      <td>0</td>\n",
              "      <td>986.3</td>\n",
              "      <td>1004.90</td>\n",
              "      <td>99.0</td>\n",
              "    </tr>\n",
              "    <tr>\n",
              "      <th>1</th>\n",
              "      <td>762</td>\n",
              "      <td>강진면</td>\n",
              "      <td>2023-08-15 01:00</td>\n",
              "      <td>23.40</td>\n",
              "      <td>0.0</td>\n",
              "      <td>0.0</td>\n",
              "      <td>0</td>\n",
              "      <td>986.3</td>\n",
              "      <td>1004.90</td>\n",
              "      <td>100.0</td>\n",
              "    </tr>\n",
              "    <tr>\n",
              "      <th>2</th>\n",
              "      <td>762</td>\n",
              "      <td>강진면</td>\n",
              "      <td>2023-08-15 02:00</td>\n",
              "      <td>23.70</td>\n",
              "      <td>303.1</td>\n",
              "      <td>1.0</td>\n",
              "      <td>0</td>\n",
              "      <td>986.0</td>\n",
              "      <td>1004.60</td>\n",
              "      <td>99.0</td>\n",
              "    </tr>\n",
              "    <tr>\n",
              "      <th>3</th>\n",
              "      <td>762</td>\n",
              "      <td>강진면</td>\n",
              "      <td>2023-08-15 03:00</td>\n",
              "      <td>23.40</td>\n",
              "      <td>53.0</td>\n",
              "      <td>1.5</td>\n",
              "      <td>0</td>\n",
              "      <td>985.7</td>\n",
              "      <td>1004.30</td>\n",
              "      <td>100.0</td>\n",
              "    </tr>\n",
              "    <tr>\n",
              "      <th>4</th>\n",
              "      <td>762</td>\n",
              "      <td>강진면</td>\n",
              "      <td>2023-08-15 04:00</td>\n",
              "      <td>23.50</td>\n",
              "      <td>0.0</td>\n",
              "      <td>0.1</td>\n",
              "      <td>0</td>\n",
              "      <td>985.6</td>\n",
              "      <td>1004.20</td>\n",
              "      <td>100.0</td>\n",
              "    </tr>\n",
              "    <tr>\n",
              "      <th>5</th>\n",
              "      <td>762</td>\n",
              "      <td>강진면</td>\n",
              "      <td>2023-08-15 05:00</td>\n",
              "      <td>23.60</td>\n",
              "      <td>0.0</td>\n",
              "      <td>0.0</td>\n",
              "      <td>0</td>\n",
              "      <td>985.6</td>\n",
              "      <td>1004.20</td>\n",
              "      <td>100.0</td>\n",
              "    </tr>\n",
              "    <tr>\n",
              "      <th>6</th>\n",
              "      <td>762</td>\n",
              "      <td>강진면</td>\n",
              "      <td>2023-08-15 06:00</td>\n",
              "      <td>23.30</td>\n",
              "      <td>70.3</td>\n",
              "      <td>1.0</td>\n",
              "      <td>0</td>\n",
              "      <td>986.1</td>\n",
              "      <td>1004.70</td>\n",
              "      <td>100.0</td>\n",
              "    </tr>\n",
              "    <tr>\n",
              "      <th>7</th>\n",
              "      <td>762</td>\n",
              "      <td>강진면</td>\n",
              "      <td>2023-08-15 07:00</td>\n",
              "      <td>25.85</td>\n",
              "      <td>138.8</td>\n",
              "      <td>1.4</td>\n",
              "      <td>0</td>\n",
              "      <td>986.1</td>\n",
              "      <td>1004.55</td>\n",
              "      <td>90.0</td>\n",
              "    </tr>\n",
              "    <tr>\n",
              "      <th>8</th>\n",
              "      <td>762</td>\n",
              "      <td>강진면</td>\n",
              "      <td>2023-08-15 10:00</td>\n",
              "      <td>28.40</td>\n",
              "      <td>207.3</td>\n",
              "      <td>1.8</td>\n",
              "      <td>0</td>\n",
              "      <td>986.1</td>\n",
              "      <td>1004.40</td>\n",
              "      <td>80.0</td>\n",
              "    </tr>\n",
              "    <tr>\n",
              "      <th>9</th>\n",
              "      <td>762</td>\n",
              "      <td>강진면</td>\n",
              "      <td>2023-08-15 11:00</td>\n",
              "      <td>30.20</td>\n",
              "      <td>248.6</td>\n",
              "      <td>2.1</td>\n",
              "      <td>0</td>\n",
              "      <td>985.3</td>\n",
              "      <td>1003.60</td>\n",
              "      <td>72.0</td>\n",
              "    </tr>\n",
              "  </tbody>\n",
              "</table>\n",
              "</div>\n",
              "    <div class=\"colab-df-buttons\">\n",
              "\n",
              "  <div class=\"colab-df-container\">\n",
              "    <button class=\"colab-df-convert\" onclick=\"convertToInteractive('df-b0402f83-9695-4455-8017-2a72f8c8db5e')\"\n",
              "            title=\"Convert this dataframe to an interactive table.\"\n",
              "            style=\"display:none;\">\n",
              "\n",
              "  <svg xmlns=\"http://www.w3.org/2000/svg\" height=\"24px\" viewBox=\"0 -960 960 960\">\n",
              "    <path d=\"M120-120v-720h720v720H120Zm60-500h600v-160H180v160Zm220 220h160v-160H400v160Zm0 220h160v-160H400v160ZM180-400h160v-160H180v160Zm440 0h160v-160H620v160ZM180-180h160v-160H180v160Zm440 0h160v-160H620v160Z\"/>\n",
              "  </svg>\n",
              "    </button>\n",
              "\n",
              "  <style>\n",
              "    .colab-df-container {\n",
              "      display:flex;\n",
              "      gap: 12px;\n",
              "    }\n",
              "\n",
              "    .colab-df-convert {\n",
              "      background-color: #E8F0FE;\n",
              "      border: none;\n",
              "      border-radius: 50%;\n",
              "      cursor: pointer;\n",
              "      display: none;\n",
              "      fill: #1967D2;\n",
              "      height: 32px;\n",
              "      padding: 0 0 0 0;\n",
              "      width: 32px;\n",
              "    }\n",
              "\n",
              "    .colab-df-convert:hover {\n",
              "      background-color: #E2EBFA;\n",
              "      box-shadow: 0px 1px 2px rgba(60, 64, 67, 0.3), 0px 1px 3px 1px rgba(60, 64, 67, 0.15);\n",
              "      fill: #174EA6;\n",
              "    }\n",
              "\n",
              "    .colab-df-buttons div {\n",
              "      margin-bottom: 4px;\n",
              "    }\n",
              "\n",
              "    [theme=dark] .colab-df-convert {\n",
              "      background-color: #3B4455;\n",
              "      fill: #D2E3FC;\n",
              "    }\n",
              "\n",
              "    [theme=dark] .colab-df-convert:hover {\n",
              "      background-color: #434B5C;\n",
              "      box-shadow: 0px 1px 3px 1px rgba(0, 0, 0, 0.15);\n",
              "      filter: drop-shadow(0px 1px 2px rgba(0, 0, 0, 0.3));\n",
              "      fill: #FFFFFF;\n",
              "    }\n",
              "  </style>\n",
              "\n",
              "    <script>\n",
              "      const buttonEl =\n",
              "        document.querySelector('#df-b0402f83-9695-4455-8017-2a72f8c8db5e button.colab-df-convert');\n",
              "      buttonEl.style.display =\n",
              "        google.colab.kernel.accessAllowed ? 'block' : 'none';\n",
              "\n",
              "      async function convertToInteractive(key) {\n",
              "        const element = document.querySelector('#df-b0402f83-9695-4455-8017-2a72f8c8db5e');\n",
              "        const dataTable =\n",
              "          await google.colab.kernel.invokeFunction('convertToInteractive',\n",
              "                                                    [key], {});\n",
              "        if (!dataTable) return;\n",
              "\n",
              "        const docLinkHtml = 'Like what you see? Visit the ' +\n",
              "          '<a target=\"_blank\" href=https://colab.research.google.com/notebooks/data_table.ipynb>data table notebook</a>'\n",
              "          + ' to learn more about interactive tables.';\n",
              "        element.innerHTML = '';\n",
              "        dataTable['output_type'] = 'display_data';\n",
              "        await google.colab.output.renderOutput(dataTable, element);\n",
              "        const docLink = document.createElement('div');\n",
              "        docLink.innerHTML = docLinkHtml;\n",
              "        element.appendChild(docLink);\n",
              "      }\n",
              "    </script>\n",
              "  </div>\n",
              "\n",
              "\n",
              "<div id=\"df-47ad2644-b9d4-4e63-9258-44d7e2e6de20\">\n",
              "  <button class=\"colab-df-quickchart\" onclick=\"quickchart('df-47ad2644-b9d4-4e63-9258-44d7e2e6de20')\"\n",
              "            title=\"Suggest charts.\"\n",
              "            style=\"display:none;\">\n",
              "\n",
              "<svg xmlns=\"http://www.w3.org/2000/svg\" height=\"24px\"viewBox=\"0 0 24 24\"\n",
              "     width=\"24px\">\n",
              "    <g>\n",
              "        <path d=\"M19 3H5c-1.1 0-2 .9-2 2v14c0 1.1.9 2 2 2h14c1.1 0 2-.9 2-2V5c0-1.1-.9-2-2-2zM9 17H7v-7h2v7zm4 0h-2V7h2v10zm4 0h-2v-4h2v4z\"/>\n",
              "    </g>\n",
              "</svg>\n",
              "  </button>\n",
              "\n",
              "<style>\n",
              "  .colab-df-quickchart {\n",
              "      --bg-color: #E8F0FE;\n",
              "      --fill-color: #1967D2;\n",
              "      --hover-bg-color: #E2EBFA;\n",
              "      --hover-fill-color: #174EA6;\n",
              "      --disabled-fill-color: #AAA;\n",
              "      --disabled-bg-color: #DDD;\n",
              "  }\n",
              "\n",
              "  [theme=dark] .colab-df-quickchart {\n",
              "      --bg-color: #3B4455;\n",
              "      --fill-color: #D2E3FC;\n",
              "      --hover-bg-color: #434B5C;\n",
              "      --hover-fill-color: #FFFFFF;\n",
              "      --disabled-bg-color: #3B4455;\n",
              "      --disabled-fill-color: #666;\n",
              "  }\n",
              "\n",
              "  .colab-df-quickchart {\n",
              "    background-color: var(--bg-color);\n",
              "    border: none;\n",
              "    border-radius: 50%;\n",
              "    cursor: pointer;\n",
              "    display: none;\n",
              "    fill: var(--fill-color);\n",
              "    height: 32px;\n",
              "    padding: 0;\n",
              "    width: 32px;\n",
              "  }\n",
              "\n",
              "  .colab-df-quickchart:hover {\n",
              "    background-color: var(--hover-bg-color);\n",
              "    box-shadow: 0 1px 2px rgba(60, 64, 67, 0.3), 0 1px 3px 1px rgba(60, 64, 67, 0.15);\n",
              "    fill: var(--button-hover-fill-color);\n",
              "  }\n",
              "\n",
              "  .colab-df-quickchart-complete:disabled,\n",
              "  .colab-df-quickchart-complete:disabled:hover {\n",
              "    background-color: var(--disabled-bg-color);\n",
              "    fill: var(--disabled-fill-color);\n",
              "    box-shadow: none;\n",
              "  }\n",
              "\n",
              "  .colab-df-spinner {\n",
              "    border: 2px solid var(--fill-color);\n",
              "    border-color: transparent;\n",
              "    border-bottom-color: var(--fill-color);\n",
              "    animation:\n",
              "      spin 1s steps(1) infinite;\n",
              "  }\n",
              "\n",
              "  @keyframes spin {\n",
              "    0% {\n",
              "      border-color: transparent;\n",
              "      border-bottom-color: var(--fill-color);\n",
              "      border-left-color: var(--fill-color);\n",
              "    }\n",
              "    20% {\n",
              "      border-color: transparent;\n",
              "      border-left-color: var(--fill-color);\n",
              "      border-top-color: var(--fill-color);\n",
              "    }\n",
              "    30% {\n",
              "      border-color: transparent;\n",
              "      border-left-color: var(--fill-color);\n",
              "      border-top-color: var(--fill-color);\n",
              "      border-right-color: var(--fill-color);\n",
              "    }\n",
              "    40% {\n",
              "      border-color: transparent;\n",
              "      border-right-color: var(--fill-color);\n",
              "      border-top-color: var(--fill-color);\n",
              "    }\n",
              "    60% {\n",
              "      border-color: transparent;\n",
              "      border-right-color: var(--fill-color);\n",
              "    }\n",
              "    80% {\n",
              "      border-color: transparent;\n",
              "      border-right-color: var(--fill-color);\n",
              "      border-bottom-color: var(--fill-color);\n",
              "    }\n",
              "    90% {\n",
              "      border-color: transparent;\n",
              "      border-bottom-color: var(--fill-color);\n",
              "    }\n",
              "  }\n",
              "</style>\n",
              "\n",
              "  <script>\n",
              "    async function quickchart(key) {\n",
              "      const quickchartButtonEl =\n",
              "        document.querySelector('#' + key + ' button');\n",
              "      quickchartButtonEl.disabled = true;  // To prevent multiple clicks.\n",
              "      quickchartButtonEl.classList.add('colab-df-spinner');\n",
              "      try {\n",
              "        const charts = await google.colab.kernel.invokeFunction(\n",
              "            'suggestCharts', [key], {});\n",
              "      } catch (error) {\n",
              "        console.error('Error during call to suggestCharts:', error);\n",
              "      }\n",
              "      quickchartButtonEl.classList.remove('colab-df-spinner');\n",
              "      quickchartButtonEl.classList.add('colab-df-quickchart-complete');\n",
              "    }\n",
              "    (() => {\n",
              "      let quickchartButtonEl =\n",
              "        document.querySelector('#df-47ad2644-b9d4-4e63-9258-44d7e2e6de20 button');\n",
              "      quickchartButtonEl.style.display =\n",
              "        google.colab.kernel.accessAllowed ? 'block' : 'none';\n",
              "    })();\n",
              "  </script>\n",
              "</div>\n",
              "    </div>\n",
              "  </div>\n"
            ]
          },
          "metadata": {},
          "execution_count": 37
        }
      ]
    },
    {
      "cell_type": "code",
      "source": [
        "TEST.to_csv('test72-1.csv')"
      ],
      "metadata": {
        "id": "iqeX2LiwHmXC"
      },
      "execution_count": null,
      "outputs": []
    },
    {
      "cell_type": "markdown",
      "source": [
        "# 2023 테스트"
      ],
      "metadata": {
        "id": "CIxjIeWnaPsq"
      }
    },
    {
      "cell_type": "code",
      "source": [
        "t1 = pd.read_csv('강진면.csv')"
      ],
      "metadata": {
        "id": "BcTX8jZ3aVxm"
      },
      "execution_count": null,
      "outputs": []
    },
    {
      "cell_type": "code",
      "source": [
        "t2 = pd.read_csv('신덕.csv')"
      ],
      "metadata": {
        "id": "qObzVpfMaVxn"
      },
      "execution_count": null,
      "outputs": []
    },
    {
      "cell_type": "code",
      "source": [
        "t3 = pd.read_csv('곡성.csv')"
      ],
      "metadata": {
        "id": "ESjuUOgTaVxo"
      },
      "execution_count": null,
      "outputs": []
    },
    {
      "cell_type": "code",
      "source": [
        "t1"
      ],
      "metadata": {
        "colab": {
          "base_uri": "https://localhost:8080/",
          "height": 615
        },
        "id": "47FK9ntgbVnz",
        "outputId": "212e4ca8-ed8a-4642-b05b-ff4dd51bb1b3"
      },
      "execution_count": null,
      "outputs": [
        {
          "output_type": "execute_result",
          "data": {
            "text/plain": [
              "       지점  지점명                일시  기온(°C)  풍향(deg)  풍속(m/s)  강수량(mm)  \\\n",
              "0     762  강진면  2023-01-01 00:00    -5.7     75.0      0.8      0.0   \n",
              "1     762  강진면  2023-01-01 01:00    -6.0     74.0      1.0      0.0   \n",
              "2     762  강진면  2023-01-01 02:00    -6.3     76.5      1.5      0.0   \n",
              "3     762  강진면  2023-01-01 03:00    -6.9     90.5      1.0      0.0   \n",
              "4     762  강진면  2023-01-01 04:00    -7.2     73.4      0.5      0.0   \n",
              "...   ...  ...               ...     ...      ...      ...      ...   \n",
              "6115  762  강진면  2023-09-12 19:00    22.5    255.7      2.1      0.0   \n",
              "6116  762  강진면  2023-09-12 20:00    21.5    279.3      1.5      0.0   \n",
              "6117  762  강진면  2023-09-12 21:00    21.2    278.0      1.5      0.0   \n",
              "6118  762  강진면  2023-09-12 22:00    21.3    255.0      1.4      0.0   \n",
              "6119  762  강진면  2023-09-12 23:00    21.2    270.9      1.1      0.0   \n",
              "\n",
              "      현지기압(hPa)  해면기압(hPa)  습도(%)  \n",
              "0        1010.7     1032.2   97.0  \n",
              "1        1010.4     1031.9   98.0  \n",
              "2        1010.2     1031.7   97.0  \n",
              "3        1010.3     1031.9   96.0  \n",
              "4        1009.9     1031.5   96.0  \n",
              "...         ...        ...    ...  \n",
              "6115      990.2     1009.0   89.0  \n",
              "6116      991.2     1010.1   93.0  \n",
              "6117      991.9     1010.9   94.0  \n",
              "6118      992.1     1011.1   95.0  \n",
              "6119      991.7     1010.7   96.0  \n",
              "\n",
              "[6120 rows x 10 columns]"
            ],
            "text/html": [
              "\n",
              "  <div id=\"df-bda2e012-a977-46fc-930a-8377b3b43425\" class=\"colab-df-container\">\n",
              "    <div>\n",
              "<style scoped>\n",
              "    .dataframe tbody tr th:only-of-type {\n",
              "        vertical-align: middle;\n",
              "    }\n",
              "\n",
              "    .dataframe tbody tr th {\n",
              "        vertical-align: top;\n",
              "    }\n",
              "\n",
              "    .dataframe thead th {\n",
              "        text-align: right;\n",
              "    }\n",
              "</style>\n",
              "<table border=\"1\" class=\"dataframe\">\n",
              "  <thead>\n",
              "    <tr style=\"text-align: right;\">\n",
              "      <th></th>\n",
              "      <th>지점</th>\n",
              "      <th>지점명</th>\n",
              "      <th>일시</th>\n",
              "      <th>기온(°C)</th>\n",
              "      <th>풍향(deg)</th>\n",
              "      <th>풍속(m/s)</th>\n",
              "      <th>강수량(mm)</th>\n",
              "      <th>현지기압(hPa)</th>\n",
              "      <th>해면기압(hPa)</th>\n",
              "      <th>습도(%)</th>\n",
              "    </tr>\n",
              "  </thead>\n",
              "  <tbody>\n",
              "    <tr>\n",
              "      <th>0</th>\n",
              "      <td>762</td>\n",
              "      <td>강진면</td>\n",
              "      <td>2023-01-01 00:00</td>\n",
              "      <td>-5.7</td>\n",
              "      <td>75.0</td>\n",
              "      <td>0.8</td>\n",
              "      <td>0.0</td>\n",
              "      <td>1010.7</td>\n",
              "      <td>1032.2</td>\n",
              "      <td>97.0</td>\n",
              "    </tr>\n",
              "    <tr>\n",
              "      <th>1</th>\n",
              "      <td>762</td>\n",
              "      <td>강진면</td>\n",
              "      <td>2023-01-01 01:00</td>\n",
              "      <td>-6.0</td>\n",
              "      <td>74.0</td>\n",
              "      <td>1.0</td>\n",
              "      <td>0.0</td>\n",
              "      <td>1010.4</td>\n",
              "      <td>1031.9</td>\n",
              "      <td>98.0</td>\n",
              "    </tr>\n",
              "    <tr>\n",
              "      <th>2</th>\n",
              "      <td>762</td>\n",
              "      <td>강진면</td>\n",
              "      <td>2023-01-01 02:00</td>\n",
              "      <td>-6.3</td>\n",
              "      <td>76.5</td>\n",
              "      <td>1.5</td>\n",
              "      <td>0.0</td>\n",
              "      <td>1010.2</td>\n",
              "      <td>1031.7</td>\n",
              "      <td>97.0</td>\n",
              "    </tr>\n",
              "    <tr>\n",
              "      <th>3</th>\n",
              "      <td>762</td>\n",
              "      <td>강진면</td>\n",
              "      <td>2023-01-01 03:00</td>\n",
              "      <td>-6.9</td>\n",
              "      <td>90.5</td>\n",
              "      <td>1.0</td>\n",
              "      <td>0.0</td>\n",
              "      <td>1010.3</td>\n",
              "      <td>1031.9</td>\n",
              "      <td>96.0</td>\n",
              "    </tr>\n",
              "    <tr>\n",
              "      <th>4</th>\n",
              "      <td>762</td>\n",
              "      <td>강진면</td>\n",
              "      <td>2023-01-01 04:00</td>\n",
              "      <td>-7.2</td>\n",
              "      <td>73.4</td>\n",
              "      <td>0.5</td>\n",
              "      <td>0.0</td>\n",
              "      <td>1009.9</td>\n",
              "      <td>1031.5</td>\n",
              "      <td>96.0</td>\n",
              "    </tr>\n",
              "    <tr>\n",
              "      <th>...</th>\n",
              "      <td>...</td>\n",
              "      <td>...</td>\n",
              "      <td>...</td>\n",
              "      <td>...</td>\n",
              "      <td>...</td>\n",
              "      <td>...</td>\n",
              "      <td>...</td>\n",
              "      <td>...</td>\n",
              "      <td>...</td>\n",
              "      <td>...</td>\n",
              "    </tr>\n",
              "    <tr>\n",
              "      <th>6115</th>\n",
              "      <td>762</td>\n",
              "      <td>강진면</td>\n",
              "      <td>2023-09-12 19:00</td>\n",
              "      <td>22.5</td>\n",
              "      <td>255.7</td>\n",
              "      <td>2.1</td>\n",
              "      <td>0.0</td>\n",
              "      <td>990.2</td>\n",
              "      <td>1009.0</td>\n",
              "      <td>89.0</td>\n",
              "    </tr>\n",
              "    <tr>\n",
              "      <th>6116</th>\n",
              "      <td>762</td>\n",
              "      <td>강진면</td>\n",
              "      <td>2023-09-12 20:00</td>\n",
              "      <td>21.5</td>\n",
              "      <td>279.3</td>\n",
              "      <td>1.5</td>\n",
              "      <td>0.0</td>\n",
              "      <td>991.2</td>\n",
              "      <td>1010.1</td>\n",
              "      <td>93.0</td>\n",
              "    </tr>\n",
              "    <tr>\n",
              "      <th>6117</th>\n",
              "      <td>762</td>\n",
              "      <td>강진면</td>\n",
              "      <td>2023-09-12 21:00</td>\n",
              "      <td>21.2</td>\n",
              "      <td>278.0</td>\n",
              "      <td>1.5</td>\n",
              "      <td>0.0</td>\n",
              "      <td>991.9</td>\n",
              "      <td>1010.9</td>\n",
              "      <td>94.0</td>\n",
              "    </tr>\n",
              "    <tr>\n",
              "      <th>6118</th>\n",
              "      <td>762</td>\n",
              "      <td>강진면</td>\n",
              "      <td>2023-09-12 22:00</td>\n",
              "      <td>21.3</td>\n",
              "      <td>255.0</td>\n",
              "      <td>1.4</td>\n",
              "      <td>0.0</td>\n",
              "      <td>992.1</td>\n",
              "      <td>1011.1</td>\n",
              "      <td>95.0</td>\n",
              "    </tr>\n",
              "    <tr>\n",
              "      <th>6119</th>\n",
              "      <td>762</td>\n",
              "      <td>강진면</td>\n",
              "      <td>2023-09-12 23:00</td>\n",
              "      <td>21.2</td>\n",
              "      <td>270.9</td>\n",
              "      <td>1.1</td>\n",
              "      <td>0.0</td>\n",
              "      <td>991.7</td>\n",
              "      <td>1010.7</td>\n",
              "      <td>96.0</td>\n",
              "    </tr>\n",
              "  </tbody>\n",
              "</table>\n",
              "<p>6120 rows × 10 columns</p>\n",
              "</div>\n",
              "    <div class=\"colab-df-buttons\">\n",
              "\n",
              "  <div class=\"colab-df-container\">\n",
              "    <button class=\"colab-df-convert\" onclick=\"convertToInteractive('df-bda2e012-a977-46fc-930a-8377b3b43425')\"\n",
              "            title=\"Convert this dataframe to an interactive table.\"\n",
              "            style=\"display:none;\">\n",
              "\n",
              "  <svg xmlns=\"http://www.w3.org/2000/svg\" height=\"24px\" viewBox=\"0 -960 960 960\">\n",
              "    <path d=\"M120-120v-720h720v720H120Zm60-500h600v-160H180v160Zm220 220h160v-160H400v160Zm0 220h160v-160H400v160ZM180-400h160v-160H180v160Zm440 0h160v-160H620v160ZM180-180h160v-160H180v160Zm440 0h160v-160H620v160Z\"/>\n",
              "  </svg>\n",
              "    </button>\n",
              "\n",
              "  <style>\n",
              "    .colab-df-container {\n",
              "      display:flex;\n",
              "      gap: 12px;\n",
              "    }\n",
              "\n",
              "    .colab-df-convert {\n",
              "      background-color: #E8F0FE;\n",
              "      border: none;\n",
              "      border-radius: 50%;\n",
              "      cursor: pointer;\n",
              "      display: none;\n",
              "      fill: #1967D2;\n",
              "      height: 32px;\n",
              "      padding: 0 0 0 0;\n",
              "      width: 32px;\n",
              "    }\n",
              "\n",
              "    .colab-df-convert:hover {\n",
              "      background-color: #E2EBFA;\n",
              "      box-shadow: 0px 1px 2px rgba(60, 64, 67, 0.3), 0px 1px 3px 1px rgba(60, 64, 67, 0.15);\n",
              "      fill: #174EA6;\n",
              "    }\n",
              "\n",
              "    .colab-df-buttons div {\n",
              "      margin-bottom: 4px;\n",
              "    }\n",
              "\n",
              "    [theme=dark] .colab-df-convert {\n",
              "      background-color: #3B4455;\n",
              "      fill: #D2E3FC;\n",
              "    }\n",
              "\n",
              "    [theme=dark] .colab-df-convert:hover {\n",
              "      background-color: #434B5C;\n",
              "      box-shadow: 0px 1px 3px 1px rgba(0, 0, 0, 0.15);\n",
              "      filter: drop-shadow(0px 1px 2px rgba(0, 0, 0, 0.3));\n",
              "      fill: #FFFFFF;\n",
              "    }\n",
              "  </style>\n",
              "\n",
              "    <script>\n",
              "      const buttonEl =\n",
              "        document.querySelector('#df-bda2e012-a977-46fc-930a-8377b3b43425 button.colab-df-convert');\n",
              "      buttonEl.style.display =\n",
              "        google.colab.kernel.accessAllowed ? 'block' : 'none';\n",
              "\n",
              "      async function convertToInteractive(key) {\n",
              "        const element = document.querySelector('#df-bda2e012-a977-46fc-930a-8377b3b43425');\n",
              "        const dataTable =\n",
              "          await google.colab.kernel.invokeFunction('convertToInteractive',\n",
              "                                                    [key], {});\n",
              "        if (!dataTable) return;\n",
              "\n",
              "        const docLinkHtml = 'Like what you see? Visit the ' +\n",
              "          '<a target=\"_blank\" href=https://colab.research.google.com/notebooks/data_table.ipynb>data table notebook</a>'\n",
              "          + ' to learn more about interactive tables.';\n",
              "        element.innerHTML = '';\n",
              "        dataTable['output_type'] = 'display_data';\n",
              "        await google.colab.output.renderOutput(dataTable, element);\n",
              "        const docLink = document.createElement('div');\n",
              "        docLink.innerHTML = docLinkHtml;\n",
              "        element.appendChild(docLink);\n",
              "      }\n",
              "    </script>\n",
              "  </div>\n",
              "\n",
              "\n",
              "<div id=\"df-dd9d7009-14bd-4e64-8952-0dc96400d67a\">\n",
              "  <button class=\"colab-df-quickchart\" onclick=\"quickchart('df-dd9d7009-14bd-4e64-8952-0dc96400d67a')\"\n",
              "            title=\"Suggest charts.\"\n",
              "            style=\"display:none;\">\n",
              "\n",
              "<svg xmlns=\"http://www.w3.org/2000/svg\" height=\"24px\"viewBox=\"0 0 24 24\"\n",
              "     width=\"24px\">\n",
              "    <g>\n",
              "        <path d=\"M19 3H5c-1.1 0-2 .9-2 2v14c0 1.1.9 2 2 2h14c1.1 0 2-.9 2-2V5c0-1.1-.9-2-2-2zM9 17H7v-7h2v7zm4 0h-2V7h2v10zm4 0h-2v-4h2v4z\"/>\n",
              "    </g>\n",
              "</svg>\n",
              "  </button>\n",
              "\n",
              "<style>\n",
              "  .colab-df-quickchart {\n",
              "      --bg-color: #E8F0FE;\n",
              "      --fill-color: #1967D2;\n",
              "      --hover-bg-color: #E2EBFA;\n",
              "      --hover-fill-color: #174EA6;\n",
              "      --disabled-fill-color: #AAA;\n",
              "      --disabled-bg-color: #DDD;\n",
              "  }\n",
              "\n",
              "  [theme=dark] .colab-df-quickchart {\n",
              "      --bg-color: #3B4455;\n",
              "      --fill-color: #D2E3FC;\n",
              "      --hover-bg-color: #434B5C;\n",
              "      --hover-fill-color: #FFFFFF;\n",
              "      --disabled-bg-color: #3B4455;\n",
              "      --disabled-fill-color: #666;\n",
              "  }\n",
              "\n",
              "  .colab-df-quickchart {\n",
              "    background-color: var(--bg-color);\n",
              "    border: none;\n",
              "    border-radius: 50%;\n",
              "    cursor: pointer;\n",
              "    display: none;\n",
              "    fill: var(--fill-color);\n",
              "    height: 32px;\n",
              "    padding: 0;\n",
              "    width: 32px;\n",
              "  }\n",
              "\n",
              "  .colab-df-quickchart:hover {\n",
              "    background-color: var(--hover-bg-color);\n",
              "    box-shadow: 0 1px 2px rgba(60, 64, 67, 0.3), 0 1px 3px 1px rgba(60, 64, 67, 0.15);\n",
              "    fill: var(--button-hover-fill-color);\n",
              "  }\n",
              "\n",
              "  .colab-df-quickchart-complete:disabled,\n",
              "  .colab-df-quickchart-complete:disabled:hover {\n",
              "    background-color: var(--disabled-bg-color);\n",
              "    fill: var(--disabled-fill-color);\n",
              "    box-shadow: none;\n",
              "  }\n",
              "\n",
              "  .colab-df-spinner {\n",
              "    border: 2px solid var(--fill-color);\n",
              "    border-color: transparent;\n",
              "    border-bottom-color: var(--fill-color);\n",
              "    animation:\n",
              "      spin 1s steps(1) infinite;\n",
              "  }\n",
              "\n",
              "  @keyframes spin {\n",
              "    0% {\n",
              "      border-color: transparent;\n",
              "      border-bottom-color: var(--fill-color);\n",
              "      border-left-color: var(--fill-color);\n",
              "    }\n",
              "    20% {\n",
              "      border-color: transparent;\n",
              "      border-left-color: var(--fill-color);\n",
              "      border-top-color: var(--fill-color);\n",
              "    }\n",
              "    30% {\n",
              "      border-color: transparent;\n",
              "      border-left-color: var(--fill-color);\n",
              "      border-top-color: var(--fill-color);\n",
              "      border-right-color: var(--fill-color);\n",
              "    }\n",
              "    40% {\n",
              "      border-color: transparent;\n",
              "      border-right-color: var(--fill-color);\n",
              "      border-top-color: var(--fill-color);\n",
              "    }\n",
              "    60% {\n",
              "      border-color: transparent;\n",
              "      border-right-color: var(--fill-color);\n",
              "    }\n",
              "    80% {\n",
              "      border-color: transparent;\n",
              "      border-right-color: var(--fill-color);\n",
              "      border-bottom-color: var(--fill-color);\n",
              "    }\n",
              "    90% {\n",
              "      border-color: transparent;\n",
              "      border-bottom-color: var(--fill-color);\n",
              "    }\n",
              "  }\n",
              "</style>\n",
              "\n",
              "  <script>\n",
              "    async function quickchart(key) {\n",
              "      const quickchartButtonEl =\n",
              "        document.querySelector('#' + key + ' button');\n",
              "      quickchartButtonEl.disabled = true;  // To prevent multiple clicks.\n",
              "      quickchartButtonEl.classList.add('colab-df-spinner');\n",
              "      try {\n",
              "        const charts = await google.colab.kernel.invokeFunction(\n",
              "            'suggestCharts', [key], {});\n",
              "      } catch (error) {\n",
              "        console.error('Error during call to suggestCharts:', error);\n",
              "      }\n",
              "      quickchartButtonEl.classList.remove('colab-df-spinner');\n",
              "      quickchartButtonEl.classList.add('colab-df-quickchart-complete');\n",
              "    }\n",
              "    (() => {\n",
              "      let quickchartButtonEl =\n",
              "        document.querySelector('#df-dd9d7009-14bd-4e64-8952-0dc96400d67a button');\n",
              "      quickchartButtonEl.style.display =\n",
              "        google.colab.kernel.accessAllowed ? 'block' : 'none';\n",
              "    })();\n",
              "  </script>\n",
              "</div>\n",
              "    </div>\n",
              "  </div>\n"
            ]
          },
          "metadata": {},
          "execution_count": 126
        }
      ]
    },
    {
      "cell_type": "code",
      "source": [
        "from keras.models import load_model\n",
        "\n",
        "model_filename = 'model_48_cnn.h5'\n",
        "\n",
        "loaded_model = load_model(model_filename)"
      ],
      "metadata": {
        "id": "98kxKX-1aVxp"
      },
      "execution_count": null,
      "outputs": []
    },
    {
      "cell_type": "code",
      "source": [
        "from pickle import load\n",
        "\n",
        "load_minmax_scaler = load(open('48_cnn_scaler.pkl', 'rb'))"
      ],
      "metadata": {
        "id": "UkaFcVI1aVxp"
      },
      "execution_count": null,
      "outputs": []
    },
    {
      "cell_type": "code",
      "source": [
        "load_minmax_scaler_water = load(open('48_cnn_water_scaler.pkl', 'rb'))"
      ],
      "metadata": {
        "id": "gVqpKBzIaVxp"
      },
      "execution_count": null,
      "outputs": []
    },
    {
      "cell_type": "markdown",
      "source": [
        "\n",
        "\n",
        "---\n",
        "\n"
      ],
      "metadata": {
        "id": "m3wGDtyuafgZ"
      }
    },
    {
      "cell_type": "code",
      "source": [
        "tw = pd.read_csv('가탄교수위48.csv')"
      ],
      "metadata": {
        "id": "wx1N4iCMaVxo"
      },
      "execution_count": null,
      "outputs": []
    },
    {
      "cell_type": "code",
      "source": [
        "test_w = tw[[\"수위\"]].values"
      ],
      "metadata": {
        "id": "JWbAAEvBaVxo"
      },
      "execution_count": null,
      "outputs": []
    },
    {
      "cell_type": "markdown",
      "source": [
        "## 데이터 전처리"
      ],
      "metadata": {
        "id": "SRBDlY_aaeHA"
      }
    },
    {
      "cell_type": "code",
      "source": [
        "features = ['기온(°C)', '풍향(deg)', '풍속(m/s)', '강수량(mm)', '습도(%)']"
      ],
      "metadata": {
        "id": "lbM2NUYdaeHA"
      },
      "execution_count": null,
      "outputs": []
    },
    {
      "cell_type": "code",
      "source": [
        "test_t1 = t1[features].values\n",
        "test_t2 = t2[features].values\n",
        "test_t3 = t3[features].values"
      ],
      "metadata": {
        "id": "rcQ3x3PdaeHA"
      },
      "execution_count": null,
      "outputs": []
    },
    {
      "cell_type": "code",
      "source": [
        "test_df1_z = test_t1\n",
        "test_df2_z = test_t2\n",
        "test_df3_z = test_t3"
      ],
      "metadata": {
        "id": "LDVaeSGt_Kdx"
      },
      "execution_count": null,
      "outputs": []
    },
    {
      "cell_type": "markdown",
      "source": [
        "### 정규화"
      ],
      "metadata": {
        "id": "bkHJxSHJaeHB"
      }
    },
    {
      "cell_type": "code",
      "source": [
        "# 상류 하천 데이터 정규화\n",
        "test_df1_z = load_minmax_scaler.fit_transform(test_t1)\n",
        "test_df2_z = load_minmax_scaler.fit_transform(test_t2)\n",
        "test_df3_z = load_minmax_scaler.fit_transform(test_t3)"
      ],
      "metadata": {
        "id": "nKfStKx0aeHB"
      },
      "execution_count": null,
      "outputs": []
    },
    {
      "cell_type": "code",
      "source": [
        "time_steps = 48\n",
        "\n",
        "new_data = []\n",
        "\n",
        "for i in range(len(test_df1_z) - time_steps + 1):\n",
        "    batch = test_df1_z[i:i+time_steps]\n",
        "    new_data.append(batch)\n",
        "\n",
        "test_df1_re = np.array(new_data)"
      ],
      "metadata": {
        "id": "17RntGNeaeHB"
      },
      "execution_count": null,
      "outputs": []
    },
    {
      "cell_type": "code",
      "source": [
        "test_df1_re.shape"
      ],
      "metadata": {
        "colab": {
          "base_uri": "https://localhost:8080/"
        },
        "outputId": "16edbdd1-b5a9-45f2-fe0a-19625ce19b3d",
        "id": "QB6ekenGaeHB"
      },
      "execution_count": null,
      "outputs": [
        {
          "output_type": "execute_result",
          "data": {
            "text/plain": [
              "(6073, 48, 5)"
            ]
          },
          "metadata": {},
          "execution_count": 134
        }
      ]
    },
    {
      "cell_type": "code",
      "source": [
        "new_data = []\n",
        "\n",
        "for i in range(len(test_df2_z) - time_steps + 1):\n",
        "    batch = test_df2_z[i:i+time_steps]\n",
        "    new_data.append(batch)\n",
        "\n",
        "test_df2_re = np.array(new_data)"
      ],
      "metadata": {
        "id": "4qVriEj4aeHC"
      },
      "execution_count": null,
      "outputs": []
    },
    {
      "cell_type": "code",
      "source": [
        "new_data = []\n",
        "\n",
        "for i in range(len(test_df3_z) - time_steps + 1):\n",
        "    batch = test_df3_z[i:i+time_steps]\n",
        "    new_data.append(batch)\n",
        "\n",
        "test_df3_re = np.array(new_data)"
      ],
      "metadata": {
        "id": "v4Du1eqgaeHC"
      },
      "execution_count": null,
      "outputs": []
    },
    {
      "cell_type": "markdown",
      "source": [
        "### 결과"
      ],
      "metadata": {
        "id": "JhWB5iqjaeHC"
      }
    },
    {
      "cell_type": "code",
      "source": [
        "predictions = loaded_model.predict([test_df1_re, test_df2_re, test_df3_re])"
      ],
      "metadata": {
        "colab": {
          "base_uri": "https://localhost:8080/"
        },
        "outputId": "5eaa1d72-a0e6-4f8c-f0e7-b9b28b46757e",
        "id": "P8gP16BLaeHD"
      },
      "execution_count": null,
      "outputs": [
        {
          "output_type": "stream",
          "name": "stdout",
          "text": [
            "190/190 [==============================] - 1s 5ms/step\n"
          ]
        }
      ]
    },
    {
      "cell_type": "code",
      "source": [
        "predictions"
      ],
      "metadata": {
        "colab": {
          "base_uri": "https://localhost:8080/"
        },
        "id": "BnQHNj1JaeHD",
        "outputId": "aeeaeea5-3a95-4547-f283-5093ad4ca22a"
      },
      "execution_count": null,
      "outputs": [
        {
          "output_type": "execute_result",
          "data": {
            "text/plain": [
              "array([[0.59753716],\n",
              "       [0.59753716],\n",
              "       [0.59753716],\n",
              "       ...,\n",
              "       [0.73778194],\n",
              "       [0.7039182 ],\n",
              "       [0.7323178 ]], dtype=float32)"
            ]
          },
          "metadata": {},
          "execution_count": 138
        }
      ]
    },
    {
      "cell_type": "code",
      "source": [
        "predictions_scaler = load_minmax_scaler_water.inverse_transform(predictions)"
      ],
      "metadata": {
        "id": "wiKFZQDNaeHD"
      },
      "execution_count": null,
      "outputs": []
    },
    {
      "cell_type": "code",
      "source": [
        "predictions_scaler"
      ],
      "metadata": {
        "colab": {
          "base_uri": "https://localhost:8080/"
        },
        "outputId": "ea3cec9c-b512-42b5-d4d4-28a6b14b34d9",
        "id": "Nhy2uihwaeHD"
      },
      "execution_count": null,
      "outputs": [
        {
          "output_type": "execute_result",
          "data": {
            "text/plain": [
              "array([[0.5445759 ],\n",
              "       [0.56593   ],\n",
              "       [0.55068153],\n",
              "       ...,\n",
              "       [0.76530606],\n",
              "       [0.7383812 ],\n",
              "       [0.71843237]], dtype=float32)"
            ]
          },
          "metadata": {},
          "execution_count": 19
        }
      ]
    },
    {
      "cell_type": "code",
      "source": [
        "predictions_scaler.shape"
      ],
      "metadata": {
        "colab": {
          "base_uri": "https://localhost:8080/"
        },
        "outputId": "8119d6d2-2366-4984-9cb0-43805fa16999",
        "id": "Kx-a6BC4aeHE"
      },
      "execution_count": null,
      "outputs": [
        {
          "output_type": "execute_result",
          "data": {
            "text/plain": [
              "(6073, 1)"
            ]
          },
          "metadata": {},
          "execution_count": 20
        }
      ]
    },
    {
      "cell_type": "code",
      "source": [
        "test_w"
      ],
      "metadata": {
        "colab": {
          "base_uri": "https://localhost:8080/"
        },
        "outputId": "735b8255-3fd9-432b-b4e3-37c7bf78a5ff",
        "id": "MvfOLUjwaeHE"
      },
      "execution_count": null,
      "outputs": [
        {
          "output_type": "execute_result",
          "data": {
            "text/plain": [
              "array([[0.6 ],\n",
              "       [0.6 ],\n",
              "       [0.6 ],\n",
              "       ...,\n",
              "       [0.63],\n",
              "       [0.63],\n",
              "       [0.63]])"
            ]
          },
          "metadata": {},
          "execution_count": 139
        }
      ]
    },
    {
      "cell_type": "code",
      "source": [
        "import matplotlib.pyplot as plt\n",
        "\n",
        "plt.figure(figsize=(10, 6))\n",
        "\n",
        "plt.plot(predictions_scaler, label='Predicted', color = 'b', alpha=0.7)\n",
        "plt.plot(test_w, label='Actual', color = 'y', alpha=0.7)\n",
        "\n",
        "plt.xlabel('Time Step')\n",
        "plt.ylabel('Water Level')\n",
        "plt.title('Predicted vs Actual')\n",
        "plt.legend()\n",
        "plt.show()"
      ],
      "metadata": {
        "colab": {
          "base_uri": "https://localhost:8080/",
          "height": 564
        },
        "outputId": "243359dd-d44f-4132-e47c-e335a3ee5d39",
        "id": "-GV196L8bTLA"
      },
      "execution_count": null,
      "outputs": [
        {
          "output_type": "display_data",
          "data": {
            "text/plain": [
              "<Figure size 1000x600 with 1 Axes>"
            ],
            "image/png": "[encoded data removed]"
          },
          "metadata": {}
        }
      ]
    },
    {
      "cell_type": "code",
      "source": [
        "# RMSE\n",
        "rmse = np.sqrt(((predictions_scaler - test_w) ** 2).mean())\n",
        "\n",
        "# MAE\n",
        "mae = np.abs(predictions_scaler - test_w).mean()\n",
        "\n",
        "print(\"RMSE:\", rmse)\n",
        "print(\"MAE:\", mae)"
      ],
      "metadata": {
        "colab": {
          "base_uri": "https://localhost:8080/"
        },
        "outputId": "9523e647-7069-444b-e312-de586c668dd9",
        "id": "28PzxdaSbTLB"
      },
      "execution_count": null,
      "outputs": [
        {
          "output_type": "stream",
          "name": "stdout",
          "text": [
            "RMSE: 0.16487657497023547\n",
            "MAE: 0.10629769117322212\n"
          ]
        }
      ]
    }
  ]
}